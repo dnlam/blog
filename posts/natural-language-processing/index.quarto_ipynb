{
  "cells": [
    {
      "cell_type": "markdown",
      "metadata": {},
      "source": [
        "---\n",
        "title: \"Fine-tuning a Language Model for Sentiment Classification\"\n",
        "# author: \"Lam Dinh\"\n",
        "date: \"2022-03-29\"\n",
        "categories: [NLP, Language Model, Transfer Learning, Code]\n",
        "image: \"NLP.png\"\n",
        "pdf-engine: pdflatex\n",
        "format:\n",
        "  html:\n",
        "    code-fold: true\n",
        "    fig-cap-location: bottom\n",
        "    tbl-cap-location: top\n",
        "    toc: true\n",
        "    toc-depth: 3\n",
        "    toc-location: left\n",
        "    toc-title: \"Contents\"\n",
        "crossref:\n",
        "  fig-title: \"Figure\"\n",
        "  eq-title: \"Equation\"\n",
        "  tbl-title: \"Table\"\n",
        "jupyter: python3\n",
        "execute: \n",
        "  cache: true\n",
        "  freeze: auto\n",
        "---\n",
        "\n",
        "# Objectives\n",
        "In this blog, we are going to deep dive into *natural language processing* (NLP) using Deep Learning ([info](https://medium.com/dair-ai/deep-learning-for-nlp-an-overview-of-recent-trends-d0d8f40a776d)). Relying on the *pretrained language model*, we are going to fine-tune it to classify the reviews, which works as *sentiment analysis*, to categorize user reviews as bad/good ones. \n",
        "\n",
        "Based on a `language model` which has been trained before, we will apply *transfer learning* method for this task to transform ``prediction`` problem into `classification` problem.\n",
        "\n",
        "\n",
        "::: {.callout-note}\n",
        "## Language model\n",
        "In this blog post, we refer `language model` as a model which predicts the next word in a sentence given the previous words. It is a *self-supervised learning* task, where the model learns to predict the next word in a sentence based on the context provided by the preceding words.\n",
        ":::\n",
        "\n",
        "\n",
        "![Transfer learning workflow for movie classifier](https://github.com/fastai/fastbook/blob/master/images/att_00027.png?raw=1){#fig-transfer-learning fig-cap=\"Transfer learning workflow for movie classifier.\"}\n",
        "\n",
        "As shown in @fig-transfer-learning, we will start with the Wikipedia language model with a dataset which so-called [Wikitext103](https://blog.salesforceairesearch.com/the-wikitext-long-term-dependency-language-modeling-dataset/) ^[Merity, S., Xiong, C., Bradbury, J., & Socher, R. (2016). Pointer sentinel mixture models. arXiv preprint arXiv:1609.07843.]. Then, we are going to create an IMDb language model which predicts the next word of a movie reviews. This intermediate learning will help us to learn about IMDb-specific kinds of words like the name of actors and directors. Afterward, we end up with fine-tuning the language model for classification problem to classify reviews for a movie is good/bad. \n",
        "\n",
        "::: {.callout-tip}\n",
        "## Three-Step Transfer Learning Process\n",
        "1. **Get Pre-trained Model**: Clone [Wikitext103](https://blog.salesforceairesearch.com/the-wikitext-long-term-dependency-language-modeling-dataset/) language model\n",
        "2. **Domain Adaptation**: Fine-tune `Wikitext103` which is based on Wiki texts with IMDb movie reviews.  \n",
        "3. **Create Task-Specific**: Refine the fine-tuned model for sentiment classification.\n",
        ":::\n",
        "\n",
        "# Work with Pre-trained model\n",
        "## Text Preprocessing\n",
        "\n",
        "In order to build a language model with many complexities such as different sentence lengths in long documents, we can build a neural network model to deal with that issue. We apprehended that *categorical variables* (words) can be used as *independent variables* for a neural network (using *embedding matrix*).  Then, we could do the same thing with text.\n",
        "\n",
        "First, we concatenate all the documents in our dataset into a big long string and split it into words. Our *independent variables* will be the sequence of words starting with the first word and ending with the second last, and our *dependent variable* would be the sequence of words starting with the second word and ending with the last words. \n",
        "\n",
        "In our vocab, it might exist the very common words and new words. For *new words*, because we don't have any pre-knowledge, so we will just initialize the corresponding row with a *random vector*. \n",
        "\n",
        "These above steps can be listed as below:\n",
        "- **Tokenization**: convert the text into a list of words\n",
        "- **Numericalization**: make a list of all the unique words which appear, and convert each word into a number, by looking up its index in the vocab.\n",
        "- **Language model data loader**: handle creating dependant variables\n",
        "- **Language model**: handle input list by using *recurrent neural network*.\n",
        "\n",
        "### Tokenization\n",
        "Basically, *tokenization* converts the text into list of words. Firstly, we will grab our *IMDb dataset* and try out the tokenizer with all the text files."
      ],
      "id": "456889fd"
    },
    {
      "cell_type": "code",
      "metadata": {
        "message": false
      },
      "source": [
        "#| echo: true\n",
        "#| output: false\n",
        "#| eval: true\n",
        "#| warning: false\n",
        "from fastai.text.all import *\n",
        "path = untar_data(URLs.IMDB)\n",
        "# path.ls()"
      ],
      "id": "4b09d33f",
      "execution_count": null,
      "outputs": []
    },
    {
      "cell_type": "code",
      "metadata": {
        "message": false
      },
      "source": [
        "#| echo: true\n",
        "#| output: true\n",
        "#| eval: true\n",
        "#| warning: false\n",
        "files = get_text_files(path,folders=['train','test','unsup'])"
      ],
      "id": "5130dcea",
      "execution_count": null,
      "outputs": []
    },
    {
      "cell_type": "markdown",
      "metadata": {},
      "source": [
        "The default English word tokenizer that FastAI used is called `SpaCy` which uses a sophisticated rules engine for particular words and URLs. Rather than directly using ```SpacyTokenizer```, we are going to use ```WordTokenizer``` which always points to fastai's current default word tokenizer. "
      ],
      "id": "5eb312de"
    },
    {
      "cell_type": "code",
      "metadata": {
        "message": false
      },
      "source": [
        "#| echo: true\n",
        "#| output: true\n",
        "#| eval: true\n",
        "#| warning: false\n",
        "txt = files[0].open().read()\n",
        "txt[:60]\n",
        "spacy = WordTokenizer()\n",
        "toks = first(spacy([txt]))\n",
        "\n",
        "print(coll_repr(toks,30))"
      ],
      "id": "0adf3805",
      "execution_count": null,
      "outputs": []
    },
    {
      "cell_type": "markdown",
      "metadata": {},
      "source": [
        "#### Sub-word tokenization\n",
        "In additions to word tokenizer, sub-word tokenizer is really useful for languages which the spaces are not necessary for separations of components in a sentence (e.g: Chinese). To handle this, we will do 2 steps:\n",
        "- Analyze a corpus of documents to find the most commonly occurring groups of letters which form the vocab\n",
        "- Tokenize the corpus using this vocab of sub-word units\n",
        "\n",
        "For example, we will first look into 2000 movie reviews:"
      ],
      "id": "eb35c6b5"
    },
    {
      "cell_type": "code",
      "metadata": {
        "message": false
      },
      "source": [
        "#| echo: true\n",
        "#| output: true\n",
        "#| eval: true\n",
        "#| warning: false\n",
        "txts = L(o.open().read() for o in files[:2000])\n",
        "def subword(sz):\n",
        "    sp = SubwordTokenizer(vocab_sz=sz)\n",
        "    sp.setup(txts)\n",
        "    return ' '.join(first(sp([txt]))[:40])"
      ],
      "id": "0c0d2a37",
      "execution_count": null,
      "outputs": []
    },
    {
      "cell_type": "markdown",
      "metadata": {},
      "source": [
        "Then, the long underscore is when we replace the space and we can know where the sentences actually start and stop. "
      ],
      "id": "90047567"
    },
    {
      "cell_type": "code",
      "metadata": {
        "message": false
      },
      "source": [
        "#| echo: true\n",
        "#| output: true\n",
        "#| eval: true\n",
        "#| warning: false\n",
        "subword(10000)"
      ],
      "id": "ff245f64",
      "execution_count": null,
      "outputs": []
    },
    {
      "cell_type": "markdown",
      "metadata": {},
      "source": [
        "If we use a larger vocab, then most common English words will end up in the vocab themselves, and we will not need as many to represent a sentence. So, there is a compromise to take into account when choosing sub-word vocab: A larger vocab means more fewer tokens per sentence which means faster training, less memory, less state for the model to remember, but it comes to the downside of larger embedding matrix and requiring more data to learn.\n",
        "\n",
        "### Numericalization\n",
        "In order to numericalize the tokens, we need to call ```setup``` first to create the vocab. "
      ],
      "id": "6387aed4"
    },
    {
      "cell_type": "code",
      "metadata": {
        "message": false
      },
      "source": [
        "#| echo: true\n",
        "#| output: true\n",
        "#| eval: true\n",
        "#| warning: false\n",
        "tkn = Tokenizer(spacy)\n",
        "toks300 = txts[:300].map(tkn)\n",
        "toks300[0]\n",
        "num = Numericalize()\n",
        "num.setup(toks300)\n",
        "coll_repr(num.vocab,20)"
      ],
      "id": "0de39657",
      "execution_count": null,
      "outputs": []
    },
    {
      "cell_type": "markdown",
      "metadata": {},
      "source": [
        "The results return our rule tokens first, and it is followed by word appearances, in frequency order.\n",
        "Once we created our Numerical object, we can use it as if it were a function."
      ],
      "id": "3a5d6cb7"
    },
    {
      "cell_type": "code",
      "metadata": {},
      "source": [
        "nums = num(toks)[:20]\n",
        "nums"
      ],
      "id": "5bf5b1e9",
      "execution_count": null,
      "outputs": []
    },
    {
      "cell_type": "code",
      "metadata": {},
      "source": [
        "' '.join(num.vocab[o] for o in nums)"
      ],
      "id": "ee50fc7b",
      "execution_count": null,
      "outputs": []
    },
    {
      "cell_type": "markdown",
      "metadata": {},
      "source": [
        "Now, we have already had numerical data, we need to put them in batches for our model.\n",
        "\n",
        "### Processing Batches of texts\n",
        "Recalling the batch creation for the images when we have to reshape all the images to be same size before grouping them together in a single tensor for the efficient calculation purposes. It is a little bit different when dealing with texts because it is not desirable to resize the text length. Also, we want the model read texts in order so that it can efficiently predict what the next word is. This suggests that each new batch should begin precisely where the previous one left off.\n",
        "\n",
        "So, the text stream will be cut into a certain number of batches (with batch size) with preserving the order of the tokens. Because we want the model to read continuous rows of the text.\n",
        "\n",
        "To recap, at every epoch, we shuffle our collection of documents and concatenate them into a stream of tokens. Then, that stream will be cut into a batch of fixed size consecutive mini stream. The model will read these mini streams in order and it will produce the same activation.\n"
      ],
      "id": "970e658b"
    },
    {
      "cell_type": "code",
      "metadata": {},
      "source": [
        "nums300 = toks300.map(num)\n",
        "dl = LMDataLoader(nums300)\n",
        "x,y = first(dl)\n",
        "x.shape, y.shape"
      ],
      "id": "2b3701c2",
      "execution_count": null,
      "outputs": []
    },
    {
      "cell_type": "markdown",
      "metadata": {},
      "source": [
        "The batch size is 64x72. 64 is the default batch size and 72 is the default sequence length.\n",
        "\n",
        "## Create a language model using DataBlock\n",
        "By default, `fastai` handles tokenization and numericalization automatically when `TextBlock` is passed to `DataBlock`. "
      ],
      "id": "2c35c756"
    },
    {
      "cell_type": "code",
      "metadata": {},
      "source": [
        "get_imdb = partial(get_text_files, folders=['train', 'test', 'unsup'])\n",
        "\n",
        "dls_lm = DataBlock(\n",
        "blocks=TextBlock.from_folder(path, is_lm=True),\n",
        "get_items=get_imdb, splitter=RandomSplitter(0.1)).dataloaders(path, path=path, bs=128, seq_len=80)"
      ],
      "id": "367581d2",
      "execution_count": null,
      "outputs": []
    },
    {
      "cell_type": "markdown",
      "metadata": {},
      "source": [
        "# Fine-tuning the language model\n",
        "\n",
        "In this step, we are going to create a learner which is going to learn and predict the next word of a `movie review`. It will take the data from data loader, pretrained model (``AWD_LSTM``), apply dropout technique and take accuracy as well as perplexity metrics into account. Particularly, `accuracy` metric is used to evaluate how the correctness when the model tries to predict the next word, while `perplexity` metric is used to track the (exponential) value of cross-entropy loss."
      ],
      "id": "d763e67d"
    },
    {
      "cell_type": "code",
      "metadata": {},
      "source": [
        "learn = language_model_learner(\n",
        "dls_lm, AWD_LSTM, drop_mult=0.3,\n",
        "metrics=[accuracy, Perplexity()]).to_fp16()"
      ],
      "id": "3c595637",
      "execution_count": null,
      "outputs": []
    },
    {
      "cell_type": "markdown",
      "metadata": {},
      "source": [
        "Then, we will perform intermediate model training by fitting the model in one training cycle. "
      ],
      "id": "f6b14fcc"
    },
    {
      "cell_type": "code",
      "metadata": {
        "cache": true,
        "message": false
      },
      "source": [
        "#| echo: true\n",
        "#| output: true\n",
        "#| eval: true\n",
        "#| warning: false\n",
        "learn.fit_one_cycle(1,2e-2)"
      ],
      "id": "642a31e9",
      "execution_count": null,
      "outputs": []
    },
    {
      "cell_type": "markdown",
      "metadata": {},
      "source": [
        "After few minutes of training, we got the prediction accuracy which is around 29-30 percent.\n",
        "In order to reuse the pre-trained model, we can easily save the model with PyTorch. In this case, we are going to save only learnable parameters (i.e., weight and bias of a model via `state_dict`) and the updated parameters after one epoch training will be stored at `learn.path/'models'/'one_epoch_training_torch.pth'`."
      ],
      "id": "61b24904"
    },
    {
      "cell_type": "code",
      "metadata": {
        "cache": true
      },
      "source": [
        "# Option 1: Save with FastAI\n",
        "learn.save('one_epoch_training')\n",
        "\n",
        "# Option 2: Save with PyTorch\n",
        "# import torch\n",
        "# model_save_path = learn.path/'models'/'one_epoch_training_torch.pth'\n",
        "# torch.save(learn.model.state_dict(), model_save_path)\n",
        "# print(f\"Model saved to: {model_save_path}\")"
      ],
      "id": "2372e46e",
      "execution_count": null,
      "outputs": []
    },
    {
      "cell_type": "markdown",
      "metadata": {},
      "source": [
        "Once the trainable parameters are stored, we can later load those parameter to the compatible model for further training \n",
        "\n",
        "::: {.callout-important}\n",
        "## Implementation Note: PyTorch Model Loading\n",
        "When using `torch.load()`, be cautious about the `weights_only` parameter. For security reasons, consider using `weights_only=True` when loading models from untrusted sources to prevent execution of arbitrary code.\n",
        ":::"
      ],
      "id": "6b4c634c"
    },
    {
      "cell_type": "code",
      "metadata": {
        "cache": true
      },
      "source": [
        "# Option 1: Use FastAI's load method\n",
        "learn.load('one_epoch_training', strict=False)\n",
        "\n",
        "# Option 2: Use PyTorch to load the saved model\n",
        "# import torch\n",
        "# model_load_path = learn.path/'models'/'one_epoch_training_torch.pth'\n",
        "# state_dict = torch.load(model_load_path, weights_only=False)\n",
        "# learn.model.load_state_dict(state_dict, strict=False)\n",
        "# print(f\"Model loaded from: {model_load_path}\")"
      ],
      "id": "59a4a472",
      "execution_count": null,
      "outputs": []
    },
    {
      "cell_type": "markdown",
      "metadata": {},
      "source": [
        "After loading the pre-saved model, we can unfreeze it and train it for few more epochs. Then, let's see the improvement of the accuracy."
      ],
      "id": "316efa6f"
    },
    {
      "cell_type": "code",
      "metadata": {
        "cache": true,
        "message": false
      },
      "source": [
        "#| warning: false\n",
        "#| eval: true\n",
        "learn.unfreeze()\n",
        "\n",
        "learn.fit_one_cycle(10,2e-3)"
      ],
      "id": "49af7509",
      "execution_count": null,
      "outputs": []
    },
    {
      "cell_type": "markdown",
      "metadata": {},
      "source": [
        "As we can see from the training process, the accuracy has improved progressively. At the end of ten cycle training, the accuracy has increased to around 35 percent. \n",
        "To perform model finetuning, we save the model parameters except the last activation function layer. To do that, we can save it with `save_encoder`"
      ],
      "id": "219b953d"
    },
    {
      "cell_type": "code",
      "metadata": {
        "cache": true
      },
      "source": [
        "learn.save_encoder('finetuned')"
      ],
      "id": "d79447d3",
      "execution_count": null,
      "outputs": []
    },
    {
      "cell_type": "markdown",
      "metadata": {},
      "source": [
        "In this step, we have fine tuned the language model. Now, we will fine tune this language model using the IMDb sentiment labels.\n",
        "\n",
        "Although the model is pre-designed for next word prediction, we can also use this model to generate texts. For example, we can self-create a sentence with some words and we parses this sentence to the model to generate a new sentence which has one word longer than the parsed sentence. Leveraging this capability, we are going to create 40 new words from that randomized content."
      ],
      "id": "9437b548"
    },
    {
      "cell_type": "code",
      "metadata": {
        "message": false
      },
      "source": [
        "#| echo: true\n",
        "#| output: true\n",
        "#| eval: true\n",
        "#| warning: false\n",
        "\n",
        "TEXT = \"I liked this movie so\"\n",
        "\n",
        "N_WORDS = 40\n",
        "\n",
        "N_SENTENCES = 2\n",
        "\n",
        "preds = [learn.predict(TEXT, N_WORDS, temperature=0.75) for _ in range(N_SENTENCES)]"
      ],
      "id": "3dc42db4",
      "execution_count": null,
      "outputs": []
    },
    {
      "cell_type": "markdown",
      "metadata": {},
      "source": [
        "Let's see the generation of new inventing words"
      ],
      "id": "3f993501"
    },
    {
      "cell_type": "code",
      "metadata": {},
      "source": [
        "print(\"\\n\".join(preds))"
      ],
      "id": "2d0d783b",
      "execution_count": null,
      "outputs": []
    },
    {
      "cell_type": "markdown",
      "metadata": {},
      "source": [
        "# Create a classification model from fine-tuned model\n",
        "\n",
        "Previously, we built a language model to predict the next word of a document given the input text. Now, we are going to move to the classifier which predicts the sentiment of a document.\n"
      ],
      "id": "fce4c6b9"
    },
    {
      "cell_type": "code",
      "metadata": {
        "cache": true
      },
      "source": [
        "dls_clas = DataBlock(\n",
        "    blocks=(TextBlock.from_folder(path, vocab=dls_lm.vocab),CategoryBlock),\n",
        "    get_y = parent_label,\n",
        "    get_items=partial(get_text_files, folders=['train', 'test']),\n",
        "    splitter=GrandparentSplitter(valid_name='test')\n",
        ").dataloaders(path, path=path, bs=128, seq_len=72)"
      ],
      "id": "60363eb1",
      "execution_count": null,
      "outputs": []
    },
    {
      "cell_type": "markdown",
      "metadata": {},
      "source": [
        "In the `TextBlock.from_folder()` function, we do not set `is_lm=True` because we tell `TextBlock` that we had regular labelled data rather than using next word as a label as we did for prediction.\n",
        "\n",
        "::: {.callout-important}\n",
        "## Create training batch for sentiment classification\n",
        "It is important to say that  we need to collate all the items in a batch into a single tensor, and a tensor has a fixed size. Therefore, we need to pad/crop/squish our sequences to make the inputs have the same length. \n",
        "For the characteristics of the input, we will apply padding here so that each batch contains the documents with similar sizes, which is the largest size of the document in that batch. (every batch may not have similar sizes):\n",
        "- At first, we sort documents by length prior to each epoch.\n",
        "- we use special padding token to expand the shortest texts to the same length as the target size in a batch.\n",
        ":::\n",
        "\n",
        "## Fine-tuning the model\n",
        "so far, we have `finetuned` encoder, which stores the trained parameter weights from previous step. Now, we are going to create a learner that load the `finetuned` encoder for fine-tuning. Then, we are going to fine-tune it over several epoch."
      ],
      "id": "1b434226"
    },
    {
      "cell_type": "code",
      "metadata": {
        "cache": true
      },
      "source": [
        "learn = text_classifier_learner(dls_clas, AWD_LSTM, drop_mult=0.5,\n",
        "                                metrics=accuracy).to_fp16()"
      ],
      "id": "773882d9",
      "execution_count": null,
      "outputs": []
    },
    {
      "cell_type": "code",
      "metadata": {
        "cache": true
      },
      "source": [
        "learn.load_encoder('finetuned')"
      ],
      "id": "c78f8959",
      "execution_count": null,
      "outputs": []
    },
    {
      "cell_type": "markdown",
      "metadata": {},
      "source": [
        "As we are training a classification task, we only need to unfreeze several last layers of the encoder instead of unfreezing all the layers. By fitting the last layers first, we can adapt the model to the specific task without losing the general language understanding captured in the earlier layers. The result show that we achieve around 93 % accuracy, just with one cycle fitting. "
      ],
      "id": "9cdd8423"
    },
    {
      "cell_type": "code",
      "metadata": {
        "cache": true,
        "message": false
      },
      "source": [
        "#| warning: false\n",
        "#| eval: true\n",
        "learn.freeze_to(-2)\n",
        "learn.fit_one_cycle(1, slice(1e-2/(2.6**4),1e-2))"
      ],
      "id": "d3ad4311",
      "execution_count": null,
      "outputs": []
    },
    {
      "cell_type": "markdown",
      "metadata": {},
      "source": [
        "We can also further  unfreeze more layers and do training to see if the accuracy improves or not. It shows that the accuracy results have improved from 93% to approximately 94%."
      ],
      "id": "70454321"
    },
    {
      "cell_type": "code",
      "metadata": {
        "cache": true,
        "message": false
      },
      "source": [
        "#| warning: false\n",
        "#| eval: true\n",
        "learn.freeze_to(-3)\n",
        "learn.fit_one_cycle(1, slice(5e-3/(2.6**4),5e-3))"
      ],
      "id": "de3391d9",
      "execution_count": null,
      "outputs": []
    },
    {
      "cell_type": "markdown",
      "metadata": {},
      "source": [
        "As we can observe, the accuracy has improved with the unfreezing of more layers. Now, we unfreeze all layers and do some training. The accuracy results are further improved to approximately 95%."
      ],
      "id": "eef70e78"
    },
    {
      "cell_type": "code",
      "metadata": {
        "cache": true,
        "message": false
      },
      "source": [
        "#| warning: false\n",
        "#| eval: true\n",
        "learn.unfreeze()\n",
        "learn.fit_one_cycle(2, slice(1e-3/(2.6**4),1e-3))"
      ],
      "id": "94b8f8bf",
      "execution_count": null,
      "outputs": []
    },
    {
      "cell_type": "markdown",
      "metadata": {},
      "source": [
        "# Conclusion\n",
        "\n",
        "In this blog post, we have successfully demonstrated how to build an effective sentiment analysis system through fine-tuning a pre-trained model.\n",
        "\n",
        "## Key points\n",
        "\n",
        "- We started with the [Wikitext103](https://blog.salesforceairesearch.com/the-wikitext-long-term-dependency-language-modeling-dataset/) pretrained model and fine-tuned it on IMDb movie reviews, achieving approximately **35% accuracy** in next-word prediction after 10 epochs of training.\n",
        "\n",
        "- We implemented a text preprocessing pipeline for a language model including:\n",
        "  - **Tokenization**: Converting raw text into structured word sequences using SpaCy\n",
        "  - **Numericalization**: Mapping words to numerical representations for neural network processing\n",
        "  - **Batch Creation**: Organizing sequential text data for efficient model training\n",
        "\n",
        "\n",
        "- We achieved final *sentiment classification* through progressive layer unfreezing of fine-tuned model.\n",
        "\n",
        "## Technical Insights\n",
        "\n",
        "::: {.callout-important}\n",
        "## Key Technical Learnings\n",
        "- **Model Persistence**: Demonstrated both FastAI and PyTorch approaches for saving and loading model states\n",
        "- **Progressive Training**: Used gradual unfreezing technique to optimize classification performance\n",
        ":::\n",
        "\n",
        "## Future Directions\n",
        "\n",
        "This foundation opens several avenues for enhancement:\n",
        "\n",
        "1. **Model Architecture**: Experiment with transformer-based models (BERT, GPT)\n",
        "2. **Dataset Expansion**: Include additional movie review sources for robustness\n",
        "3. **Multi-class Classification**: Extend beyond binary sentiment to rating prediction\n",
        "4. **Real-time Deployment**: Package the model for production sentiment analysis\n",
        "\n",
        "## Final Thoughts\n",
        "\n",
        "This project demonstrates the power of *transfer learning* in NLP, showing how pretrained language models can be effectively adapted for specific downstream tasks. The combination of FastAI's high-level API with PyTorch's flexibility provides an excellent framework for both experimentation and production deployment."
      ],
      "id": "5bbc6caf"
    }
  ],
  "metadata": {
    "kernelspec": {
      "name": "python3",
      "language": "python",
      "display_name": "Python 3 (ipykernel)",
      "path": "/home/ec2-user/perso/.perso/share/jupyter/kernels/python3"
    }
  },
  "nbformat": 4,
  "nbformat_minor": 5
}