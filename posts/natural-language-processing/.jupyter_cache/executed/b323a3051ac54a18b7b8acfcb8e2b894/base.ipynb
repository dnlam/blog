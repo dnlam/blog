{
 "cells": [
  {
   "cell_type": "code",
   "execution_count": 1,
   "id": "f73aee1c",
   "metadata": {},
   "outputs": [
    {
     "name": "stdout",
     "output_type": "stream",
     "text": [
      "{\"/usr/lib64/python3.12/importlib/_bootstrap.py\": 1733251361.0, \"/usr/lib64/python3.12/importlib/_bootstrap_external.py\": 1733251361.0, \"/usr/lib64/python3.12/zipimport.py\": 1733251361.0, \"/usr/lib64/python3.12/codecs.py\": 1733251361.0, \"/usr/lib64/python3.12/encodings/aliases.py\": 1733251361.0, \"/usr/lib64/python3.12/encodings/__init__.py\": 1733251361.0, \"/usr/lib64/python3.12/encodings/utf_8.py\": 1733251361.0, \"/usr/lib64/python3.12/abc.py\": 1733251361.0, \"/usr/lib64/python3.12/io.py\": 1733251361.0, \"/usr/lib64/python3.12/stat.py\": 1733251361.0, \"/usr/lib64/python3.12/_collections_abc.py\": 1733251361.0, \"/usr/lib64/python3.12/genericpath.py\": 1733251361.0, \"/usr/lib64/python3.12/posixpath.py\": 1733251361.0, \"/usr/lib64/python3.12/os.py\": 1733251361.0, \"/usr/lib64/python3.12/_sitebuiltins.py\": 1733251361.0, \"/usr/lib64/python3.12/encodings/utf_8_sig.py\": 1733251361.0, \"/home/ldinh/perso/.venv/lib64/python3.12/site-packages/_virtualenv.py\": 1754562643.8187656, \"/home/ldinh/perso/.venv/lib64/python3.12/site-packages/_distutils_hack/__init__.py\": 1754562818.5147684, \"/usr/lib64/python3.12/site.py\": 1734020223.0, \"/usr/lib64/python3.12/warnings.py\": 1733251361.0, \"/usr/lib64/python3.12/importlib/__init__.py\": 1733251361.0, \"/usr/lib64/python3.12/importlib/machinery.py\": 1733251361.0, \"/usr/lib64/python3.12/importlib/_abc.py\": 1733251361.0, \"/usr/lib64/python3.12/types.py\": 1733251361.0, \"/usr/lib64/python3.12/importlib/util.py\": 1733251361.0, \"/usr/lib64/python3.12/runpy.py\": 1733251361.0, \"/usr/lib64/python3.12/operator.py\": 1733251361.0, \"/usr/lib64/python3.12/keyword.py\": 1733251361.0, \"/usr/lib64/python3.12/reprlib.py\": 1733251361.0, \"/usr/lib64/python3.12/collections/__init__.py\": 1733251361.0, \"/usr/lib64/python3.12/functools.py\": 1733251361.0, \"/usr/lib64/python3.12/enum.py\": 1733251361.0, \"/usr/lib64/python3.12/re/_constants.py\": 1733251361.0, \"/usr/lib64/python3.12/re/_parser.py\": 1733251361.0, \"/usr/lib64/python3.12/re/_casefix.py\": 1733251361.0, \"/usr/lib64/python3.12/re/_compiler.py\": 1733251361.0, \"/usr/lib64/python3.12/copyreg.py\": 1733251361.0, \"/usr/lib64/python3.12/re/__init__.py\": 1733251361.0, \"/usr/lib64/python3.12/fnmatch.py\": 1733251361.0, \"/usr/lib64/python3.12/ntpath.py\": 1733251361.0, \"/usr/lib64/python3.12/urllib/__init__.py\": 1734021246.0, \"/usr/lib64/python3.12/lib-dynload/math.cpython-312-x86_64-linux-gnu.so\": 1734021254.0, \"/usr/lib64/python3.12/ipaddress.py\": 1733251361.0, \"/usr/lib64/python3.12/urllib/parse.py\": 1733251361.0, \"/usr/lib64/python3.12/pathlib.py\": 1733251361.0, \"/home/ldinh/perso/.venv/lib64/python3.12/site-packages/ipykernel/_version.py\": 1754562818.5187683, \"/usr/lib64/python3.12/__future__.py\": 1733251361.0, \"/usr/lib64/python3.12/lib-dynload/_json.cpython-312-x86_64-linux-gnu.so\": 1734021254.0, \"/usr/lib64/python3.12/json/scanner.py\": 1733251361.0, \"/usr/lib64/python3.12/json/decoder.py\": 1733251361.0, \"/usr/lib64/python3.12/json/encoder.py\": 1733251361.0, \"/usr/lib64/python3.12/json/__init__.py\": 1733251361.0, \"/usr/lib64/python3.12/locale.py\": 1733251361.0, \"/usr/lib64/python3.12/signal.py\": 1733251361.0, \"/usr/lib64/python3.12/_weakrefset.py\": 1733251361.0, \"/usr/lib64/python3.12/threading.py\": 1734020223.0, \"/usr/lib64/python3.12/contextlib.py\": 1733251361.0, \"/usr/lib64/python3.12/lib-dynload/fcntl.cpython-312-x86_64-linux-gnu.so\": 1734021254.0, \"/usr/lib64/python3.12/lib-dynload/_posixsubprocess.cpython-312-x86_64-linux-gnu.so\": 1734021254.0, \"/usr/lib64/python3.12/lib-dynload/select.cpython-312-x86_64-linux-gnu.so\": 1734021254.0, \"/usr/lib64/python3.12/collections/abc.py\": 1733251361.0, \"/usr/lib64/python3.12/selectors.py\": 1733251361.0, \"/usr/lib64/python3.12/subprocess.py\": 1733251361.0, \"/usr/lib64/python3.12/typing.py\": 1733251361.0, \"/home/ldinh/perso/.venv/lib64/python3.12/site-packages/jupyter_client/_version.py\": 1754562818.4267683, \"/usr/lib64/python3.12/platform.py\": 1733251361.0, \"/home/ldinh/perso/.venv/lib64/python3.12/site-packages/zmq/backend/select.py\": 1754562818.8387682, \"/usr/lib64/python3.12/ast.py\": 1733251361.0, \"/usr/lib64/python3.12/lib-dynload/_opcode.cpython-312-x86_64-linux-gnu.so\": 1734021254.0, \"/usr/lib64/python3.12/opcode.py\": 1733251361.0, \"/usr/lib64/python3.12/dis.py\": 1733251361.0, \"/usr/lib64/python3.12/token.py\": 1733251361.0, \"/usr/lib64/python3.12/tokenize.py\": 1733251361.0, \"/usr/lib64/python3.12/linecache.py\": 1733251361.0, \"/usr/lib64/python3.12/weakref.py\": 1733251361.0, \"/usr/lib64/python3.12/inspect.py\": 1733251361.0, \"/home/ldinh/perso/.venv/lib64/python3.12/site-packages/zmq/constants.py\": 1754562818.7307682, \"/home/ldinh/perso/.venv/lib64/python3.12/site-packages/zmq/error.py\": 1754562818.7547684, \"/home/ldinh/perso/.venv/lib64/python3.12/site-packages/zmq/backend/cython/_zmq.abi3.so\": 1754562818.9867682, \"/home/ldinh/perso/.venv/lib64/python3.12/site-packages/zmq/backend/cython/__init__.py\": 1754562818.9707682, \"/home/ldinh/perso/.venv/lib64/python3.12/site-packages/zmq/backend/__init__.py\": 1754562818.8187683, \"/home/ldinh/perso/.venv/lib64/python3.12/site-packages/zmq/_typing.py\": 1754562818.7107682, \"/home/ldinh/perso/.venv/lib64/python3.12/site-packages/zmq/utils/__init__.py\": 1754562819.2347684, \"/home/ldinh/perso/.venv/lib64/python3.12/site-packages/zmq/utils/interop.py\": 1754562819.2387683, \"/home/ldinh/perso/.venv/lib64/python3.12/site-packages/zmq/sugar/attrsettr.py\": 1754562819.0747683, \"/usr/lib64/python3.12/lib-dynload/_struct.cpython-312-x86_64-linux-gnu.so\": 1734021254.0, \"/usr/lib64/python3.12/struct.py\": 1733251361.0, \"/usr/lib64/python3.12/_compat_pickle.py\": 1733251361.0, \"/usr/lib64/python3.12/lib-dynload/_pickle.cpython-312-x86_64-linux-gnu.so\": 1734021254.0, \"/usr/lib64/python3.12/pickle.py\": 1733251361.0, \"/usr/lib64/python3.12/lib-dynload/_bisect.cpython-312-x86_64-linux-gnu.so\": 1734021254.0, \"/usr/lib64/python3.12/bisect.py\": 1733251361.0, \"/usr/lib64/python3.12/lib-dynload/_random.cpython-312-x86_64-linux-gnu.so\": 1734021254.0, \"/usr/lib64/python3.12/lib-dynload/_hashlib.cpython-312-x86_64-linux-gnu.so\": 1734021254.0, \"/usr/lib64/python3.12/lib-dynload/_blake2.cpython-312-x86_64-linux-gnu.so\": 1734021254.0, \"/usr/lib64/python3.12/hashlib.py\": 1734020223.0, \"/usr/lib64/python3.12/random.py\": 1733251361.0, \"/home/ldinh/perso/.venv/lib64/python3.12/site-packages/zmq/utils/jsonapi.py\": 1754562819.2427683, \"/home/ldinh/perso/.venv/lib64/python3.12/site-packages/zmq/sugar/poll.py\": 1754562819.0867684, \"/home/ldinh/perso/.venv/lib64/python3.12/site-packages/zmq/sugar/socket.py\": 1754562819.0867684, \"/home/ldinh/perso/.venv/lib64/python3.12/site-packages/zmq/sugar/context.py\": 1754562819.0787683, \"/home/ldinh/perso/.venv/lib64/python3.12/site-packages/zmq/sugar/frame.py\": 1754562819.0787683, \"/home/ldinh/perso/.venv/lib64/python3.12/site-packages/zmq/sugar/tracker.py\": 1754562819.0907683, \"/home/ldinh/perso/.venv/lib64/python3.12/site-packages/zmq/sugar/version.py\": 1754562819.0907683, \"/home/ldinh/perso/.venv/lib64/python3.12/site-packages/zmq/sugar/stopwatch.py\": 1754562819.0907683, \"/home/ldinh/perso/.venv/lib64/python3.12/site-packages/zmq/sugar/__init__.py\": 1754562819.0747683, \"/home/ldinh/perso/.venv/lib64/python3.12/site-packages/zmq/__init__.py\": 1754562818.6947682, \"/usr/lib64/python3.12/concurrent/__init__.py\": 1733251361.0, \"/usr/lib64/python3.12/textwrap.py\": 1733251361.0, \"/usr/lib64/python3.12/traceback.py\": 1733251361.0, \"/usr/lib64/python3.12/string.py\": 1733251361.0, \"/usr/lib64/python3.12/logging/__init__.py\": 1733251361.0, \"/usr/lib64/python3.12/concurrent/futures/_base.py\": 1733251361.0, \"/usr/lib64/python3.12/concurrent/futures/__init__.py\": 1733251361.0, \"/usr/lib64/python3.12/lib-dynload/_heapq.cpython-312-x86_64-linux-gnu.so\": 1734021254.0, \"/usr/lib64/python3.12/heapq.py\": 1733251361.0, \"/usr/lib64/python3.12/lib-dynload/_socket.cpython-312-x86_64-linux-gnu.so\": 1734021254.0, \"/usr/lib64/python3.12/lib-dynload/array.cpython-312-x86_64-linux-gnu.so\": 1734021254.0, \"/usr/lib64/python3.12/socket.py\": 1733251361.0, \"/usr/lib64/python3.12/lib-dynload/_ssl.cpython-312-x86_64-linux-gnu.so\": 1734021254.0, \"/usr/lib64/python3.12/lib-dynload/binascii.cpython-312-x86_64-linux-gnu.so\": 1734021254.0, \"/usr/lib64/python3.12/base64.py\": 1733251361.0, \"/usr/lib64/python3.12/ssl.py\": 1733251361.0, \"/usr/lib64/python3.12/asyncio/constants.py\": 1733251361.0, \"/usr/lib64/python3.12/asyncio/coroutines.py\": 1733251361.0, \"/usr/lib64/python3.12/lib-dynload/_contextvars.cpython-312-x86_64-linux-gnu.so\": 1734021254.0, \"/usr/lib64/python3.12/contextvars.py\": 1733251361.0, \"/usr/lib64/python3.12/asyncio/format_helpers.py\": 1733251361.0, \"/usr/lib64/python3.12/asyncio/base_futures.py\": 1733251361.0, \"/usr/lib64/python3.12/asyncio/exceptions.py\": 1733251361.0, \"/usr/lib64/python3.12/asyncio/base_tasks.py\": 1733251361.0, \"/usr/lib64/python3.12/lib-dynload/_asyncio.cpython-312-x86_64-linux-gnu.so\": 1734021254.0, \"/usr/lib64/python3.12/asyncio/events.py\": 1733251361.0, \"/usr/lib64/python3.12/asyncio/futures.py\": 1733251361.0, \"/usr/lib64/python3.12/asyncio/protocols.py\": 1733251361.0, \"/usr/lib64/python3.12/asyncio/transports.py\": 1733251361.0, \"/usr/lib64/python3.12/asyncio/log.py\": 1733251361.0, \"/usr/lib64/python3.12/asyncio/sslproto.py\": 1733251361.0, \"/usr/lib64/python3.12/asyncio/mixins.py\": 1733251361.0, \"/usr/lib64/python3.12/asyncio/locks.py\": 1733251361.0, \"/usr/lib64/python3.12/asyncio/timeouts.py\": 1733251361.0, \"/usr/lib64/python3.12/asyncio/tasks.py\": 1733251361.0, \"/usr/lib64/python3.12/asyncio/staggered.py\": 1733251361.0, \"/usr/lib64/python3.12/asyncio/trsock.py\": 1733251361.0, \"/usr/lib64/python3.12/asyncio/base_events.py\": 1733251361.0, \"/usr/lib64/python3.12/asyncio/runners.py\": 1733251361.0, \"/usr/lib64/python3.12/asyncio/queues.py\": 1733251361.0, \"/usr/lib64/python3.12/asyncio/streams.py\": 1733251361.0, \"/usr/lib64/python3.12/asyncio/subprocess.py\": 1733251361.0, \"/usr/lib64/python3.12/asyncio/taskgroups.py\": 1733251361.0, \"/usr/lib64/python3.12/asyncio/threads.py\": 1733251361.0, \"/usr/lib64/python3.12/asyncio/base_subprocess.py\": 1733251361.0, \"/usr/lib64/python3.12/asyncio/selector_events.py\": 1734020224.0, \"/usr/lib64/python3.12/asyncio/unix_events.py\": 1733251361.0, \"/usr/lib64/python3.12/asyncio/__init__.py\": 1733251361.0, \"/home/ldinh/perso/.venv/lib64/python3.12/site-packages/zmq/_future.py\": 1754562818.7027683, \"/home/ldinh/perso/.venv/lib64/python3.12/site-packages/zmq/asyncio.py\": 1754562818.7187684, \"/home/ldinh/perso/.venv/lib64/python3.12/site-packages/traitlets/utils/__init__.py\": 1754562818.5867682, \"/home/ldinh/perso/.venv/lib64/python3.12/site-packages/traitlets/utils/bunch.py\": 1754562818.5907683, \"/home/ldinh/perso/.venv/lib64/python3.12/site-packages/traitlets/utils/descriptions.py\": 1754562818.5987682, \"/home/ldinh/perso/.venv/lib64/python3.12/site-packages/traitlets/utils/getargspec.py\": 1754562818.6067684, \"/home/ldinh/perso/.venv/lib64/python3.12/site-packages/traitlets/utils/importstring.py\": 1754562818.6067684, \"/home/ldinh/perso/.venv/lib64/python3.12/site-packages/traitlets/utils/sentinel.py\": 1754562818.6227682, \"/home/ldinh/perso/.venv/lib64/python3.12/site-packages/traitlets/utils/warnings.py\": 1754562818.6347682, \"/home/ldinh/perso/.venv/lib64/python3.12/site-packages/traitlets/traitlets.py\": 1754562818.4747682, \"/home/ldinh/perso/.venv/lib64/python3.12/site-packages/traitlets/_version.py\": 1754562818.4267683, \"/usr/lib64/python3.12/copy.py\": 1733251361.0, \"/home/ldinh/perso/.venv/lib64/python3.12/site-packages/traitlets/utils/decorators.py\": 1754562818.5947683, \"/home/ldinh/perso/.venv/lib64/python3.12/site-packages/traitlets/__init__.py\": 1754562818.4187682, \"/usr/lib64/python3.12/lib-dynload/_queue.cpython-312-x86_64-linux-gnu.so\": 1734021254.0, \"/usr/lib64/python3.12/queue.py\": 1733251361.0, \"/home/ldinh/perso/.venv/lib64/python3.12/site-packages/jupyter_core/version.py\": 1754562818.7467682, \"/home/ldinh/perso/.venv/lib64/python3.12/site-packages/jupyter_core/__init__.py\": 1754562818.6947682, \"/home/ldinh/perso/.venv/lib64/python3.12/site-packages/jupyter_core/utils/__init__.py\": 1754562818.7587683, \"/home/ldinh/perso/.venv/lib64/python3.12/site-packages/jupyter_client/channelsabc.py\": 1754562818.4907682, \"/usr/lib64/python3.12/hmac.py\": 1734020223.0, \"/usr/lib64/python3.12/dataclasses.py\": 1733251361.0, \"/usr/lib64/python3.12/pprint.py\": 1733251361.0, \"/usr/lib64/python3.12/lib-dynload/_datetime.cpython-312-x86_64-linux-gnu.so\": 1734021254.0, \"/usr/lib64/python3.12/datetime.py\": 1733251361.0, \"/home/ldinh/perso/.venv/lib64/python3.12/site-packages/tornado/__init__.py\": 1754562818.5867682, \"/usr/lib64/python3.12/numbers.py\": 1733251361.0, \"/usr/lib64/python3.12/logging/handlers.py\": 1733251361.0, \"/usr/lib64/python3.12/html/entities.py\": 1733251361.0, \"/usr/lib64/python3.12/html/__init__.py\": 1733251361.0, \"/usr/lib64/python3.12/lib-dynload/zlib.cpython-312-x86_64-linux-gnu.so\": 1734021254.0, \"/home/ldinh/perso/.venv/lib64/python3.12/site-packages/tornado/speedups.abi3.so\": 1754562818.5307682, \"/home/ldinh/perso/.venv/lib64/python3.12/site-packages/tornado/util.py\": 1754562818.5107682, \"/home/ldinh/perso/.venv/lib64/python3.12/site-packages/tornado/escape.py\": 1754562818.5947683, \"/usr/lib64/python3.12/lib-dynload/_curses.cpython-312-x86_64-linux-gnu.so\": 1734021254.0, \"/usr/lib64/python3.12/curses/__init__.py\": 1733251361.0, \"/home/ldinh/perso/.venv/lib64/python3.12/site-packages/tornado/log.py\": 1754562818.5627682, \"/home/ldinh/perso/.venv/lib64/python3.12/site-packages/tornado/concurrent.py\": 1754562818.4427683, \"/home/ldinh/perso/.venv/lib64/python3.12/site-packages/tornado/ioloop.py\": 1754562818.5227683, \"/usr/lib64/python3.12/socketserver.py\": 1733251361.0, \"/usr/lib64/python3.12/logging/config.py\": 1733251361.0, \"/home/ldinh/perso/.venv/lib64/python3.12/site-packages/traitlets/utils/text.py\": 1754562818.6267684, \"/usr/lib64/python3.12/gettext.py\": 1733251361.0, \"/usr/lib64/python3.12/argparse.py\": 1733251361.0, \"/home/ldinh/perso/.venv/lib64/python3.12/site-packages/traitlets/config/loader.py\": 1754562818.5307682, \"/home/ldinh/perso/.venv/lib64/python3.12/site-packages/traitlets/config/configurable.py\": 1754562818.5187683, \"/home/ldinh/perso/.venv/lib64/python3.12/site-packages/traitlets/utils/nested_update.py\": 1754562818.6107683, \"/home/ldinh/perso/.venv/lib64/python3.12/site-packages/traitlets/config/application.py\": 1754562818.5027683, \"/home/ldinh/perso/.venv/lib64/python3.12/site-packages/traitlets/config/__init__.py\": 1754562818.4907682, \"/home/ldinh/perso/.venv/lib64/python3.12/site-packages/traitlets/log.py\": 1754562818.4267683, \"/home/ldinh/perso/.venv/lib64/python3.12/site-packages/zmq/eventloop/__init__.py\": 1754562819.0347683, \"/home/ldinh/perso/.venv/lib64/python3.12/site-packages/zmq/eventloop/zmqstream.py\": 1754562819.0387683, \"/home/ldinh/perso/.venv/lib64/python3.12/site-packages/jupyter_client/adapter.py\": 1754562818.4747682, \"/home/ldinh/perso/.venv/lib64/python3.12/site-packages/dateutil/_version.py\": 1754562818.4947684, \"/home/ldinh/perso/.venv/lib64/python3.12/site-packages/dateutil/__init__.py\": 1754562818.4827683, \"/usr/lib64/python3.12/calendar.py\": 1733251361.0, \"/home/ldinh/perso/.venv/lib64/python3.12/site-packages/six.py\": 1754562818.8947682, \"/usr/lib64/python3.12/lib-dynload/_decimal.cpython-312-x86_64-linux-gnu.so\": 1734021254.0, \"/usr/lib64/python3.12/decimal.py\": 1733251361.0, \"/home/ldinh/perso/.venv/lib64/python3.12/site-packages/dateutil/_common.py\": 1754562818.4907682, \"/home/ldinh/perso/.venv/lib64/python3.12/site-packages/dateutil/relativedelta.py\": 1754562818.5107682, \"/home/ldinh/perso/.venv/lib64/python3.12/site-packages/dateutil/tz/_common.py\": 1754562818.5987682, \"/home/ldinh/perso/.venv/lib64/python3.12/site-packages/dateutil/tz/_factories.py\": 1754562818.6067684, \"/home/ldinh/perso/.venv/lib64/python3.12/site-packages/dateutil/tz/tz.py\": 1754562818.6067684, \"/home/ldinh/perso/.venv/lib64/python3.12/site-packages/dateutil/tz/__init__.py\": 1754562818.5947683, \"/home/ldinh/perso/.venv/lib64/python3.12/site-packages/dateutil/parser/_parser.py\": 1754562818.5587683, \"/home/ldinh/perso/.venv/lib64/python3.12/site-packages/dateutil/parser/isoparser.py\": 1754562818.5827682, \"/home/ldinh/perso/.venv/lib64/python3.12/site-packages/dateutil/parser/__init__.py\": 1754562818.5467682, \"/usr/lib64/python3.12/_strptime.py\": 1733251361.0, \"/home/ldinh/perso/.venv/lib64/python3.12/site-packages/jupyter_client/jsonutil.py\": 1754562818.5267682, \"/home/ldinh/perso/.venv/lib64/python3.12/site-packages/jupyter_client/session.py\": 1754562818.6307683, \"/home/ldinh/perso/.venv/lib64/python3.12/site-packages/jupyter_client/channels.py\": 1754562818.4827683, \"/usr/lib64/python3.12/lib-dynload/termios.cpython-312-x86_64-linux-gnu.so\": 1734021254.0, \"/usr/lib64/python3.12/getpass.py\": 1733251361.0, \"/home/ldinh/perso/.venv/lib64/python3.12/site-packages/jupyter_client/clientabc.py\": 1754562818.4987683, \"/usr/lib64/python3.12/glob.py\": 1733251361.0, \"/usr/lib64/python3.12/_compression.py\": 1733251361.0, \"/usr/lib64/python3.12/lib-dynload/_bz2.cpython-312-x86_64-linux-gnu.so\": 1734021254.0, \"/usr/lib64/python3.12/bz2.py\": 1733251361.0, \"/usr/lib64/python3.12/lib-dynload/_lzma.cpython-312-x86_64-linux-gnu.so\": 1734021254.0, \"/usr/lib64/python3.12/lzma.py\": 1733251361.0, \"/usr/lib64/python3.12/shutil.py\": 1733251361.0, \"/usr/lib64/python3.12/tempfile.py\": 1733251361.0, \"/home/ldinh/perso/.venv/lib64/python3.12/site-packages/platformdirs/api.py\": 1754562818.8027682, \"/home/ldinh/perso/.venv/lib64/python3.12/site-packages/platformdirs/version.py\": 1754562818.8387682, \"/usr/lib64/python3.12/configparser.py\": 1733251361.0, \"/home/ldinh/perso/.venv/lib64/python3.12/site-packages/platformdirs/unix.py\": 1754562818.8267682, \"/home/ldinh/perso/.venv/lib64/python3.12/site-packages/platformdirs/__init__.py\": 1754562818.7827682, \"/home/ldinh/perso/.venv/lib64/python3.12/site-packages/jupyter_core/paths.py\": 1754562818.7187684, \"/home/ldinh/perso/.venv/lib64/python3.12/site-packages/jupyter_client/localinterfaces.py\": 1754562818.5867682, \"/home/ldinh/perso/.venv/lib64/python3.12/site-packages/jupyter_client/utils.py\": 1754562818.6387682, \"/home/ldinh/perso/.venv/lib64/python3.12/site-packages/jupyter_client/connect.py\": 1754562818.5027683, \"/home/ldinh/perso/.venv/lib64/python3.12/site-packages/jupyter_client/client.py\": 1754562818.4947684, \"/home/ldinh/perso/.venv/lib64/python3.12/site-packages/jupyter_client/asynchronous/client.py\": 1754562818.6707683, \"/home/ldinh/perso/.venv/lib64/python3.12/site-packages/jupyter_client/asynchronous/__init__.py\": 1754562818.6667683, \"/home/ldinh/perso/.venv/lib64/python3.12/site-packages/jupyter_client/blocking/client.py\": 1754562818.6827683, \"/home/ldinh/perso/.venv/lib64/python3.12/site-packages/jupyter_client/blocking/__init__.py\": 1754562818.6787682, \"/home/ldinh/perso/.venv/lib64/python3.12/site-packages/jupyter_client/launcher.py\": 1754562818.5627682, \"/usr/lib64/python3.12/lib-dynload/_uuid.cpython-312-x86_64-linux-gnu.so\": 1734021254.0, \"/usr/lib64/python3.12/uuid.py\": 1733251361.0, \"/usr/lib64/python3.12/lib-dynload/_csv.cpython-312-x86_64-linux-gnu.so\": 1734021254.0, \"/usr/lib64/python3.12/csv.py\": 1733251361.0, \"/usr/lib64/python3.12/email/__init__.py\": 1733251361.0, \"/usr/lib64/python3.12/zipfile/_path/glob.py\": 1733251361.0, \"/usr/lib64/python3.12/zipfile/_path/__init__.py\": 1733251361.0, \"/usr/lib64/python3.12/zipfile/__init__.py\": 1733251361.0, \"/usr/lib64/python3.12/quopri.py\": 1733251361.0, \"/usr/lib64/python3.12/email/_parseaddr.py\": 1733251361.0, \"/usr/lib64/python3.12/email/base64mime.py\": 1733251361.0, \"/usr/lib64/python3.12/email/quoprimime.py\": 1733251361.0, \"/usr/lib64/python3.12/email/errors.py\": 1733251361.0, \"/usr/lib64/python3.12/email/encoders.py\": 1733251361.0, \"/usr/lib64/python3.12/email/charset.py\": 1733251361.0, \"/usr/lib64/python3.12/email/utils.py\": 1733251361.0, \"/usr/lib64/python3.12/email/header.py\": 1733251361.0, \"/usr/lib64/python3.12/email/_policybase.py\": 1733251361.0, \"/usr/lib64/python3.12/email/_encoded_words.py\": 1733251361.0, \"/usr/lib64/python3.12/email/iterators.py\": 1733251361.0, \"/usr/lib64/python3.12/email/message.py\": 1733251361.0, \"/usr/lib64/python3.12/importlib/metadata/_functools.py\": 1733251361.0, \"/usr/lib64/python3.12/importlib/metadata/_text.py\": 1733251361.0, \"/usr/lib64/python3.12/importlib/metadata/_adapters.py\": 1733251361.0, \"/usr/lib64/python3.12/importlib/metadata/_meta.py\": 1733251361.0, \"/usr/lib64/python3.12/importlib/metadata/_collections.py\": 1733251361.0, \"/usr/lib64/python3.12/importlib/metadata/_itertools.py\": 1733251361.0, \"/usr/lib64/python3.12/importlib/resources/abc.py\": 1733251361.0, \"/usr/lib64/python3.12/importlib/resources/_adapters.py\": 1733251361.0, \"/usr/lib64/python3.12/importlib/resources/_common.py\": 1733251361.0, \"/usr/lib64/python3.12/importlib/resources/_legacy.py\": 1733251361.0, \"/usr/lib64/python3.12/importlib/resources/__init__.py\": 1733251361.0, \"/usr/lib64/python3.12/importlib/abc.py\": 1733251361.0, \"/usr/lib64/python3.12/importlib/metadata/__init__.py\": 1733251361.0, \"/home/ldinh/perso/.venv/lib64/python3.12/site-packages/jupyter_client/provisioning/provisioner_base.py\": 1754562818.7307682, \"/home/ldinh/perso/.venv/lib64/python3.12/site-packages/jupyter_client/provisioning/factory.py\": 1754562818.7227683, \"/home/ldinh/perso/.venv/lib64/python3.12/site-packages/jupyter_client/provisioning/local_provisioner.py\": 1754562818.7227683, \"/home/ldinh/perso/.venv/lib64/python3.12/site-packages/jupyter_client/provisioning/__init__.py\": 1754562818.7147682, \"/home/ldinh/perso/.venv/lib64/python3.12/site-packages/jupyter_client/kernelspec.py\": 1754562818.5467682, \"/home/ldinh/perso/.venv/lib64/python3.12/site-packages/jupyter_client/managerabc.py\": 1754562818.6027682, \"/home/ldinh/perso/.venv/lib64/python3.12/site-packages/jupyter_client/manager.py\": 1754562818.5947683, \"/home/ldinh/perso/.venv/lib64/python3.12/site-packages/jupyter_client/multikernelmanager.py\": 1754562818.6067684, \"/home/ldinh/perso/.venv/lib64/python3.12/site-packages/jupyter_client/__init__.py\": 1754562818.4267683, \"/home/ldinh/perso/.venv/lib64/python3.12/site-packages/ipykernel/connect.py\": 1754562818.5307682, \"/home/ldinh/perso/.venv/lib64/python3.12/site-packages/ipykernel/__init__.py\": 1754562818.4867682, \"/home/ldinh/perso/.venv/lib64/python3.12/site-packages/IPython/core/__init__.py\": 1754562818.5307682, \"/home/ldinh/perso/.venv/lib64/python3.12/site-packages/IPython/core/getipython.py\": 1754562818.6867683, \"/home/ldinh/perso/.venv/lib64/python3.12/site-packages/IPython/core/release.py\": 1754562818.8387682, \"/home/ldinh/perso/.venv/lib64/python3.12/site-packages/executing/_exceptions.py\": 1754562818.7307682, \"/home/ldinh/perso/.venv/lib64/python3.12/site-packages/executing/_position_node_finder.py\": 1754562818.7347682, \"/home/ldinh/perso/.venv/lib64/python3.12/site-packages/executing/executing.py\": 1754562818.7467682, \"/home/ldinh/perso/.venv/lib64/python3.12/site-packages/executing/_pytest_utils.py\": 1754562818.7467682, \"/home/ldinh/perso/.venv/lib64/python3.12/site-packages/executing/version.py\": 1754562818.7667682, \"/home/ldinh/perso/.venv/lib64/python3.12/site-packages/executing/__init__.py\": 1754562818.7227683, \"/home/ldinh/perso/.venv/lib64/python3.12/site-packages/asttokens/line_numbers.py\": 1754562818.7067683, \"/home/ldinh/perso/.venv/lib64/python3.12/site-packages/asttokens/util.py\": 1754562818.7227683, \"/home/ldinh/perso/.venv/lib64/python3.12/site-packages/asttokens/asttokens.py\": 1754562818.7027683, \"/home/ldinh/perso/.venv/lib64/python3.12/site-packages/asttokens/__init__.py\": 1754562818.6947682, \"/usr/lib64/python3.12/fractions.py\": 1733251361.0, \"/home/ldinh/perso/.venv/lib64/python3.12/site-packages/pure_eval/utils.py\": 1754562818.9107683, \"/home/ldinh/perso/.venv/lib64/python3.12/site-packages/pure_eval/my_getattr_static.py\": 1754562818.8987682, \"/home/ldinh/perso/.venv/lib64/python3.12/site-packages/pure_eval/core.py\": 1754562818.8867683, \"/home/ldinh/perso/.venv/lib64/python3.12/site-packages/pure_eval/version.py\": 1754562818.9107683, \"/home/ldinh/perso/.venv/lib64/python3.12/site-packages/pure_eval/__init__.py\": 1754562818.8747683, \"/home/ldinh/perso/.venv/lib64/python3.12/site-packages/stack_data/utils.py\": 1754562818.7827682, \"/home/ldinh/perso/.venv/lib64/python3.12/site-packages/stack_data/core.py\": 1754562818.7467682, \"/home/ldinh/perso/.venv/lib64/python3.12/site-packages/stack_data/formatting.py\": 1754562818.7547684, \"/home/ldinh/perso/.venv/lib64/python3.12/site-packages/stack_data/serializing.py\": 1754562818.7707682, \"/home/ldinh/perso/.venv/lib64/python3.12/site-packages/stack_data/version.py\": 1754562818.7867682, \"/home/ldinh/perso/.venv/lib64/python3.12/site-packages/stack_data/__init__.py\": 1754562818.7387683, \"/home/ldinh/perso/.venv/lib64/python3.12/site-packages/pygments/__init__.py\": 1754562818.4827683, \"/home/ldinh/perso/.venv/lib64/python3.12/site-packages/pygments/formatters/_mapping.py\": 1754562818.6467683, \"/home/ldinh/perso/.venv/lib64/python3.12/site-packages/pygments/plugin.py\": 1754562818.5467682, \"/home/ldinh/perso/.venv/lib64/python3.12/site-packages/pygments/util.py\": 1754562818.6107683, \"/home/ldinh/perso/.venv/lib64/python3.12/site-packages/pygments/formatters/__init__.py\": 1754562818.6387682, \"/home/ldinh/perso/.venv/lib64/python3.12/site-packages/pygments/styles/_mapping.py\": 1754562819.3307683, \"/home/ldinh/perso/.venv/lib64/python3.12/site-packages/pygments/styles/__init__.py\": 1754562819.3307683, \"/home/ldinh/perso/.venv/lib64/python3.12/site-packages/pygments/formatter.py\": 1754562818.5187683, \"/home/ldinh/perso/.venv/lib64/python3.12/site-packages/pygments/console.py\": 1754562818.5027683, \"/home/ldinh/perso/.venv/lib64/python3.12/site-packages/pygments/token.py\": 1754562818.6027682, \"/home/ldinh/perso/.venv/lib64/python3.12/site-packages/pygments/style.py\": 1754562818.6027682, \"/home/ldinh/perso/.venv/lib64/python3.12/site-packages/pygments/formatters/terminal256.py\": 1754562818.7667682, \"/home/ldinh/perso/.venv/lib64/python3.12/site-packages/IPython/utils/__init__.py\": 1754562819.2907684, \"/usr/lib64/python3.12/shlex.py\": 1733251361.0, \"/home/ldinh/perso/.venv/lib64/python3.12/site-packages/IPython/utils/encoding.py\": 1754562819.3267682, \"/home/ldinh/perso/.venv/lib64/python3.12/site-packages/IPython/utils/py3compat.py\": 1754562819.3387682, \"/home/ldinh/perso/.venv/lib64/python3.12/site-packages/IPython/utils/_process_common.py\": 1754562819.2907684, \"/home/ldinh/perso/.venv/lib64/python3.12/site-packages/IPython/utils/_process_posix.py\": 1754562819.2907684, \"/home/ldinh/perso/.venv/lib64/python3.12/site-packages/IPython/utils/process.py\": 1754562819.3347683, \"/home/ldinh/perso/.venv/lib64/python3.12/site-packages/IPython/utils/path.py\": 1754562819.3347683, \"/home/ldinh/perso/.venv/lib64/python3.12/site-packages/pygments/styles/monokai.py\": 1754562819.3547683, \"/home/ldinh/perso/.venv/lib64/python3.12/site-packages/pygments/styles/default.py\": 1754562819.3387682, \"/home/ldinh/perso/.venv/lib64/python3.12/site-packages/pygments/styles/pastie.py\": 1754562819.3707683, \"/home/ldinh/perso/.venv/lib64/python3.12/site-packages/IPython/utils/PyColorize.py\": 1754562819.2867682, \"/home/ldinh/perso/.venv/lib64/python3.12/site-packages/IPython/utils/terminal.py\": 1754562819.3467684, \"/home/ldinh/perso/.venv/lib64/python3.12/site-packages/IPython/core/display_trap.py\": 1754562818.6107683, \"/usr/lib64/python3.12/pkgutil.py\": 1733251361.0, \"/usr/lib64/python3.12/sysconfig.py\": 1734021244.0, \"/usr/lib64/python3.12/_sysconfigdata__linux_x86_64-linux-gnu.py\": 1734021225.0, \"/usr/lib64/python3.12/pydoc.py\": 1733251361.0, \"/usr/lib64/python3.12/codeop.py\": 1733251361.0, \"/home/ldinh/perso/.venv/lib64/python3.12/site-packages/IPython/core/debugger_backport.py\": 1754562818.6027682, \"/usr/lib64/python3.12/cmd.py\": 1733251361.0, \"/usr/lib64/python3.12/bdb.py\": 1733251361.0, \"/usr/lib64/python3.12/code.py\": 1733251361.0, \"/usr/lib64/python3.12/pdb.py\": 1733251361.0, \"/home/ldinh/perso/.venv/lib64/python3.12/site-packages/IPython/core/debugger.py\": 1754562818.5987682, \"/home/ldinh/perso/.venv/lib64/python3.12/site-packages/IPython/core/tbtools.py\": 1754562818.8587682, \"/home/ldinh/perso/.venv/lib64/python3.12/site-packages/IPython/core/doctb.py\": 1754562818.6347682, \"/home/ldinh/perso/.venv/lib64/python3.12/site-packages/IPython/core/ultratb.py\": 1754562818.8787682, \"/home/ldinh/perso/.venv/lib64/python3.12/site-packages/IPython/utils/_sysinfo.py\": 1754562819.2947683, \"/home/ldinh/perso/.venv/lib64/python3.12/site-packages/IPython/utils/sysinfo.py\": 1754562819.3427682, \"/home/ldinh/perso/.venv/lib64/python3.12/site-packages/IPython/core/crashhandler.py\": 1754562818.5947683, \"/home/ldinh/perso/.venv/lib64/python3.12/site-packages/IPython/utils/importstring.py\": 1754562819.3307683, \"/home/ldinh/perso/.venv/lib64/python3.12/site-packages/IPython/paths.py\": 1754562818.5147684, \"/home/ldinh/perso/.venv/lib64/python3.12/site-packages/IPython/core/profiledir.py\": 1754562818.8267682, \"/home/ldinh/perso/.venv/lib64/python3.12/site-packages/IPython/core/application.py\": 1754562818.5387683, \"/home/ldinh/perso/.venv/lib64/python3.12/site-packages/IPython/terminal/__init__.py\": 1754562819.0747683, \"/home/ldinh/perso/.venv/lib64/python3.12/site-packages/IPython/core/compilerop.py\": 1754562818.5627682, \"/home/ldinh/perso/.venv/lib64/python3.12/site-packages/IPython/core/error.py\": 1754562818.6427684, \"/home/ldinh/perso/.venv/lib64/python3.12/site-packages/IPython/utils/docs.py\": 1754562819.3227682, \"/home/ldinh/perso/.venv/lib64/python3.12/site-packages/IPython/utils/decorators.py\": 1754562819.3227682, \"/home/ldinh/perso/.venv/lib64/python3.12/site-packages/IPython/utils/text.py\": 1754562819.3467684, \"/home/ldinh/perso/.venv/lib64/python3.12/site-packages/IPython/core/magic_arguments.py\": 1754562818.7667682, \"/usr/lib64/python3.12/getopt.py\": 1733251361.0, \"/home/ldinh/perso/.venv/lib64/python3.12/site-packages/IPython/core/display_functions.py\": 1754562818.6067684, \"/usr/lib64/python3.12/mimetypes.py\": 1733251361.0, \"/home/ldinh/perso/.venv/lib64/python3.12/site-packages/IPython/testing/__init__.py\": 1754562819.2587683, \"/home/ldinh/perso/.venv/lib64/python3.12/site-packages/IPython/testing/skipdoctest.py\": 1754562819.2667682, \"/home/ldinh/perso/.venv/lib64/python3.12/site-packages/IPython/core/display.py\": 1754562818.6067684, \"/home/ldinh/perso/.venv/lib64/python3.12/site-packages/IPython/lib/__init__.py\": 1754562819.0547683, \"/home/ldinh/perso/.venv/lib64/python3.12/site-packages/IPython/lib/display.py\": 1754562819.0627682, \"/home/ldinh/perso/.venv/lib64/python3.12/site-packages/IPython/display.py\": 1754562818.5107682, \"/home/ldinh/perso/.venv/lib64/python3.12/site-packages/IPython/utils/data.py\": 1754562819.3227682, \"/home/ldinh/perso/.venv/lib64/python3.12/site-packages/IPython/core/page.py\": 1754562818.7827682, \"/home/ldinh/perso/.venv/lib64/python3.12/site-packages/IPython/lib/pretty.py\": 1754562819.0667682, \"/home/ldinh/perso/.venv/lib64/python3.12/site-packages/IPython/utils/openpy.py\": 1754562819.3347683, \"/home/ldinh/perso/.venv/lib64/python3.12/site-packages/IPython/utils/dir2.py\": 1754562819.3227682, \"/home/ldinh/perso/.venv/lib64/python3.12/site-packages/IPython/utils/wildcard.py\": 1754562819.3547683, \"/home/ldinh/perso/.venv/lib64/python3.12/site-packages/pygments/lexers/_mapping.py\": 1754562818.8947682, \"/home/ldinh/perso/.venv/lib64/python3.12/site-packages/pygments/modeline.py\": 1754562818.5347683, \"/home/ldinh/perso/.venv/lib64/python3.12/site-packages/pygments/lexers/__init__.py\": 1754562818.7787683, \"/home/ldinh/perso/.venv/lib64/python3.12/site-packages/pygments/filter.py\": 1754562818.5107682, \"/home/ldinh/perso/.venv/lib64/python3.12/site-packages/pygments/filters/__init__.py\": 1754562818.6267684, \"/home/ldinh/perso/.venv/lib64/python3.12/site-packages/pygments/regexopt.py\": 1754562818.5587683, \"/home/ldinh/perso/.venv/lib64/python3.12/site-packages/pygments/lexer.py\": 1754562818.5227683, \"/home/ldinh/perso/.venv/lib64/python3.12/site-packages/pygments/unistring.py\": 1754562818.6067684, \"/home/ldinh/perso/.venv/lib64/python3.12/site-packages/pygments/lexers/python.py\": 1754562819.1707683, \"/home/ldinh/perso/.venv/lib64/python3.12/site-packages/pygments/formatters/html.py\": 1754562818.6907682, \"/home/ldinh/perso/.venv/lib64/python3.12/site-packages/IPython/core/oinspect.py\": 1754562818.7707682, \"/home/ldinh/perso/.venv/lib64/python3.12/site-packages/IPython/utils/tokenutil.py\": 1754562819.3507683, \"/home/ldinh/perso/.venv/lib64/python3.12/site-packages/IPython/core/inputtransformer2.py\": 1754562818.7147682, \"/home/ldinh/perso/.venv/lib64/python3.12/site-packages/IPython/utils/ipstruct.py\": 1754562819.3307683, \"/home/ldinh/perso/.venv/lib64/python3.12/site-packages/IPython/core/magic.py\": 1754562818.7587683, \"/home/ldinh/perso/.venv/lib64/python3.12/site-packages/IPython/external/__init__.py\": 1754562819.0427682, \"/home/ldinh/perso/.venv/lib64/python3.12/site-packages/IPython/external/pickleshare.py\": 1754562819.0427682, \"/home/ldinh/perso/.venv/lib64/python3.12/site-packages/IPython/core/hooks.py\": 1754562818.7067683, \"/home/ldinh/perso/.venv/lib64/python3.12/site-packages/IPython/core/autocall.py\": 1754562818.5547683, \"/home/ldinh/perso/.venv/lib64/python3.12/site-packages/IPython/core/macro.py\": 1754562818.7467682, \"/home/ldinh/perso/.venv/lib64/python3.12/site-packages/IPython/core/splitinput.py\": 1754562818.8467684, \"/home/ldinh/perso/.venv/lib64/python3.12/site-packages/IPython/core/prefilter.py\": 1754562818.8067682, \"/home/ldinh/perso/.venv/lib64/python3.12/site-packages/IPython/core/alias.py\": 1754562818.5307682, \"/home/ldinh/perso/.venv/lib64/python3.12/site-packages/IPython/core/builtin_trap.py\": 1754562818.5627682, \"/home/ldinh/perso/.venv/lib64/python3.12/site-packages/decorator.py\": 1754562818.9107683, \"/usr/lib64/python3.12/lib-dynload/_sqlite3.cpython-312-x86_64-linux-gnu.so\": 1734021254.0, \"/usr/lib64/python3.12/sqlite3/dbapi2.py\": 1733251361.0, \"/usr/lib64/python3.12/sqlite3/__init__.py\": 1733251361.0, \"/home/ldinh/perso/.venv/lib64/python3.12/site-packages/IPython/core/history.py\": 1754562818.6947682, \"/home/ldinh/perso/.venv/lib64/python3.12/site-packages/IPython/core/displayhook.py\": 1754562818.6227682, \"/home/ldinh/perso/.venv/lib64/python3.12/site-packages/IPython/core/displaypub.py\": 1754562818.6267684, \"/home/ldinh/perso/.venv/lib64/python3.12/site-packages/IPython/core/events.py\": 1754562818.6467683, \"/home/ldinh/perso/.venv/lib64/python3.12/site-packages/IPython/core/extensions.py\": 1754562818.6667683, \"/home/ldinh/perso/.venv/lib64/python3.12/site-packages/IPython/utils/sentinel.py\": 1754562819.3387682, \"/home/ldinh/perso/.venv/lib64/python3.12/site-packages/IPython/core/formatters.py\": 1754562818.6787682, \"/home/ldinh/perso/.venv/lib64/python3.12/site-packages/IPython/core/logger.py\": 1754562818.7387683, \"/home/ldinh/perso/.venv/lib64/python3.12/site-packages/IPython/core/payload.py\": 1754562818.7867682, \"/home/ldinh/perso/.venv/lib64/python3.12/site-packages/IPython/core/tips.py\": 1754562818.8707683, \"/home/ldinh/perso/.venv/lib64/python3.12/site-packages/IPython/core/usage.py\": 1754562818.8827682, \"/home/ldinh/perso/.venv/lib64/python3.12/site-packages/IPython/utils/capture.py\": 1754562819.3107684, \"/home/ldinh/perso/.venv/lib64/python3.12/site-packages/IPython/utils/io.py\": 1754562819.3307683, \"/home/ldinh/perso/.venv/lib64/python3.12/site-packages/IPython/utils/strdispatch.py\": 1754562819.3387682, \"/home/ldinh/perso/.venv/lib64/python3.12/site-packages/IPython/utils/syspathcontext.py\": 1754562819.3427682, \"/home/ldinh/perso/.venv/lib64/python3.12/site-packages/IPython/core/async_helpers.py\": 1754562818.5467682, \"/home/ldinh/perso/.venv/lib64/python3.12/site-packages/IPython/core/interactiveshell.py\": 1754562818.7227683, \"/home/ldinh/perso/.venv/lib64/python3.12/site-packages/prompt_toolkit/application/current.py\": 1754562818.6387682, \"/home/ldinh/perso/.venv/lib64/python3.12/site-packages/prompt_toolkit/eventloop/utils.py\": 1754562818.9387684, \"/home/ldinh/perso/.venv/lib64/python3.12/site-packages/prompt_toolkit/eventloop/async_generator.py\": 1754562818.9227684, \"/home/ldinh/perso/.venv/lib64/python3.12/site-packages/prompt_toolkit/eventloop/inputhook.py\": 1754562818.9307683, \"/home/ldinh/perso/.venv/lib64/python3.12/site-packages/prompt_toolkit/eventloop/__init__.py\": 1754562818.9107683, \"/home/ldinh/perso/.venv/lib64/python3.12/site-packages/prompt_toolkit/application/run_in_terminal.py\": 1754562818.6667683, \"/home/ldinh/perso/.venv/lib64/python3.12/site-packages/prompt_toolkit/selection.py\": 1754562818.5867682, \"/home/ldinh/perso/.venv/lib64/python3.12/site-packages/prompt_toolkit/clipboard/base.py\": 1754562818.6827683, \"/home/ldinh/perso/.venv/lib64/python3.12/site-packages/prompt_toolkit/clipboard/in_memory.py\": 1754562818.6947682, \"/home/ldinh/perso/.venv/lib64/python3.12/site-packages/prompt_toolkit/clipboard/__init__.py\": 1754562818.6787682, \"/home/ldinh/perso/.venv/lib64/python3.12/site-packages/prompt_toolkit/cache.py\": 1754562818.4747682, \"/home/ldinh/perso/.venv/lib64/python3.12/site-packages/prompt_toolkit/enums.py\": 1754562818.5107682, \"/home/ldinh/perso/.venv/lib64/python3.12/site-packages/prompt_toolkit/filters/base.py\": 1754562818.9787683, \"/home/ldinh/perso/.venv/lib64/python3.12/site-packages/prompt_toolkit/filters/app.py\": 1754562818.9707682, \"/home/ldinh/perso/.venv/lib64/python3.12/site-packages/prompt_toolkit/filters/cli.py\": 1754562818.9867682, \"/home/ldinh/perso/.venv/lib64/python3.12/site-packages/prompt_toolkit/filters/utils.py\": 1754562818.9947684, \"/home/ldinh/perso/.venv/lib64/python3.12/site-packages/prompt_toolkit/filters/__init__.py\": 1754562818.9627683, \"/home/ldinh/perso/.venv/lib64/python3.12/site-packages/prompt_toolkit/document.py\": 1754562818.5027683, \"/home/ldinh/perso/.venv/lib64/python3.12/site-packages/prompt_toolkit/auto_suggest.py\": 1754562818.4267683, \"/home/ldinh/perso/.venv/lib64/python3.12/site-packages/prompt_toolkit/keys.py\": 1754562818.5187683, \"/home/ldinh/perso/.venv/lib64/python3.12/site-packages/prompt_toolkit/key_binding/key_bindings.py\": 1754562819.0587683, \"/home/ldinh/perso/.venv/lib64/python3.12/site-packages/wcwidth/table_vs16.py\": 1754562818.6987684, \"/home/ldinh/perso/.venv/lib64/python3.12/site-packages/wcwidth/table_wide.py\": 1754562818.7027683, \"/home/ldinh/perso/.venv/lib64/python3.12/site-packages/wcwidth/table_zero.py\": 1754562818.7067683, \"/home/ldinh/perso/.venv/lib64/python3.12/site-packages/wcwidth/unicode_versions.py\": 1754562818.7147682, \"/home/ldinh/perso/.venv/lib64/python3.12/site-packages/wcwidth/wcwidth.py\": 1754562818.7187684, \"/home/ldinh/perso/.venv/lib64/python3.12/site-packages/wcwidth/__init__.py\": 1754562818.6947682, \"/home/ldinh/perso/.venv/lib64/python3.12/site-packages/prompt_toolkit/utils.py\": 1754562818.6027682, \"/home/ldinh/perso/.venv/lib64/python3.12/site-packages/prompt_toolkit/key_binding/key_processor.py\": 1754562819.0587683, \"/home/ldinh/perso/.venv/lib64/python3.12/site-packages/prompt_toolkit/key_binding/__init__.py\": 1754562819.0467682, \"/home/ldinh/perso/.venv/lib64/python3.12/site-packages/prompt_toolkit/key_binding/vi_state.py\": 1754562819.0627682, \"/home/ldinh/perso/.venv/lib64/python3.12/site-packages/prompt_toolkit/cursor_shapes.py\": 1754562818.4907682, \"/home/ldinh/perso/.venv/lib64/python3.12/site-packages/prompt_toolkit/data_structures.py\": 1754562818.4907682, \"/home/ldinh/perso/.venv/lib64/python3.12/site-packages/prompt_toolkit/styles/base.py\": 1754562819.2667682, \"/home/ldinh/perso/.venv/lib64/python3.12/site-packages/prompt_toolkit/styles/named_colors.py\": 1754562819.2707682, \"/home/ldinh/perso/.venv/lib64/python3.12/site-packages/prompt_toolkit/styles/style.py\": 1754562819.2707682, \"/home/ldinh/perso/.venv/lib64/python3.12/site-packages/prompt_toolkit/styles/defaults.py\": 1754562819.2667682, \"/home/ldinh/perso/.venv/lib64/python3.12/site-packages/prompt_toolkit/styles/pygments.py\": 1754562819.2707682, \"/usr/lib64/python3.12/colorsys.py\": 1733251361.0, \"/home/ldinh/perso/.venv/lib64/python3.12/site-packages/prompt_toolkit/styles/style_transformation.py\": 1754562819.2707682, \"/home/ldinh/perso/.venv/lib64/python3.12/site-packages/prompt_toolkit/styles/__init__.py\": 1754562819.2667682, \"/home/ldinh/perso/.venv/lib64/python3.12/site-packages/prompt_toolkit/output/color_depth.py\": 1754562819.2427683, \"/home/ldinh/perso/.venv/lib64/python3.12/site-packages/prompt_toolkit/output/base.py\": 1754562819.2427683, \"/home/ldinh/perso/.venv/lib64/python3.12/site-packages/prompt_toolkit/output/flush_stdout.py\": 1754562819.2467682, \"/home/ldinh/perso/.venv/lib64/python3.12/site-packages/prompt_toolkit/output/plain_text.py\": 1754562819.2467682, \"/home/ldinh/perso/.venv/lib64/python3.12/site-packages/prompt_toolkit/output/defaults.py\": 1754562819.2427683, \"/home/ldinh/perso/.venv/lib64/python3.12/site-packages/prompt_toolkit/output/__init__.py\": 1754562819.2387683, \"/home/ldinh/perso/.venv/lib64/python3.12/site-packages/prompt_toolkit/output/vt100.py\": 1754562819.2467682, \"/home/ldinh/perso/.venv/lib64/python3.12/site-packages/prompt_toolkit/mouse_events.py\": 1754562818.5427682, \"/home/ldinh/perso/.venv/lib64/python3.12/site-packages/prompt_toolkit/formatted_text/base.py\": 1754562819.0187683, \"/home/ldinh/perso/.venv/lib64/python3.12/site-packages/prompt_toolkit/formatted_text/ansi.py\": 1754562819.0107682, \"/usr/lib64/python3.12/xml/__init__.py\": 1733251361.0, \"/usr/lib64/python3.12/xml/dom/domreg.py\": 1733251361.0, \"/usr/lib64/python3.12/xml/dom/__init__.py\": 1733251361.0, \"/usr/lib64/python3.12/xml/dom/minicompat.py\": 1733251361.0, \"/usr/lib64/python3.12/xml/dom/NodeFilter.py\": 1733251361.0, \"/usr/lib64/python3.12/xml/dom/xmlbuilder.py\": 1733251361.0, \"/usr/lib64/python3.12/xml/dom/minidom.py\": 1733251361.0, \"/home/ldinh/perso/.venv/lib64/python3.12/site-packages/prompt_toolkit/formatted_text/html.py\": 1754562819.0187683, \"/home/ldinh/perso/.venv/lib64/python3.12/site-packages/prompt_toolkit/formatted_text/pygments.py\": 1754562819.0187683, \"/home/ldinh/perso/.venv/lib64/python3.12/site-packages/prompt_toolkit/formatted_text/utils.py\": 1754562819.0227683, \"/home/ldinh/perso/.venv/lib64/python3.12/site-packages/prompt_toolkit/formatted_text/__init__.py\": 1754562819.0067682, \"/home/ldinh/perso/.venv/lib64/python3.12/site-packages/prompt_toolkit/completion/base.py\": 1754562818.7147682, \"/home/ldinh/perso/.venv/lib64/python3.12/site-packages/prompt_toolkit/completion/deduplicate.py\": 1754562818.7227683, \"/home/ldinh/perso/.venv/lib64/python3.12/site-packages/prompt_toolkit/completion/filesystem.py\": 1754562818.7307682, \"/home/ldinh/perso/.venv/lib64/python3.12/site-packages/prompt_toolkit/completion/word_completer.py\": 1754562818.7627683, \"/home/ldinh/perso/.venv/lib64/python3.12/site-packages/prompt_toolkit/completion/fuzzy_completer.py\": 1754562818.7387683, \"/home/ldinh/perso/.venv/lib64/python3.12/site-packages/prompt_toolkit/completion/nested.py\": 1754562818.7547684, \"/home/ldinh/perso/.venv/lib64/python3.12/site-packages/prompt_toolkit/completion/__init__.py\": 1754562818.7027683, \"/home/ldinh/perso/.venv/lib64/python3.12/site-packages/prompt_toolkit/history.py\": 1754562818.5147684, \"/home/ldinh/perso/.venv/lib64/python3.12/site-packages/prompt_toolkit/search.py\": 1754562818.5627682, \"/home/ldinh/perso/.venv/lib64/python3.12/site-packages/prompt_toolkit/validation.py\": 1754562818.6067684, \"/home/ldinh/perso/.venv/lib64/python3.12/site-packages/prompt_toolkit/buffer.py\": 1754562818.4307683, \"/home/ldinh/perso/.venv/lib64/python3.12/site-packages/prompt_toolkit/input/base.py\": 1754562819.0347683, \"/home/ldinh/perso/.venv/lib64/python3.12/site-packages/prompt_toolkit/input/defaults.py\": 1754562819.0347683, \"/home/ldinh/perso/.venv/lib64/python3.12/site-packages/prompt_toolkit/input/__init__.py\": 1754562819.0267682, \"/home/ldinh/perso/.venv/lib64/python3.12/site-packages/prompt_toolkit/input/typeahead.py\": 1754562819.0387683, \"/home/ldinh/perso/.venv/lib64/python3.12/site-packages/prompt_toolkit/key_binding/bindings/__init__.py\": 1754562819.0627682, \"/home/ldinh/perso/.venv/lib64/python3.12/site-packages/prompt_toolkit/key_binding/bindings/scroll.py\": 1754562819.0747683, \"/home/ldinh/perso/.venv/lib64/python3.12/site-packages/prompt_toolkit/key_binding/bindings/page_navigation.py\": 1754562819.0747683, \"/home/ldinh/perso/.venv/lib64/python3.12/site-packages/prompt_toolkit/lexers/base.py\": 1754562819.2347684, \"/home/ldinh/perso/.venv/lib64/python3.12/site-packages/prompt_toolkit/lexers/pygments.py\": 1754562819.2387683, \"/home/ldinh/perso/.venv/lib64/python3.12/site-packages/prompt_toolkit/lexers/__init__.py\": 1754562819.2347684, \"/home/ldinh/perso/.venv/lib64/python3.12/site-packages/prompt_toolkit/layout/utils.py\": 1754562819.0987682, \"/home/ldinh/perso/.venv/lib64/python3.12/site-packages/prompt_toolkit/layout/processors.py\": 1754562819.0987682, \"/home/ldinh/perso/.venv/lib64/python3.12/site-packages/prompt_toolkit/layout/controls.py\": 1754562819.0907683, \"/home/ldinh/perso/.venv/lib64/python3.12/site-packages/prompt_toolkit/layout/dimension.py\": 1754562819.0907683, \"/home/ldinh/perso/.venv/lib64/python3.12/site-packages/prompt_toolkit/layout/margins.py\": 1754562819.0947683, \"/home/ldinh/perso/.venv/lib64/python3.12/site-packages/prompt_toolkit/layout/mouse_handlers.py\": 1754562819.0987682, \"/home/ldinh/perso/.venv/lib64/python3.12/site-packages/prompt_toolkit/layout/screen.py\": 1754562819.0987682, \"/home/ldinh/perso/.venv/lib64/python3.12/site-packages/prompt_toolkit/layout/containers.py\": 1754562819.0867684, \"/home/ldinh/perso/.venv/lib64/python3.12/site-packages/prompt_toolkit/layout/layout.py\": 1754562819.0947683, \"/home/ldinh/perso/.venv/lib64/python3.12/site-packages/prompt_toolkit/layout/menus.py\": 1754562819.0947683, \"/home/ldinh/perso/.venv/lib64/python3.12/site-packages/prompt_toolkit/layout/scrollable_pane.py\": 1754562819.0987682, \"/home/ldinh/perso/.venv/lib64/python3.12/site-packages/prompt_toolkit/layout/__init__.py\": 1754562819.0867684, \"/home/ldinh/perso/.venv/lib64/python3.12/site-packages/prompt_toolkit/key_binding/bindings/completion.py\": 1754562819.0667682, \"/home/ldinh/perso/.venv/lib64/python3.12/site-packages/prompt_toolkit/key_binding/bindings/named_commands.py\": 1754562819.0707684, \"/home/ldinh/perso/.venv/lib64/python3.12/site-packages/prompt_toolkit/key_binding/bindings/basic.py\": 1754562819.0667682, \"/home/ldinh/perso/.venv/lib64/python3.12/site-packages/prompt_toolkit/key_binding/bindings/cpr.py\": 1754562819.0707684, \"/home/ldinh/perso/.venv/lib64/python3.12/site-packages/prompt_toolkit/key_binding/bindings/emacs.py\": 1754562819.0707684, \"/home/ldinh/perso/.venv/lib64/python3.12/site-packages/prompt_toolkit/key_binding/bindings/mouse.py\": 1754562819.0707684, \"/home/ldinh/perso/.venv/lib64/python3.12/site-packages/prompt_toolkit/input/ansi_escape_sequences.py\": 1754562819.0307682, \"/home/ldinh/perso/.venv/lib64/python3.12/site-packages/prompt_toolkit/input/vt100_parser.py\": 1754562819.0387683, \"/home/ldinh/perso/.venv/lib64/python3.12/site-packages/prompt_toolkit/key_binding/digraphs.py\": 1754562819.0547683, \"/home/ldinh/perso/.venv/lib64/python3.12/site-packages/prompt_toolkit/key_binding/bindings/vi.py\": 1754562819.0747683, \"/home/ldinh/perso/.venv/lib64/python3.12/site-packages/prompt_toolkit/key_binding/defaults.py\": 1754562819.0467682, \"/home/ldinh/perso/.venv/lib64/python3.12/site-packages/prompt_toolkit/key_binding/emacs_state.py\": 1754562819.0547683, \"/home/ldinh/perso/.venv/lib64/python3.12/site-packages/prompt_toolkit/layout/dummy.py\": 1754562819.0907683, \"/home/ldinh/perso/.venv/lib64/python3.12/site-packages/prompt_toolkit/renderer.py\": 1754562818.5587683, \"/home/ldinh/perso/.venv/lib64/python3.12/site-packages/prompt_toolkit/application/application.py\": 1754562818.6307683, \"/home/ldinh/perso/.venv/lib64/python3.12/site-packages/prompt_toolkit/application/dummy.py\": 1754562818.6467683, \"/home/ldinh/perso/.venv/lib64/python3.12/site-packages/prompt_toolkit/application/__init__.py\": 1754562818.6267684, \"/home/ldinh/perso/.venv/lib64/python3.12/site-packages/prompt_toolkit/key_binding/bindings/focus.py\": 1754562819.0707684, \"/home/ldinh/perso/.venv/lib64/python3.12/site-packages/prompt_toolkit/widgets/toolbars.py\": 1754562819.2787683, \"/home/ldinh/perso/.venv/lib64/python3.12/site-packages/prompt_toolkit/widgets/base.py\": 1754562819.2747684, \"/home/ldinh/perso/.venv/lib64/python3.12/site-packages/prompt_toolkit/widgets/dialogs.py\": 1754562819.2747684, \"/home/ldinh/perso/.venv/lib64/python3.12/site-packages/prompt_toolkit/widgets/menus.py\": 1754562819.2787683, \"/home/ldinh/perso/.venv/lib64/python3.12/site-packages/prompt_toolkit/widgets/__init__.py\": 1754562819.2747684, \"/home/ldinh/perso/.venv/lib64/python3.12/site-packages/prompt_toolkit/shortcuts/dialogs.py\": 1754562819.2547684, \"/usr/lib64/python3.12/xml/parsers/__init__.py\": 1733251361.0, \"/usr/lib64/python3.12/lib-dynload/pyexpat.cpython-312-x86_64-linux-gnu.so\": 1734021254.0, \"/usr/lib64/python3.12/xml/parsers/expat.py\": 1733251361.0, \"/usr/lib64/python3.12/xml/dom/expatbuilder.py\": 1733251361.0, \"/home/ldinh/perso/.venv/lib64/python3.12/site-packages/prompt_toolkit/shortcuts/progress_bar/formatters.py\": 1754562819.2667682, \"/home/ldinh/perso/.venv/lib64/python3.12/site-packages/prompt_toolkit/shortcuts/progress_bar/base.py\": 1754562819.2627683, \"/home/ldinh/perso/.venv/lib64/python3.12/site-packages/prompt_toolkit/shortcuts/progress_bar/__init__.py\": 1754562819.2627683, \"/home/ldinh/perso/.venv/lib64/python3.12/site-packages/prompt_toolkit/key_binding/bindings/auto_suggest.py\": 1754562819.0667682, \"/home/ldinh/perso/.venv/lib64/python3.12/site-packages/prompt_toolkit/key_binding/bindings/open_in_editor.py\": 1754562819.0747683, \"/home/ldinh/perso/.venv/lib64/python3.12/site-packages/prompt_toolkit/shortcuts/prompt.py\": 1754562819.2547684, \"/home/ldinh/perso/.venv/lib64/python3.12/site-packages/prompt_toolkit/shortcuts/utils.py\": 1754562819.2587683, \"/home/ldinh/perso/.venv/lib64/python3.12/site-packages/prompt_toolkit/shortcuts/__init__.py\": 1754562819.2547684, \"/usr/lib64/python3.12/email/feedparser.py\": 1733251361.0, \"/usr/lib64/python3.12/email/parser.py\": 1733251361.0, \"/home/ldinh/perso/.venv/lib64/python3.12/site-packages/prompt_toolkit/__init__.py\": 1754562818.4267683, \"/home/ldinh/perso/.venv/lib64/python3.12/site-packages/prompt_toolkit/patch_stdout.py\": 1754562818.5547683, \"/usr/lib64/python3.12/lib-dynload/unicodedata.cpython-312-x86_64-linux-gnu.so\": 1734021254.0, \"/home/ldinh/perso/.venv/lib64/python3.12/site-packages/IPython/core/guarded_eval.py\": 1754562818.6907682, \"/home/ldinh/perso/.venv/lib64/python3.12/site-packages/IPython/core/latex_symbols.py\": 1754562818.7307682, \"/home/ldinh/perso/.venv/lib64/python3.12/site-packages/IPython/utils/generics.py\": 1754562819.3307683, \"/home/ldinh/perso/.venv/lib64/python3.12/site-packages/parso/utils.py\": 1754562818.5827682, \"/home/ldinh/perso/.venv/lib64/python3.12/site-packages/parso/tree.py\": 1754562818.5627682, \"/home/ldinh/perso/.venv/lib64/python3.12/site-packages/parso/python/__init__.py\": 1754562818.6227682, \"/home/ldinh/perso/.venv/lib64/python3.12/site-packages/parso/python/token.py\": 1754562818.7227683, \"/home/ldinh/perso/.venv/lib64/python3.12/site-packages/parso/python/tokenize.py\": 1754562818.7267683, \"/home/ldinh/perso/.venv/lib64/python3.12/site-packages/parso/pgen2/grammar_parser.py\": 1754562818.6067684, \"/home/ldinh/perso/.venv/lib64/python3.12/site-packages/parso/pgen2/generator.py\": 1754562818.6027682, \"/home/ldinh/perso/.venv/lib64/python3.12/site-packages/parso/pgen2/__init__.py\": 1754562818.5947683, \"/home/ldinh/perso/.venv/lib64/python3.12/site-packages/parso/parser.py\": 1754562818.5587683, \"/home/ldinh/perso/.venv/lib64/python3.12/site-packages/parso/_compatibility.py\": 1754562818.5067682, \"/usr/lib64/python3.12/difflib.py\": 1733251361.0, \"/home/ldinh/perso/.venv/lib64/python3.12/site-packages/parso/python/prefix.py\": 1754562818.7187684, \"/home/ldinh/perso/.venv/lib64/python3.12/site-packages/parso/python/tree.py\": 1754562818.7347682, \"/home/ldinh/perso/.venv/lib64/python3.12/site-packages/parso/python/parser.py\": 1754562818.7027683, \"/home/ldinh/perso/.venv/lib64/python3.12/site-packages/parso/python/diff.py\": 1754562818.6307683, \"/home/ldinh/perso/.venv/lib64/python3.12/site-packages/parso/cache.py\": 1754562818.5187683, \"/home/ldinh/perso/.venv/lib64/python3.12/site-packages/parso/normalizer.py\": 1754562818.5467682, \"/home/ldinh/perso/.venv/lib64/python3.12/site-packages/parso/python/errors.py\": 1754562818.6347682, \"/home/ldinh/perso/.venv/lib64/python3.12/site-packages/parso/python/pep8.py\": 1754562818.7147682, \"/home/ldinh/perso/.venv/lib64/python3.12/site-packages/parso/file_io.py\": 1754562818.5227683, \"/home/ldinh/perso/.venv/lib64/python3.12/site-packages/parso/grammar.py\": 1754562818.5347683, \"/home/ldinh/perso/.venv/lib64/python3.12/site-packages/parso/__init__.py\": 1754562818.4947684, \"/home/ldinh/perso/.venv/lib64/python3.12/site-packages/jedi/parser_utils.py\": 1754562818.5427682, \"/home/ldinh/perso/.venv/lib64/python3.12/site-packages/jedi/debug.py\": 1754562818.5187683, \"/home/ldinh/perso/.venv/lib64/python3.12/site-packages/jedi/settings.py\": 1754562818.5467682, \"/home/ldinh/perso/.venv/lib64/python3.12/site-packages/jedi/cache.py\": 1754562818.4987683, \"/home/ldinh/perso/.venv/lib64/python3.12/site-packages/jedi/file_io.py\": 1754562818.5307682, \"/home/ldinh/perso/.venv/lib64/python3.12/site-packages/jedi/inference/cache.py\": 1754562818.6947682, \"/home/ldinh/perso/.venv/lib64/python3.12/site-packages/jedi/inference/helpers.py\": 1754562818.7387683, \"/home/ldinh/perso/.venv/lib64/python3.12/site-packages/jedi/inference/utils.py\": 1754562818.8307683, \"/home/ldinh/perso/.venv/lib64/python3.12/site-packages/jedi/inference/base_value.py\": 1754562818.6947682, \"/home/ldinh/perso/.venv/lib64/python3.12/site-packages/jedi/inference/sys_path.py\": 1754562818.8267682, \"/home/ldinh/perso/.venv/lib64/python3.12/site-packages/jedi/inference/recursion.py\": 1754562818.7827682, \"/home/ldinh/perso/.venv/lib64/python3.12/site-packages/jedi/inference/flow_analysis.py\": 1754562818.7307682, \"/home/ldinh/perso/.venv/lib64/python3.12/site-packages/jedi/common.py\": 1754562818.5107682, \"/home/ldinh/perso/.venv/lib64/python3.12/site-packages/jedi/inference/lazy_value.py\": 1754562818.7587683, \"/home/ldinh/perso/.venv/lib64/python3.12/site-packages/jedi/inference/docstrings.py\": 1754562818.7107682, \"/home/ldinh/perso/.venv/lib64/python3.12/site-packages/jedi/plugins/__init__.py\": 1754562819.0387683, \"/home/ldinh/perso/.venv/lib64/python3.12/site-packages/jedi/inference/names.py\": 1754562818.7667682, \"/home/ldinh/perso/.venv/lib64/python3.12/site-packages/jedi/inference/filters.py\": 1754562818.7187684, \"/home/ldinh/perso/.venv/lib64/python3.12/site-packages/jedi/inference/compiled/getattr_static.py\": 1754562818.8587682, \"/home/ldinh/perso/.venv/lib64/python3.12/site-packages/jedi/inference/compiled/access.py\": 1754562818.8467684, \"/home/ldinh/perso/.venv/lib64/python3.12/site-packages/jedi/inference/signature.py\": 1754562818.7947683, \"/home/ldinh/perso/.venv/lib64/python3.12/site-packages/jedi/inference/context.py\": 1754562818.7027683, \"/home/ldinh/perso/.venv/lib64/python3.12/site-packages/jedi/inference/compiled/value.py\": 1754562818.8787682, \"/home/ldinh/perso/.venv/lib64/python3.12/site-packages/jedi/inference/compiled/__init__.py\": 1754562818.8427682, \"/home/ldinh/perso/.venv/lib64/python3.12/site-packages/jedi/inference/analysis.py\": 1754562818.6787682, \"/home/ldinh/perso/.venv/lib64/python3.12/site-packages/jedi/inference/gradual/__init__.py\": 1754562818.9227684, \"/home/ldinh/perso/.venv/lib64/python3.12/site-packages/jedi/inference/value/module.py\": 1754562819.0307682, \"/home/ldinh/perso/.venv/lib64/python3.12/site-packages/jedi/inference/value/dynamic_arrays.py\": 1754562819.0187683, \"/home/ldinh/perso/.venv/lib64/python3.12/site-packages/jedi/inference/value/iterable.py\": 1754562819.0267682, \"/home/ldinh/perso/.venv/lib64/python3.12/site-packages/jedi/inference/arguments.py\": 1754562818.6827683, \"/home/ldinh/perso/.venv/lib64/python3.12/site-packages/jedi/inference/parser_cache.py\": 1754562818.7787683, \"/home/ldinh/perso/.venv/lib64/python3.12/site-packages/jedi/inference/gradual/generics.py\": 1754562818.9627683, \"/home/ldinh/perso/.venv/lib64/python3.12/site-packages/jedi/inference/value/function.py\": 1754562819.0187683, \"/home/ldinh/perso/.venv/lib64/python3.12/site-packages/jedi/inference/value/klass.py\": 1754562819.0267682, \"/home/ldinh/perso/.venv/lib64/python3.12/site-packages/jedi/inference/value/instance.py\": 1754562819.0227683, \"/home/ldinh/perso/.venv/lib64/python3.12/site-packages/jedi/inference/value/__init__.py\": 1754562819.0107682, \"/home/ldinh/perso/.venv/lib64/python3.12/site-packages/jedi/inference/gradual/base.py\": 1754562818.9387684, \"/home/ldinh/perso/.venv/lib64/python3.12/site-packages/jedi/inference/gradual/type_var.py\": 1754562818.9787683, \"/home/ldinh/perso/.venv/lib64/python3.12/site-packages/jedi/inference/gradual/typing.py\": 1754562818.9947684, \"/home/ldinh/perso/.venv/lib64/python3.12/site-packages/jedi/inference/gradual/stub_value.py\": 1754562818.9707682, \"/home/ldinh/perso/.venv/lib64/python3.12/site-packages/jedi/inference/gradual/typeshed.py\": 1754562818.9867682, \"/home/ldinh/perso/.venv/lib64/python3.12/site-packages/jedi/_compatibility.py\": 1754562818.4947684, \"/home/ldinh/perso/.venv/lib64/python3.12/site-packages/jedi/inference/compiled/subprocess/functions.py\": 1754562818.9107683, \"/home/ldinh/perso/.venv/lib64/python3.12/site-packages/jedi/api/exceptions.py\": 1754562818.6067684, \"/home/ldinh/perso/.venv/lib64/python3.12/site-packages/jedi/inference/compiled/subprocess/__init__.py\": 1754562818.8987682, \"/home/ldinh/perso/.venv/lib64/python3.12/site-packages/jedi/inference/imports.py\": 1754562818.7467682, \"/home/ldinh/perso/.venv/lib64/python3.12/site-packages/jedi/inference/param.py\": 1754562818.7707682, \"/home/ldinh/perso/.venv/lib64/python3.12/site-packages/jedi/inference/gradual/annotation.py\": 1754562818.9307683, \"/home/ldinh/perso/.venv/lib64/python3.12/site-packages/jedi/inference/value/decorator.py\": 1754562819.0147684, \"/home/ldinh/perso/.venv/lib64/python3.12/site-packages/jedi/inference/syntax_tree.py\": 1754562818.8227682, \"/home/ldinh/perso/.venv/lib64/python3.12/site-packages/jedi/inference/__init__.py\": 1754562818.6707683, \"/home/ldinh/perso/.venv/lib64/python3.12/site-packages/jedi/inference/gradual/conversion.py\": 1754562818.9507682, \"/home/ldinh/perso/.venv/lib64/python3.12/site-packages/jedi/inference/compiled/mixed.py\": 1754562818.8707683, \"/usr/lib64/python3.12/pydoc_data/__init__.py\": 1734021245.0, \"/home/ldinh/perso/.venv/lib64/python3.12/site-packages/jedi/api/keywords.py\": 1754562818.6307683, \"/home/ldinh/perso/.venv/lib64/python3.12/site-packages/jedi/api/completion_cache.py\": 1754562818.5947683, \"/home/ldinh/perso/.venv/lib64/python3.12/site-packages/jedi/api/helpers.py\": 1754562818.6227682, \"/home/ldinh/perso/.venv/lib64/python3.12/site-packages/jedi/api/classes.py\": 1754562818.5867682, \"/home/ldinh/perso/.venv/lib64/python3.12/site-packages/jedi/api/interpreter.py\": 1754562818.6267684, \"/home/ldinh/perso/.venv/lib64/python3.12/site-packages/jedi/api/strings.py\": 1754562818.6387682, \"/home/ldinh/perso/.venv/lib64/python3.12/site-packages/jedi/api/file_name.py\": 1754562818.6107683, \"/home/ldinh/perso/.venv/lib64/python3.12/site-packages/jedi/inference/docstring_utils.py\": 1754562818.7067683, \"/home/ldinh/perso/.venv/lib64/python3.12/site-packages/jedi/api/completion.py\": 1754562818.5907683, \"/usr/lib64/python3.12/filecmp.py\": 1733251361.0, \"/home/ldinh/perso/.venv/lib64/python3.12/site-packages/jedi/api/environment.py\": 1754562818.5987682, \"/home/ldinh/perso/.venv/lib64/python3.12/site-packages/jedi/inference/references.py\": 1754562818.7867682, \"/home/ldinh/perso/.venv/lib64/python3.12/site-packages/jedi/api/project.py\": 1754562818.6347682, \"/home/ldinh/perso/.venv/lib64/python3.12/site-packages/jedi/api/errors.py\": 1754562818.6067684, \"/home/ldinh/perso/.venv/lib64/python3.12/site-packages/jedi/inference/value/namespace.py\": 1754562819.0347683, \"/home/ldinh/perso/.venv/lib64/python3.12/site-packages/jedi/api/refactoring/__init__.py\": 1754562818.6547682, \"/home/ldinh/perso/.venv/lib64/python3.12/site-packages/jedi/api/refactoring/extract.py\": 1754562818.6667683, \"/home/ldinh/perso/.venv/lib64/python3.12/site-packages/jedi/inference/gradual/utils.py\": 1754562818.9987683, \"/home/ldinh/perso/.venv/lib64/python3.12/site-packages/jedi/api/__init__.py\": 1754562818.5787683, \"/home/ldinh/perso/.venv/lib64/python3.12/site-packages/jedi/plugins/stdlib.py\": 1754562819.0427682, \"/home/ldinh/perso/.venv/lib64/python3.12/site-packages/jedi/plugins/flask.py\": 1754562819.0387683, \"/home/ldinh/perso/.venv/lib64/python3.12/site-packages/jedi/plugins/pytest.py\": 1754562819.0387683, \"/home/ldinh/perso/.venv/lib64/python3.12/site-packages/jedi/plugins/django.py\": 1754562819.0387683, \"/home/ldinh/perso/.venv/lib64/python3.12/site-packages/jedi/plugins/registry.py\": 1754562819.0427682, \"/home/ldinh/perso/.venv/lib64/python3.12/site-packages/jedi/__init__.py\": 1754562818.4867682, \"/home/ldinh/perso/.venv/lib64/python3.12/site-packages/IPython/core/completer.py\": 1754562818.5827682, \"/home/ldinh/perso/.venv/lib64/python3.12/site-packages/IPython/terminal/ptutils.py\": 1754562819.0907683, \"/home/ldinh/perso/.venv/lib64/python3.12/site-packages/IPython/terminal/shortcuts/auto_match.py\": 1754562819.2547684, \"/home/ldinh/perso/.venv/lib64/python3.12/site-packages/IPython/terminal/shortcuts/filters.py\": 1754562819.2547684, \"/home/ldinh/perso/.venv/lib64/python3.12/site-packages/IPython/terminal/shortcuts/auto_suggest.py\": 1754562819.2547684, \"/home/ldinh/perso/.venv/lib64/python3.12/site-packages/IPython/terminal/shortcuts/__init__.py\": 1754562819.2547684, \"/usr/lib64/python3.12/concurrent/futures/thread.py\": 1733251361.0, \"/home/ldinh/perso/.venv/lib64/python3.12/site-packages/IPython/terminal/debugger.py\": 1754562819.0787683, \"/home/ldinh/perso/.venv/lib64/python3.12/site-packages/IPython/lib/clipboard.py\": 1754562819.0547683, \"/home/ldinh/perso/.venv/lib64/python3.12/site-packages/IPython/terminal/magics.py\": 1754562819.0867684, \"/home/ldinh/perso/.venv/lib64/python3.12/site-packages/IPython/terminal/pt_inputhooks/__init__.py\": 1754562819.2347684, \"/home/ldinh/perso/.venv/lib64/python3.12/site-packages/IPython/terminal/prompts.py\": 1754562819.0907683, \"/home/ldinh/perso/.venv/lib64/python3.12/site-packages/IPython/terminal/interactiveshell.py\": 1754562819.0827682, \"/home/ldinh/perso/.venv/lib64/python3.12/site-packages/IPython/core/magics/auto.py\": 1754562818.9107683, \"/home/ldinh/perso/.venv/lib64/python3.12/site-packages/IPython/core/magics/basic.py\": 1754562818.9227684, \"/usr/lib64/python3.12/http/__init__.py\": 1733251361.0, \"/usr/lib64/python3.12/http/client.py\": 1733251361.0, \"/usr/lib64/python3.12/urllib/response.py\": 1733251361.0, \"/usr/lib64/python3.12/urllib/error.py\": 1733251361.0, \"/usr/lib64/python3.12/urllib/request.py\": 1733251361.0, \"/home/ldinh/perso/.venv/lib64/python3.12/site-packages/IPython/utils/contexts.py\": 1754562819.3227682, \"/home/ldinh/perso/.venv/lib64/python3.12/site-packages/IPython/core/magics/code.py\": 1754562818.9307683, \"/home/ldinh/perso/.venv/lib64/python3.12/site-packages/IPython/core/magics/config.py\": 1754562818.9387684, \"/home/ldinh/perso/.venv/lib64/python3.12/site-packages/IPython/core/magics/display.py\": 1754562818.9467683, \"/usr/lib64/python3.12/lib-dynload/_lsprof.cpython-312-x86_64-linux-gnu.so\": 1734021254.0, \"/usr/lib64/python3.12/profile.py\": 1733251361.0, \"/usr/lib64/python3.12/cProfile.py\": 1733251361.0, \"/usr/lib64/python3.12/pstats.py\": 1733251361.0, \"/usr/lib64/python3.12/timeit.py\": 1733251361.0, \"/home/ldinh/perso/.venv/lib64/python3.12/site-packages/IPython/utils/module_paths.py\": 1754562819.3307683, \"/usr/lib64/python3.12/lib-dynload/resource.cpython-312-x86_64-linux-gnu.so\": 1734021254.0, \"/home/ldinh/perso/.venv/lib64/python3.12/site-packages/IPython/utils/timing.py\": 1754562819.3507683, \"/home/ldinh/perso/.venv/lib64/python3.12/site-packages/IPython/core/magics/ast_mod.py\": 1754562818.9107683, \"/home/ldinh/perso/.venv/lib64/python3.12/site-packages/IPython/core/magics/execution.py\": 1754562818.9587684, \"/home/ldinh/perso/.venv/lib64/python3.12/site-packages/IPython/core/magics/extension.py\": 1754562818.9667683, \"/home/ldinh/perso/.venv/lib64/python3.12/site-packages/IPython/core/magics/history.py\": 1754562818.9707682, \"/home/ldinh/perso/.venv/lib64/python3.12/site-packages/IPython/core/magics/logging.py\": 1754562818.9787683, \"/home/ldinh/perso/.venv/lib64/python3.12/site-packages/IPython/core/magics/namespace.py\": 1754562818.9867682, \"/home/ldinh/perso/.venv/lib64/python3.12/site-packages/IPython/core/magics/osm.py\": 1754562818.9947684, \"/home/ldinh/perso/.venv/lib64/python3.12/site-packages/IPython/core/magics/packaging.py\": 1754562819.0027683, \"/home/ldinh/perso/.venv/lib64/python3.12/site-packages/IPython/core/magics/pylab.py\": 1754562819.0067682, \"/home/ldinh/perso/.venv/lib64/python3.12/site-packages/IPython/core/magics/script.py\": 1754562819.0147684, \"/home/ldinh/perso/.venv/lib64/python3.12/site-packages/IPython/core/magics/__init__.py\": 1754562818.8947682, \"/home/ldinh/perso/.venv/lib64/python3.12/site-packages/IPython/core/shellapp.py\": 1754562818.8427682, \"/home/ldinh/perso/.venv/lib64/python3.12/site-packages/IPython/extensions/__init__.py\": 1754562819.0267682, \"/home/ldinh/perso/.venv/lib64/python3.12/site-packages/IPython/extensions/storemagic.py\": 1754562819.0307682, \"/home/ldinh/perso/.venv/lib64/python3.12/site-packages/IPython/terminal/ipapp.py\": 1754562819.0867684, \"/home/ldinh/perso/.venv/lib64/python3.12/site-packages/IPython/terminal/embed.py\": 1754562819.0787683, \"/home/ldinh/perso/.venv/lib64/python3.12/site-packages/IPython/utils/frame.py\": 1754562819.3267682, \"/home/ldinh/perso/.venv/lib64/python3.12/site-packages/IPython/__init__.py\": 1754562818.4947684, \"/home/ldinh/perso/.venv/lib64/python3.12/site-packages/ipykernel/control.py\": 1754562818.5347683, \"/home/ldinh/perso/.venv/lib64/python3.12/site-packages/ipykernel/heartbeat.py\": 1754562818.6027682, \"/home/ldinh/perso/.venv/lib64/python3.12/site-packages/ipykernel/iostream.py\": 1754562818.6067684, \"/home/ldinh/perso/.venv/lib64/python3.12/site-packages/comm/base_comm.py\": 1754562818.9667683, \"/home/ldinh/perso/.venv/lib64/python3.12/site-packages/comm/__init__.py\": 1754562818.9587684, \"/home/ldinh/perso/.venv/lib64/python3.12/site-packages/ipykernel/jsonutil.py\": 1754562818.6227682, \"/home/ldinh/perso/.venv/lib64/python3.12/site-packages/psutil/_common.py\": 1754562818.4307683, \"/home/ldinh/perso/.venv/lib64/python3.12/site-packages/psutil/_psposix.py\": 1754562818.4907682, \"/home/ldinh/perso/.venv/lib64/python3.12/site-packages/psutil/_psutil_linux.abi3.so\": 1754562818.5147684, \"/home/ldinh/perso/.venv/lib64/python3.12/site-packages/psutil/_psutil_posix.abi3.so\": 1754562818.5267682, \"/home/ldinh/perso/.venv/lib64/python3.12/site-packages/psutil/_pslinux.py\": 1754562818.5467682, \"/home/ldinh/perso/.venv/lib64/python3.12/site-packages/psutil/__init__.py\": 1754562818.4707682, \"/home/ldinh/perso/.venv/lib64/python3.12/site-packages/tornado/gen.py\": 1754562818.6707683, \"/home/ldinh/perso/.venv/lib64/python3.12/site-packages/tornado/locks.py\": 1754562818.6107683, \"/home/ldinh/perso/.venv/lib64/python3.12/site-packages/tornado/queues.py\": 1754562818.6267684, \"/home/ldinh/perso/.venv/lib64/python3.12/site-packages/ipykernel/kernelbase.py\": 1754562818.6387682, \"/home/ldinh/perso/.venv/lib64/python3.12/site-packages/ipykernel/comm/comm.py\": 1754562818.7267683, \"/home/ldinh/perso/.venv/lib64/python3.12/site-packages/ipykernel/comm/manager.py\": 1754562818.7347682, \"/home/ldinh/perso/.venv/lib64/python3.12/site-packages/ipykernel/comm/__init__.py\": 1754562818.7227683, \"/home/ldinh/perso/.venv/lib64/python3.12/site-packages/ipykernel/compiler.py\": 1754562818.5227683, \"/home/ldinh/perso/.venv/lib64/python3.12/site-packages/packaging/__init__.py\": 1754562818.4267683, \"/home/ldinh/perso/.venv/lib64/python3.12/site-packages/packaging/_structures.py\": 1754562818.4947684, \"/home/ldinh/perso/.venv/lib64/python3.12/site-packages/packaging/version.py\": 1754562818.5867682, \"/home/ldinh/perso/.venv/lib64/python3.12/site-packages/ipykernel/eventloops.py\": 1754562818.5947683, \"/home/ldinh/perso/.venv/lib64/python3.12/site-packages/ipykernel/displayhook.py\": 1754562818.5627682, \"/home/ldinh/perso/.venv/lib64/python3.12/site-packages/ipykernel/zmqshell.py\": 1754562818.7107682, \"/home/ldinh/perso/.venv/lib64/python3.12/site-packages/ipykernel/ipkernel.py\": 1754562818.6107683, \"/usr/lib64/python3.12/lib-dynload/_ctypes.cpython-312-x86_64-linux-gnu.so\": 1734021254.0, \"/usr/lib64/python3.12/ctypes/_endian.py\": 1733251361.0, \"/usr/lib64/python3.12/ctypes/__init__.py\": 1733251361.0, \"/home/ldinh/perso/.venv/lib64/python3.12/site-packages/ipykernel/parentpoller.py\": 1754562818.6627684, \"/home/ldinh/perso/.venv/lib64/python3.12/site-packages/ipykernel/kernelapp.py\": 1754562818.6307683, \"/home/ldinh/perso/.venv/lib64/python3.12/site-packages/tornado/platform/__init__.py\": 1754562818.7627683, \"/home/ldinh/perso/.venv/lib64/python3.12/site-packages/tornado/platform/asyncio.py\": 1754562818.7467682, \"/home/ldinh/perso/.venv/lib64/python3.12/site-packages/debugpy/_version.py\": 1754562818.5147684, \"/home/ldinh/perso/.venv/lib64/python3.12/site-packages/debugpy/public_api.py\": 1754562818.5267682, \"/home/ldinh/perso/.venv/lib64/python3.12/site-packages/debugpy/__init__.py\": 1754562818.4947684, \"/home/ldinh/perso/.venv/lib64/python3.12/site-packages/debugpy/_vendored/_util.py\": 1754562818.6387682, \"/home/ldinh/perso/.venv/lib64/python3.12/site-packages/debugpy/_vendored/__init__.py\": 1754562818.6467683, \"/home/ldinh/perso/.venv/lib64/python3.12/site-packages/debugpy/_vendored/pydevd/_pydevd_bundle/__init__.py\": 1754562819.0467682, \"/usr/lib64/python3.12/encodings/ascii.py\": 1733251361.0, \"/usr/lib64/python3.12/encodings/latin_1.py\": 1733251361.0, \"/usr/lib64/python3.12/stringprep.py\": 1733251361.0, \"/usr/lib64/python3.12/encodings/idna.py\": 1733251361.0, \"/home/ldinh/perso/.venv/lib64/python3.12/site-packages/debugpy/_vendored/pydevd/_pydevd_bundle/pydevd_vm_type.py\": 1754562819.1707683, \"/home/ldinh/perso/.venv/lib64/python3.12/site-packages/debugpy/_vendored/pydevd/_pydev_bundle/__init__.py\": 1754562819.3827684, \"/usr/lib64/python3.12/xmlrpc/__init__.py\": 1733251361.0, \"/usr/lib64/python3.12/gzip.py\": 1733251361.0, \"/usr/lib64/python3.12/xmlrpc/client.py\": 1733251361.0, \"/usr/lib64/python3.12/http/server.py\": 1733251361.0, \"/usr/lib64/python3.12/xmlrpc/server.py\": 1733251361.0, \"/home/ldinh/perso/.venv/lib64/python3.12/site-packages/debugpy/_vendored/pydevd/_pydev_bundle/_pydev_saved_modules.py\": 1754562819.3867683, \"/home/ldinh/perso/.venv/lib64/python3.12/site-packages/debugpy/_vendored/pydevd/_pydevd_bundle/pydevd_constants.py\": 1754562819.1667683, \"/home/ldinh/perso/.venv/lib64/python3.12/site-packages/debugpy/_vendored/pydevd/_pydev_runfiles/__init__.py\": 1754562819.2707682, \"/home/ldinh/perso/.venv/lib64/python3.12/site-packages/debugpy/_vendored/pydevd/_pydevd_frame_eval/__init__.py\": 1754562818.7467682, \"/home/ldinh/perso/.venv/lib64/python3.12/site-packages/debugpy/_vendored/pydevd/pydev_ipython/__init__.py\": 1754562819.0067682, \"/home/ldinh/perso/.venv/lib64/python3.12/site-packages/debugpy/_vendored/pydevd/pydevd_plugins/__init__.py\": 1754562819.4147682, \"/home/ldinh/perso/.venv/lib64/python3.12/site-packages/debugpy/_vendored/pydevd/_pydev_bundle/pydev_log.py\": 1754562819.3987682, \"/home/ldinh/perso/.venv/lib64/python3.12/site-packages/debugpy/_vendored/pydevd/_pydev_bundle/_pydev_filesystem_encoding.py\": 1754562819.4067683, \"/home/ldinh/perso/.venv/lib64/python3.12/site-packages/debugpy/_vendored/pydevd/_pydevd_bundle/pydevd_comm_constants.py\": 1754562819.1347682, \"/home/ldinh/perso/.venv/lib64/python3.12/site-packages/debugpy/_vendored/pydevd/pydevd_file_utils.py\": 1754562818.7067683, \"/home/ldinh/perso/.venv/lib64/python3.12/site-packages/debugpy/_vendored/pydevd/_pydevd_bundle/pydevd_dont_trace_files.py\": 1754562819.2507682, \"/home/ldinh/perso/.venv/lib64/python3.12/site-packages/debugpy/_vendored/pydevd/_pydev_bundle/_pydev_execfile.py\": 1754562819.3987682, \"/home/ldinh/perso/.venv/lib64/python3.12/site-packages/debugpy/_vendored/pydevd/_pydevd_bundle/pydevd_exec2.py\": 1754562819.1667683, \"/home/ldinh/perso/.venv/lib64/python3.12/site-packages/debugpy/_vendored/pydevd/_pydev_bundle/pydev_imports.py\": 1754562819.3867683, \"/home/ldinh/perso/.venv/lib64/python3.12/site-packages/debugpy/_vendored/pydevd/_pydev_bundle/pydev_is_thread_alive.py\": 1754562819.3867683, \"/home/ldinh/perso/.venv/lib64/python3.12/site-packages/debugpy/_vendored/pydevd/_pydev_bundle/pydev_override.py\": 1754562819.4027684, \"/home/ldinh/perso/.venv/lib64/python3.12/site-packages/debugpy/_vendored/pydevd/pydevd_plugins/extensions/__init__.py\": 1754562819.4187682, \"/home/ldinh/perso/.venv/lib64/python3.12/site-packages/debugpy/_vendored/pydevd/_pydevd_bundle/pydevd_extension_utils.py\": 1754562819.1307683, \"/home/ldinh/perso/.venv/lib64/python3.12/site-packages/debugpy/_vendored/pydevd/_pydevd_bundle/pydevd_frame_utils.py\": 1754562819.1627684, \"/home/ldinh/perso/.venv/lib64/python3.12/site-packages/debugpy/_vendored/pydevd/_pydevd_bundle/pydevd_filtering.py\": 1754562819.1627684, \"/home/ldinh/perso/.venv/lib64/python3.12/site-packages/debugpy/_vendored/pydevd/_pydevd_bundle/pydevd_io.py\": 1754562819.1667683, \"/home/ldinh/perso/.venv/lib64/python3.12/site-packages/debugpy/_vendored/pydevd/_pydevd_bundle/pydevd_defaults.py\": 1754562819.2467682, \"/home/ldinh/perso/.venv/lib64/python3.12/site-packages/debugpy/_vendored/pydevd/_pydevd_bundle/pydevd_utils.py\": 1754562819.2427683, \"/home/ldinh/perso/.venv/lib64/python3.12/site-packages/debugpy/_vendored/pydevd/_pydevd_bundle/pydevd_runpy.py\": 1754562819.1627684, \"/home/ldinh/perso/.venv/lib64/python3.12/site-packages/debugpy/_vendored/pydevd/_pydev_bundle/_pydev_tipper_common.py\": 1754562819.3827684, \"/home/ldinh/perso/.venv/lib64/python3.12/site-packages/debugpy/_vendored/pydevd/_pydev_bundle/_pydev_imports_tipper.py\": 1754562819.4027684, \"/home/ldinh/perso/.venv/lib64/python3.12/site-packages/debugpy/_vendored/pydevd/_pydev_bundle/_pydev_calltip_util.py\": 1754562819.3987682, \"/home/ldinh/perso/.venv/lib64/python3.12/site-packages/debugpy/_vendored/pydevd/_pydevd_bundle/pydevd_safe_repr.py\": 1754562819.2507682, \"/home/ldinh/perso/.venv/lib64/python3.12/site-packages/debugpy/_vendored/pydevd/_pydevd_bundle/pydevd_resolver.py\": 1754562819.1347682, \"/home/ldinh/perso/.venv/lib64/python3.12/site-packages/debugpy/_vendored/pydevd/_pydevd_bundle/pydevd_extension_api.py\": 1754562819.2467682, \"/home/ldinh/perso/.venv/lib64/python3.12/site-packages/debugpy/_vendored/pydevd/_pydevd_bundle/pydevd_xml.py\": 1754562819.1627684, \"/home/ldinh/perso/.venv/lib64/python3.12/site-packages/debugpy/_vendored/pydevd/_pydevd_bundle/pydevd_dont_trace.py\": 1754562819.1267684, \"/home/ldinh/perso/.venv/lib64/python3.12/site-packages/debugpy/_vendored/pydevd/_pydevd_frame_eval/vendored/__init__.py\": 1754562818.8227682, \"/home/ldinh/perso/.venv/lib64/python3.12/site-packages/debugpy/_vendored/pydevd/_pydevd_frame_eval/vendored/bytecode/flags.py\": 1754562818.8587682, \"/home/ldinh/perso/.venv/lib64/python3.12/site-packages/debugpy/_vendored/pydevd/_pydevd_frame_eval/vendored/bytecode/instr.py\": 1754562818.8787682, \"/home/ldinh/perso/.venv/lib64/python3.12/site-packages/debugpy/_vendored/pydevd/_pydevd_frame_eval/vendored/bytecode/bytecode.py\": 1754562818.8707683, \"/home/ldinh/perso/.venv/lib64/python3.12/site-packages/debugpy/_vendored/pydevd/_pydevd_frame_eval/vendored/bytecode/concrete.py\": 1754562818.9067683, \"/home/ldinh/perso/.venv/lib64/python3.12/site-packages/debugpy/_vendored/pydevd/_pydevd_frame_eval/vendored/bytecode/cfg.py\": 1754562818.8467684, \"/home/ldinh/perso/.venv/lib64/python3.12/site-packages/debugpy/_vendored/pydevd/_pydevd_frame_eval/vendored/bytecode/__init__.py\": 1754562818.8427682, \"/home/ldinh/perso/.venv/lib64/python3.12/site-packages/debugpy/_vendored/pydevd/_pydevd_bundle/pydevd_bytecode_utils.py\": 1754562819.2187684, \"/home/ldinh/perso/.venv/lib64/python3.12/site-packages/debugpy/_vendored/pydevd/_pydevd_bundle/pydevd_cython.cpython-312-x86_64-linux-gnu.so\": 1754562819.1267684, \"/home/ldinh/perso/.venv/lib64/python3.12/site-packages/debugpy/_vendored/pydevd/_pydevd_bundle/pydevd_cython_wrapper.py\": 1754562819.1547682, \"/home/ldinh/perso/.venv/lib64/python3.12/site-packages/debugpy/_vendored/pydevd/_pydevd_bundle/pydevd_additional_thread_info.py\": 1754562819.1627684, \"/home/ldinh/perso/.venv/lib64/python3.12/site-packages/debugpy/_vendored/pydevd/_pydevd_sys_monitoring/_pydevd_sys_monitoring_cython.cpython-312-x86_64-linux-gnu.so\": 1754562819.3747683, \"/home/ldinh/perso/.venv/lib64/python3.12/site-packages/debugpy/_vendored/pydevd/_pydevd_bundle/pydevd_additional_thread_info_regular.py\": 1754562819.2387683, \"/home/ldinh/perso/.venv/lib64/python3.12/site-packages/debugpy/_vendored/pydevd/_pydevd_bundle/pydevd_trace_dispatch.py\": 1754562819.0467682, \"/home/ldinh/perso/.venv/lib64/python3.12/site-packages/debugpy/_vendored/pydevd/_pydevd_bundle/pydevd_import_class.py\": 1754562819.1627684, \"/home/ldinh/perso/.venv/lib64/python3.12/site-packages/debugpy/_vendored/pydevd/_pydevd_bundle/pydevd_breakpoints.py\": 1754562819.1587682, \"/home/ldinh/perso/.venv/lib64/python3.12/site-packages/debugpy/_vendored/pydevd/_pydevd_sys_monitoring/pydevd_sys_monitoring.py\": 1754562819.2907684, \"/home/ldinh/perso/.venv/lib64/python3.12/site-packages/debugpy/_vendored/pydevd/_pydevd_bundle/pydevd_thread_lifecycle.py\": 1754562819.1587682, \"/home/ldinh/perso/.venv/lib64/python3.12/site-packages/debugpy/_vendored/pydevd/_pydevd_bundle/pydevd_save_locals.py\": 1754562819.2387683, \"/home/ldinh/perso/.venv/lib64/python3.12/site-packages/debugpy/_vendored/pydevd/_pydev_bundle/pydev_monkey.py\": 1754562819.3947682, \"/home/ldinh/perso/.venv/lib64/python3.12/site-packages/debugpy/_vendored/pydevd/pydevd_tracing.py\": 1754562818.7227683, \"/home/ldinh/perso/.venv/lib64/python3.12/site-packages/debugpy/_vendored/pydevd/_pydevd_bundle/pydevd_collect_bytecode_info.py\": 1754562819.2427683, \"/home/ldinh/perso/.venv/lib64/python3.12/site-packages/debugpy/_vendored/pydevd/_pydevd_bundle/pydevd_daemon_thread.py\": 1754562819.1667683, \"/home/ldinh/perso/.venv/lib64/python3.12/site-packages/debugpy/_vendored/pydevd/_pydevd_bundle/pydevd_timeout.py\": 1754562819.1347682, \"/home/ldinh/perso/.venv/lib64/python3.12/site-packages/debugpy/_vendored/pydevd/_pydevd_bundle/pydevd_vars.py\": 1754562819.1307683, \"/home/ldinh/perso/.venv/lib64/python3.12/site-packages/debugpy/_vendored/pydevd/_pydev_bundle/pydev_console_utils.py\": 1754562819.3907683, \"/home/ldinh/perso/.venv/lib64/python3.12/site-packages/debugpy/_vendored/pydevd/_pydevd_bundle/pydevd_custom_frames.py\": 1754562819.1267684, \"/home/ldinh/perso/.venv/lib64/python3.12/site-packages/debugpy/_vendored/pydevd/_pydevd_bundle/pydevd_net_command.py\": 1754562819.1587682, \"/home/ldinh/perso/.venv/lib64/python3.12/site-packages/debugpy/_vendored/pydevd/_pydevd_bundle/pydevconsole_code.py\": 1754562819.2467682, \"/home/ldinh/perso/.venv/lib64/python3.12/site-packages/debugpy/_vendored/pydevd/_pydev_bundle/pydev_umd.py\": 1754562819.3907683, \"/home/ldinh/perso/.venv/lib64/python3.12/site-packages/debugpy/_vendored/pydevd/pydevconsole.py\": 1754562818.7267683, \"/home/ldinh/perso/.venv/lib64/python3.12/site-packages/debugpy/_vendored/pydevd/_pydev_bundle/_pydev_completer.py\": 1754562819.4067683, \"/home/ldinh/perso/.venv/lib64/python3.12/site-packages/debugpy/_vendored/pydevd/_pydevd_bundle/pydevd_net_command_factory_xml.py\": 1754562819.1667683, \"/home/ldinh/perso/.venv/lib64/python3.12/site-packages/debugpy/_vendored/pydevd/_pydevd_frame_eval/pydevd_frame_eval_main.py\": 1754562818.7827682, \"/home/ldinh/perso/.venv/lib64/python3.12/site-packages/debugpy/_vendored/pydevd/_pydevd_bundle/pydevd_source_mapping.py\": 1754562819.1707683, \"/home/ldinh/perso/.venv/lib64/python3.12/site-packages/debugpy/_vendored/pydevd/_pydevd_bundle/pydevd_concurrency_analyser/__init__.py\": 1754562819.2547684, \"/home/ldinh/perso/.venv/lib64/python3.12/site-packages/debugpy/_vendored/pydevd/_pydevd_bundle/pydevd_concurrency_analyser/pydevd_thread_wrappers.py\": 1754562819.2547684, \"/home/ldinh/perso/.venv/lib64/python3.12/site-packages/debugpy/_vendored/pydevd/_pydevd_bundle/pydevd_concurrency_analyser/pydevd_concurrency_logger.py\": 1754562819.2547684, \"/home/ldinh/perso/.venv/lib64/python3.12/site-packages/debugpy/_vendored/pydevd/_pydevd_bundle/_debug_adapter/__init__.py\": 1754562819.2587683, \"/home/ldinh/perso/.venv/lib64/python3.12/site-packages/debugpy/_vendored/pydevd/_pydevd_bundle/_debug_adapter/pydevd_schema_log.py\": 1754562819.2587683, \"/home/ldinh/perso/.venv/lib64/python3.12/site-packages/debugpy/_vendored/pydevd/_pydevd_bundle/_debug_adapter/pydevd_base_schema.py\": 1754562819.2667682, \"/home/ldinh/perso/.venv/lib64/python3.12/site-packages/debugpy/_vendored/pydevd/_pydevd_bundle/_debug_adapter/pydevd_schema.py\": 1754562819.2627683, \"/home/ldinh/perso/.venv/lib64/python3.12/site-packages/debugpy/_vendored/pydevd/_pydevd_bundle/pydevd_reload.py\": 1754562819.2347684, \"/home/ldinh/perso/.venv/lib64/python3.12/site-packages/debugpy/_vendored/pydevd/_pydev_bundle/fsnotify/__init__.py\": 1754562819.4107683, \"/home/ldinh/perso/.venv/lib64/python3.12/site-packages/debugpy/_vendored/pydevd/_pydevd_bundle/pydevd_console.py\": 1754562819.1627684, \"/home/ldinh/perso/.venv/lib64/python3.12/site-packages/debugpy/_vendored/pydevd/_pydevd_bundle/pydevd_comm.py\": 1754562819.2347684, \"/home/ldinh/perso/.venv/lib64/python3.12/site-packages/debugpy/_vendored/pydevd/_pydevd_bundle/pydevd_net_command_factory_json.py\": 1754562819.1347682, \"/home/ldinh/perso/.venv/lib64/python3.12/site-packages/debugpy/_vendored/pydevd/_pydevd_bundle/pydevd_api.py\": 1754562819.2427683, \"/home/ldinh/perso/.venv/lib64/python3.12/site-packages/debugpy/_vendored/pydevd/_pydevd_bundle/pydevd_json_debug_options.py\": 1754562819.1587682, \"/home/ldinh/perso/.venv/lib64/python3.12/site-packages/debugpy/_vendored/pydevd/_pydevd_bundle/pydevd_process_net_command_json.py\": 1754562819.1587682, \"/home/ldinh/perso/.venv/lib64/python3.12/site-packages/debugpy/_vendored/pydevd/_pydevd_bundle/pydevd_traceproperty.py\": 1754562819.1267684, \"/home/ldinh/perso/.venv/lib64/python3.12/site-packages/debugpy/_vendored/pydevd/_pydevd_bundle/pydevd_process_net_command.py\": 1754562819.1587682, \"/home/ldinh/perso/.venv/lib64/python3.12/site-packages/debugpy/_vendored/pydevd/_pydevd_bundle/pydevd_suspended_frames.py\": 1754562819.1707683, \"/home/ldinh/perso/.venv/lib64/python3.12/site-packages/debugpy/_vendored/pydevd/pydevd_plugins/pydevd_line_validation.py\": 1754562819.4147682, \"/home/ldinh/perso/.venv/lib64/python3.12/site-packages/debugpy/_vendored/pydevd/pydevd_plugins/django_debug.py\": 1754562819.4147682, \"/home/ldinh/perso/.venv/lib64/python3.12/site-packages/debugpy/_vendored/pydevd/pydevd_plugins/jinja2_debug.py\": 1754562819.4147682, \"/home/ldinh/perso/.venv/lib64/python3.12/site-packages/debugpy/_vendored/pydevd/_pydevd_bundle/pydevd_plugin_utils.py\": 1754562819.2387683, \"/home/ldinh/perso/.venv/lib64/python3.12/site-packages/debugpy/_vendored/pydevd/pydevd_plugins/extensions/types/__init__.py\": 1754562819.4227684, \"/home/ldinh/perso/.venv/lib64/python3.12/site-packages/debugpy/_vendored/pydevd/pydevd_plugins/extensions/types/pydevd_helpers.py\": 1754562819.4227684, \"/home/ldinh/perso/.venv/lib64/python3.12/site-packages/debugpy/_vendored/pydevd/pydevd_plugins/extensions/types/pydevd_plugin_numpy_types.py\": 1754562819.4267683, \"/home/ldinh/perso/.venv/lib64/python3.12/site-packages/debugpy/_vendored/pydevd/pydevd_plugins/extensions/types/pydevd_plugin_pandas_types.py\": 1754562819.4227684, \"/home/ldinh/perso/.venv/lib64/python3.12/site-packages/debugpy/_vendored/pydevd/pydevd_plugins/extensions/types/pydevd_plugins_django_form_str.py\": 1754562819.4227684, \"/home/ldinh/perso/.venv/lib64/python3.12/site-packages/debugpy/_vendored/pydevd/pydevd.py\": 1754562818.7147682, \"/home/ldinh/perso/.venv/lib64/python3.12/site-packages/debugpy/_vendored/force_pydevd.py\": 1754562818.6787682, \"/home/ldinh/perso/.venv/lib64/python3.12/site-packages/debugpy/server/__init__.py\": 1754562818.6107683, \"/home/ldinh/perso/.venv/lib64/python3.12/site-packages/debugpy/adapter/__init__.py\": 1754562819.4987683, \"/home/ldinh/perso/.venv/lib64/python3.12/site-packages/debugpy/common/__init__.py\": 1754562819.5067682, \"/home/ldinh/perso/.venv/lib64/python3.12/site-packages/debugpy/common/json.py\": 1754562819.5107682, \"/home/ldinh/perso/.venv/lib64/python3.12/site-packages/debugpy/common/timestamp.py\": 1754562819.5067682, \"/home/ldinh/perso/.venv/lib64/python3.12/site-packages/debugpy/common/util.py\": 1754562819.5107682, \"/home/ldinh/perso/.venv/lib64/python3.12/site-packages/debugpy/common/log.py\": 1754562819.5107682, \"/home/ldinh/perso/.venv/lib64/python3.12/site-packages/debugpy/common/sockets.py\": 1754562819.5107682, \"/home/ldinh/perso/.venv/lib64/python3.12/site-packages/debugpy/server/api.py\": 1754562818.6267684, \"/home/ldinh/perso/.venv/lib64/python3.12/site-packages/ipykernel/debugger.py\": 1754562818.5547683, \"/home/ldinh/perso/.venv/lib64/python3.12/site-packages/IPython/core/completerlib.py\": 1754562818.5907683, \"/home/ldinh/perso/.venv/lib64/python3.12/site-packages/matplotlib/_api/deprecation.py\": 1754563015.0747714, \"/home/ldinh/perso/.venv/lib64/python3.12/site-packages/matplotlib/_api/__init__.py\": 1754563015.0747714, \"/home/ldinh/perso/.venv/lib64/python3.12/site-packages/matplotlib/_version.py\": 1754563014.8867712, \"/home/ldinh/perso/.venv/lib64/python3.12/site-packages/numpy/version.py\": 1754563014.8627713, \"/home/ldinh/perso/.venv/lib64/python3.12/site-packages/numpy/_expired_attrs_2_0.py\": 1754563014.8507712, \"/home/ldinh/perso/.venv/lib64/python3.12/site-packages/numpy/_utils/_convertions.py\": 1754563015.2427714, \"/home/ldinh/perso/.venv/lib64/python3.12/site-packages/numpy/_utils/__init__.py\": 1754563015.2387712, \"/home/ldinh/perso/.venv/lib64/python3.12/site-packages/numpy/_globals.py\": 1754563014.8507712, \"/home/ldinh/perso/.venv/lib64/python3.12/site-packages/numpy/_distributor_init.py\": 1754563014.8467712, \"/home/ldinh/perso/.venv/lib64/python3.12/site-packages/numpy/exceptions.py\": 1754563014.8547714, \"/home/ldinh/perso/.venv/lib64/python3.12/site-packages/numpy/_core/_exceptions.py\": 1754563014.8907714, \"/home/ldinh/perso/.venv/lib64/python3.12/site-packages/numpy/_core/printoptions.py\": 1754563015.0587714, \"/home/ldinh/perso/.venv/lib64/python3.12/site-packages/numpy/dtypes.py\": 1754563014.8547714, \"/home/ldinh/perso/.venv/lib64/python3.12/site-packages/numpy/_core/_multiarray_umath.cpython-312-x86_64-linux-gnu.so\": 1754563014.9707713, \"/home/ldinh/perso/.venv/lib64/python3.12/site-packages/numpy/_utils/_inspect.py\": 1754563015.2467713, \"/home/ldinh/perso/.venv/lib64/python3.12/site-packages/numpy/_core/overrides.py\": 1754563015.0587714, \"/home/ldinh/perso/.venv/lib64/python3.12/site-packages/numpy/_core/multiarray.py\": 1754563015.0467713, \"/home/ldinh/perso/.venv/lib64/python3.12/site-packages/numpy/_core/umath.py\": 1754563015.0667713, \"/home/ldinh/perso/.venv/lib64/python3.12/site-packages/numpy/_core/_dtype.py\": 1754563014.8867712, \"/home/ldinh/perso/.venv/lib64/python3.12/site-packages/numpy/_core/_string_helpers.py\": 1754563015.0107713, \"/home/ldinh/perso/.venv/lib64/python3.12/site-packages/numpy/_core/_type_aliases.py\": 1754563015.0147712, \"/home/ldinh/perso/.venv/lib64/python3.12/site-packages/numpy/_core/numerictypes.py\": 1754563015.0587714, \"/home/ldinh/perso/.venv/lib64/python3.12/site-packages/numpy/_core/_ufunc_config.py\": 1754563015.0147712, \"/home/ldinh/perso/.venv/lib64/python3.12/site-packages/numpy/_core/_methods.py\": 1754563014.8947713, \"/home/ldinh/perso/.venv/lib64/python3.12/site-packages/numpy/_core/fromnumeric.py\": 1754563015.0227714, \"/home/ldinh/perso/.venv/lib64/python3.12/site-packages/numpy/_core/_machar.py\": 1754563014.8907714, \"/home/ldinh/perso/.venv/lib64/python3.12/site-packages/numpy/_core/shape_base.py\": 1754563015.0627713, \"/home/ldinh/perso/.venv/lib64/python3.12/site-packages/numpy/_core/_asarray.py\": 1754563014.8827713, \"/home/ldinh/perso/.venv/lib64/python3.12/site-packages/numpy/_core/arrayprint.py\": 1754563015.0187714, \"/home/ldinh/perso/.venv/lib64/python3.12/site-packages/numpy/_core/numeric.py\": 1754563015.0547712, \"/home/ldinh/perso/.venv/lib64/python3.12/site-packages/numpy/_core/einsumfunc.py\": 1754563015.0227714, \"/home/ldinh/perso/.venv/lib64/python3.12/site-packages/numpy/_core/function_base.py\": 1754563015.0267713, \"/home/ldinh/perso/.venv/lib64/python3.12/site-packages/numpy/_core/getlimits.py\": 1754563015.0267713, \"/home/ldinh/perso/.venv/lib64/python3.12/site-packages/numpy/_core/memmap.py\": 1754563015.0467713, \"/home/ldinh/perso/.venv/lib64/python3.12/site-packages/numpy/_core/records.py\": 1754563015.0627713, \"/home/ldinh/perso/.venv/lib64/python3.12/site-packages/numpy/_core/_add_newdocs.py\": 1754563014.8747714, \"/home/ldinh/perso/.venv/lib64/python3.12/site-packages/numpy/_core/_add_newdocs_scalars.py\": 1754563014.8747714, \"/home/ldinh/perso/.venv/lib64/python3.12/site-packages/numpy/_core/_dtype_ctypes.py\": 1754563014.8867712, \"/home/ldinh/perso/.venv/lib64/python3.12/site-packages/numpy/_core/_internal.py\": 1754563014.8907714, \"/home/ldinh/perso/.venv/lib64/python3.12/site-packages/numpy/_pytesttester.py\": 1754563014.8507712, \"/home/ldinh/perso/.venv/lib64/python3.12/site-packages/numpy/_core/__init__.py\": 1754563014.8707714, \"/home/ldinh/perso/.venv/lib64/python3.12/site-packages/numpy/__config__.py\": 1754563014.8067713, \"/home/ldinh/perso/.venv/lib64/python3.12/site-packages/numpy/_typing/_nbit_base.py\": 1754563015.2227714, \"/home/ldinh/perso/.venv/lib64/python3.12/site-packages/numpy/_typing/_nested_sequence.py\": 1754563015.2267714, \"/home/ldinh/perso/.venv/lib64/python3.12/site-packages/numpy/_typing/_shape.py\": 1754563015.2307713, \"/home/ldinh/perso/.venv/lib64/python3.12/site-packages/numpy/_typing/_array_like.py\": 1754563015.2067714, \"/home/ldinh/perso/.venv/lib64/python3.12/site-packages/numpy/_typing/_char_codes.py\": 1754563015.2147713, \"/home/ldinh/perso/.venv/lib64/python3.12/site-packages/numpy/_typing/_dtype_like.py\": 1754563015.2147713, \"/home/ldinh/perso/.venv/lib64/python3.12/site-packages/numpy/_typing/_nbit.py\": 1754563015.2227714, \"/home/ldinh/perso/.venv/lib64/python3.12/site-packages/numpy/_typing/_scalars.py\": 1754563015.2307713, \"/home/ldinh/perso/.venv/lib64/python3.12/site-packages/numpy/_typing/_ufunc.py\": 1754563015.2307713, \"/home/ldinh/perso/.venv/lib64/python3.12/site-packages/numpy/_typing/__init__.py\": 1754563015.1987712, \"/home/ldinh/perso/.venv/lib64/python3.12/site-packages/numpy/lib/_stride_tricks_impl.py\": 1754563015.5827713, \"/home/ldinh/perso/.venv/lib64/python3.12/site-packages/numpy/lib/_twodim_base_impl.py\": 1754563015.5827713, \"/home/ldinh/perso/.venv/lib64/python3.12/site-packages/numpy/lib/_array_utils_impl.py\": 1754563015.5587714, \"/home/ldinh/perso/.venv/lib64/python3.12/site-packages/numpy/lib/array_utils.py\": 1754563015.5907712, \"/home/ldinh/perso/.venv/lib64/python3.12/site-packages/numpy/linalg/_umath_linalg.cpython-312-x86_64-linux-gnu.so\": 1754563015.6347713, \"/home/ldinh/perso/.venv/lib64/python3.12/site-packages/numpy/linalg/_linalg.py\": 1754563015.6307714, \"/home/ldinh/perso/.venv/lib64/python3.12/site-packages/numpy/linalg/linalg.py\": 1754563015.6387713, \"/home/ldinh/perso/.venv/lib64/python3.12/site-packages/numpy/linalg/__init__.py\": 1754563015.6307714, \"/home/ldinh/perso/.venv/lib64/python3.12/site-packages/numpy/matrixlib/defmatrix.py\": 1754563015.6627712, \"/home/ldinh/perso/.venv/lib64/python3.12/site-packages/numpy/matrixlib/__init__.py\": 1754563015.6627712, \"/home/ldinh/perso/.venv/lib64/python3.12/site-packages/numpy/lib/_histograms_impl.py\": 1754563015.5667713, \"/home/ldinh/perso/.venv/lib64/python3.12/site-packages/numpy/lib/_function_base_impl.py\": 1754563015.5667713, \"/home/ldinh/perso/.venv/lib64/python3.12/site-packages/numpy/lib/stride_tricks.py\": 1754563015.5987713, \"/home/ldinh/perso/.venv/lib64/python3.12/site-packages/numpy/lib/_index_tricks_impl.py\": 1754563015.5667713, \"/home/ldinh/perso/.venv/lib64/python3.12/site-packages/numpy/lib/_arraypad_impl.py\": 1754563015.5587714, \"/home/ldinh/perso/.venv/lib64/python3.12/site-packages/numpy/lib/_arraysetops_impl.py\": 1754563015.5587714, \"/home/ldinh/perso/.venv/lib64/python3.12/site-packages/numpy/lib/_arrayterator_impl.py\": 1754563015.5587714, \"/home/ldinh/perso/.venv/lib64/python3.12/site-packages/numpy/lib/_nanfunctions_impl.py\": 1754563015.5747714, \"/home/ldinh/perso/.venv/lib64/python3.12/site-packages/numpy/lib/_utils_impl.py\": 1754563015.5907712, \"/home/ldinh/perso/.venv/lib64/python3.12/site-packages/numpy/lib/_format_impl.py\": 1754563015.5627713, \"/home/ldinh/perso/.venv/lib64/python3.12/site-packages/numpy/lib/format.py\": 1754563015.5907712, \"/home/ldinh/perso/.venv/lib64/python3.12/site-packages/numpy/lib/_datasource.py\": 1754563015.5627713, \"/home/ldinh/perso/.venv/lib64/python3.12/site-packages/numpy/lib/_iotools.py\": 1754563015.5707712, \"/home/ldinh/perso/.venv/lib64/python3.12/site-packages/numpy/lib/_npyio_impl.py\": 1754563015.5747714, \"/home/ldinh/perso/.venv/lib64/python3.12/site-packages/numpy/lib/_ufunclike_impl.py\": 1754563015.5867712, \"/home/ldinh/perso/.venv/lib64/python3.12/site-packages/numpy/lib/_type_check_impl.py\": 1754563015.5827713, \"/home/ldinh/perso/.venv/lib64/python3.12/site-packages/numpy/lib/_polynomial_impl.py\": 1754563015.5787714, \"/home/ldinh/perso/.venv/lib64/python3.12/site-packages/numpy/lib/_shape_base_impl.py\": 1754563015.5787714, \"/home/ldinh/perso/.venv/lib64/python3.12/site-packages/numpy/lib/_version.py\": 1754563015.5907712, \"/home/ldinh/perso/.venv/lib64/python3.12/site-packages/numpy/lib/introspect.py\": 1754563015.5947714, \"/home/ldinh/perso/.venv/lib64/python3.12/site-packages/numpy/lib/mixins.py\": 1754563015.5947714, \"/home/ldinh/perso/.venv/lib64/python3.12/site-packages/numpy/lib/npyio.py\": 1754563015.5947714, \"/home/ldinh/perso/.venv/lib64/python3.12/site-packages/numpy/lib/_scimath_impl.py\": 1754563015.5787714, \"/home/ldinh/perso/.venv/lib64/python3.12/site-packages/numpy/lib/scimath.py\": 1754563015.5987713, \"/home/ldinh/perso/.venv/lib64/python3.12/site-packages/numpy/lib/__init__.py\": 1754563015.5547714, \"/home/ldinh/perso/.venv/lib64/python3.12/site-packages/numpy/_array_api_info.py\": 1754563014.8347714, \"/home/ldinh/perso/.venv/lib64/python3.12/site-packages/numpy/__init__.py\": 1754563014.8227713, \"/home/ldinh/perso/.venv/lib64/python3.12/site-packages/matplotlib/_c_internal_utils.cpython-312-x86_64-linux-gnu.so\": 1754563014.8227713, \"/home/ldinh/perso/.venv/lib64/python3.12/site-packages/matplotlib/cbook.py\": 1754563014.9147713, \"/home/ldinh/perso/.venv/lib64/python3.12/site-packages/matplotlib/_docstring.py\": 1754563014.8507712, \"/home/ldinh/perso/.venv/lib64/python3.12/site-packages/matplotlib/backends/registry.py\": 1754563015.1307714, \"/home/ldinh/perso/.venv/lib64/python3.12/site-packages/matplotlib/backends/__init__.py\": 1754563015.0867712, \"/home/ldinh/perso/.venv/lib64/python3.12/site-packages/PIL/_version.py\": 1754563015.0227714, \"/home/ldinh/perso/.venv/lib64/python3.12/site-packages/PIL/__init__.py\": 1754563014.9627714, \"/home/ldinh/perso/.venv/lib64/python3.12/site-packages/PIL/ExifTags.py\": 1754563014.8227713, \"/home/ldinh/perso/.venv/lib64/python3.12/site-packages/PIL/_deprecate.py\": 1754563014.9747713, \"/home/ldinh/perso/.venv/lib64/python3.12/site-packages/PIL/ImageMode.py\": 1754563014.8747714, \"/home/ldinh/perso/.venv/lib64/python3.12/site-packages/PIL/TiffTags.py\": 1754563014.9507713, \"/home/ldinh/perso/.venv/lib64/python3.12/site-packages/PIL/_binary.py\": 1754563014.9707713, \"/home/ldinh/perso/.venv/lib64/python3.12/site-packages/PIL/_typing.py\": 1754563015.0187714, \"/home/ldinh/perso/.venv/lib64/python3.12/site-packages/PIL/_util.py\": 1754563015.0187714, \"/home/ldinh/perso/.venv/lib64/python3.12/site-packages/defusedxml/common.py\": 1754562818.7387683, \"/home/ldinh/perso/.venv/lib64/python3.12/site-packages/defusedxml/__init__.py\": 1754562818.7267683, \"/usr/lib64/python3.12/xml/etree/__init__.py\": 1733251361.0, \"/usr/lib64/python3.12/xml/etree/ElementPath.py\": 1733251361.0, \"/usr/lib64/python3.12/lib-dynload/_elementtree.cpython-312-x86_64-linux-gnu.so\": 1734021254.0, \"/usr/lib64/python3.12/xml/etree/ElementTree.py\": 1733251361.0, \"/home/ldinh/perso/.venv/lib64/python3.12/site-packages/defusedxml/ElementTree.py\": 1754562818.7227683, \"/home/ldinh/perso/.venv/lib64/python3.12/site-packages/PIL/_imaging.cpython-312-x86_64-linux-gnu.so\": 1754563015.0027714, \"/home/ldinh/perso/.venv/lib64/python3.12/site-packages/PIL/Image.py\": 1754563014.8587713, \"/home/ldinh/perso/.venv/lib64/python3.12/site-packages/PIL/ImageChops.py\": 1754563014.8587713, \"/home/ldinh/perso/.venv/lib64/python3.12/site-packages/PIL/ImageFile.py\": 1754563014.8667712, \"/home/ldinh/perso/.venv/lib64/python3.12/site-packages/PIL/GimpGradientFile.py\": 1754563014.8507712, \"/home/ldinh/perso/.venv/lib64/python3.12/site-packages/PIL/GimpPaletteFile.py\": 1754563014.8507712, \"/home/ldinh/perso/.venv/lib64/python3.12/site-packages/PIL/ImageColor.py\": 1754563014.8627713, \"/home/ldinh/perso/.venv/lib64/python3.12/site-packages/PIL/PaletteFile.py\": 1754563014.9267714, \"/home/ldinh/perso/.venv/lib64/python3.12/site-packages/PIL/ImagePalette.py\": 1754563014.8867712, \"/home/ldinh/perso/.venv/lib64/python3.12/site-packages/PIL/ImageSequence.py\": 1754563014.8867712, \"/home/ldinh/perso/.venv/lib64/python3.12/site-packages/PIL/PngImagePlugin.py\": 1754563014.9427712, \"/home/ldinh/perso/.venv/lib64/python3.12/site-packages/matplotlib/_cm.py\": 1754563014.8387713, \"/home/ldinh/perso/.venv/lib64/python3.12/site-packages/matplotlib/_path.cpython-312-x86_64-linux-gnu.so\": 1754563014.8627713, \"/home/ldinh/perso/.venv/lib64/python3.12/site-packages/matplotlib/bezier.py\": 1754563014.9107714, \"/home/ldinh/perso/.venv/lib64/python3.12/site-packages/matplotlib/path.py\": 1754563015.0227714, \"/home/ldinh/perso/.venv/lib64/python3.12/site-packages/matplotlib/transforms.py\": 1754563015.0707712, \"/home/ldinh/perso/.venv/lib64/python3.12/site-packages/matplotlib/ticker.py\": 1754563015.0667713, \"/home/ldinh/perso/.venv/lib64/python3.12/site-packages/matplotlib/scale.py\": 1754563015.0547712, \"/home/ldinh/perso/.venv/lib64/python3.12/site-packages/matplotlib/_image.cpython-312-x86_64-linux-gnu.so\": 1754563014.8547714, \"/home/ldinh/perso/.venv/lib64/python3.12/site-packages/matplotlib/_color_data.py\": 1754563014.8467712, \"/home/ldinh/perso/.venv/lib64/python3.12/site-packages/matplotlib/colors.py\": 1754563014.9347713, \"/home/ldinh/perso/.venv/lib64/python3.12/site-packages/pyparsing/util.py\": 1754563014.8467712, \"/home/ldinh/perso/.venv/lib64/python3.12/site-packages/pyparsing/unicode.py\": 1754563014.8467712, \"/home/ldinh/perso/.venv/lib64/python3.12/site-packages/pyparsing/exceptions.py\": 1754563014.8227713, \"/home/ldinh/perso/.venv/lib64/python3.12/site-packages/pyparsing/results.py\": 1754563014.8387713, \"/home/ldinh/perso/.venv/lib64/python3.12/site-packages/pyparsing/actions.py\": 1754563014.8067713, \"/home/ldinh/perso/.venv/lib64/python3.12/site-packages/pyparsing/core.py\": 1754563014.8187714, \"/home/ldinh/perso/.venv/lib64/python3.12/site-packages/pyparsing/helpers.py\": 1754563014.8347714, \"/home/ldinh/perso/.venv/lib64/python3.12/site-packages/pyparsing/testing.py\": 1754563014.8427713, \"/home/ldinh/perso/.venv/lib64/python3.12/site-packages/pyparsing/common.py\": 1754563014.8107712, \"/home/ldinh/perso/.venv/lib64/python3.12/site-packages/pyparsing/__init__.py\": 1754563014.8067713, \"/home/ldinh/perso/.venv/lib64/python3.12/site-packages/matplotlib/_fontconfig_pattern.py\": 1754563014.8507712, \"/home/ldinh/perso/.venv/lib64/python3.12/site-packages/matplotlib/_enums.py\": 1754563014.8507712, \"/home/ldinh/perso/.venv/lib64/python3.12/site-packages/cycler/__init__.py\": 1754563014.8067713, \"/home/ldinh/perso/.venv/lib64/python3.12/site-packages/matplotlib/rcsetup.py\": 1754563015.0467713, \"/home/ldinh/perso/.venv/lib64/python3.12/site-packages/matplotlib/ft2font.cpython-312-x86_64-linux-gnu.so\": 1754563014.9587712, \"/home/ldinh/perso/.venv/lib64/python3.12/site-packages/kiwisolver/exceptions.py\": 1754563014.8067713, \"/home/ldinh/perso/.venv/lib64/python3.12/site-packages/kiwisolver/_cext.cpython-312-x86_64-linux-gnu.so\": 1754563014.8747714, \"/home/ldinh/perso/.venv/lib64/python3.12/site-packages/kiwisolver/__init__.py\": 1754563014.8227713, \"/home/ldinh/perso/.venv/lib64/python3.12/site-packages/numpy/ma/core.py\": 1754563015.6467712, \"/home/ldinh/perso/.venv/lib64/python3.12/site-packages/numpy/ma/extras.py\": 1754563015.6507714, \"/home/ldinh/perso/.venv/lib64/python3.12/site-packages/numpy/ma/__init__.py\": 1754563015.6427712, \"/home/ldinh/perso/.venv/lib64/python3.12/site-packages/matplotlib/artist.py\": 1754563014.8867712, \"/home/ldinh/perso/.venv/lib64/python3.12/site-packages/matplotlib/colorizer.py\": 1754563014.9347713, \"/home/ldinh/perso/.venv/lib64/python3.12/site-packages/matplotlib/_cm_listed.py\": 1754563014.8427713, \"/home/ldinh/perso/.venv/lib64/python3.12/site-packages/matplotlib/_cm_multivar.py\": 1754563014.8467712, \"/home/ldinh/perso/.venv/lib64/python3.12/site-packages/matplotlib/_cm_bivar.py\": 1754563014.8387713, \"/home/ldinh/perso/.venv/lib64/python3.12/site-packages/matplotlib/cm.py\": 1754563014.9147713, \"/home/ldinh/perso/.venv/lib64/python3.12/site-packages/matplotlib/__init__.py\": 1754563014.8067713, \"/home/ldinh/perso/.venv/lib64/python3.12/site-packages/matplotlib/hatch.py\": 1754563014.9627714, \"/home/ldinh/perso/.venv/lib64/python3.12/site-packages/matplotlib/markers.py\": 1754563015.0147712, \"/home/ldinh/perso/.venv/lib64/python3.12/site-packages/matplotlib/lines.py\": 1754563015.0107713, \"/home/ldinh/perso/.venv/lib64/python3.12/site-packages/matplotlib/collections.py\": 1754563014.9307714, \"/home/ldinh/perso/.venv/lib64/python3.12/site-packages/matplotlib/_pylab_helpers.py\": 1754563014.8627713, \"/home/ldinh/perso/.venv/lib64/python3.12/site-packages/matplotlib/backend_tools.py\": 1754563014.8947713, \"/usr/lib64/python3.12/plistlib.py\": 1733251361.0, \"/home/ldinh/perso/.venv/lib64/python3.12/site-packages/matplotlib/_mathtext_data.py\": 1754563014.8587713, \"/home/ldinh/perso/.venv/lib64/python3.12/site-packages/matplotlib/_afm.py\": 1754563014.8067713, \"/home/ldinh/perso/.venv/lib64/python3.12/site-packages/matplotlib/font_manager.py\": 1754563014.9507713, \"/home/ldinh/perso/.venv/lib64/python3.12/site-packages/matplotlib/patches.py\": 1754563015.0187714, \"/home/ldinh/perso/.venv/lib64/python3.12/site-packages/matplotlib/_text_helpers.py\": 1754563014.8747714, \"/home/ldinh/perso/.venv/lib64/python3.12/site-packages/matplotlib/dviread.py\": 1754563014.9507713, \"/home/ldinh/perso/.venv/lib64/python3.12/site-packages/matplotlib/_mathtext.py\": 1754563014.8587713, \"/home/ldinh/perso/.venv/lib64/python3.12/site-packages/matplotlib/mathtext.py\": 1754563015.0147712, \"/home/ldinh/perso/.venv/lib64/python3.12/site-packages/matplotlib/texmanager.py\": 1754563015.0627713, \"/home/ldinh/perso/.venv/lib64/python3.12/site-packages/matplotlib/textpath.py\": 1754563015.0667713, \"/home/ldinh/perso/.venv/lib64/python3.12/site-packages/matplotlib/text.py\": 1754563015.0667713, \"/home/ldinh/perso/.venv/lib64/python3.12/site-packages/matplotlib/_tight_bbox.py\": 1754563014.8747714, \"/home/ldinh/perso/.venv/lib64/python3.12/site-packages/matplotlib/widgets.py\": 1754563015.0707712, \"/home/ldinh/perso/.venv/lib64/python3.12/site-packages/matplotlib/backend_managers.py\": 1754563014.8947713, \"/home/ldinh/perso/.venv/lib64/python3.12/site-packages/matplotlib/_layoutgrid.py\": 1754563014.8587713, \"/home/ldinh/perso/.venv/lib64/python3.12/site-packages/matplotlib/_constrained_layout.py\": 1754563014.8507712, \"/home/ldinh/perso/.venv/lib64/python3.12/site-packages/matplotlib/_tight_layout.py\": 1754563014.8747714, \"/home/ldinh/perso/.venv/lib64/python3.12/site-packages/matplotlib/layout_engine.py\": 1754563014.9747713, \"/home/ldinh/perso/.venv/lib64/python3.12/site-packages/matplotlib/backend_bases.py\": 1754563014.8907714, \"/home/ldinh/perso/.venv/lib64/python3.12/site-packages/matplotlib/contour.py\": 1754563014.9427712, \"/home/ldinh/perso/.venv/lib64/python3.12/site-packages/matplotlib/spines.py\": 1754563015.0587714, \"/home/ldinh/perso/.venv/lib64/python3.12/site-packages/matplotlib/colorbar.py\": 1754563014.9307714, \"/home/ldinh/perso/.venv/lib64/python3.12/site-packages/matplotlib/image.py\": 1754563014.9667714, \"/home/ldinh/perso/.venv/lib64/python3.12/site-packages/matplotlib/style/core.py\": 1754563015.4507713, \"/home/ldinh/perso/.venv/lib64/python3.12/site-packages/matplotlib/style/__init__.py\": 1754563015.4507713, \"/home/ldinh/perso/.venv/lib64/python3.12/site-packages/matplotlib/_blocking_input.py\": 1754563014.8147714, \"/home/ldinh/perso/.venv/lib64/python3.12/site-packages/matplotlib/offsetbox.py\": 1754563015.0187714, \"/home/ldinh/perso/.venv/lib64/python3.12/site-packages/matplotlib/units.py\": 1754563015.0707712, \"/home/ldinh/perso/.venv/lib64/python3.12/site-packages/matplotlib/axis.py\": 1754563014.8907714, \"/home/ldinh/perso/.venv/lib64/python3.12/site-packages/matplotlib/gridspec.py\": 1754563014.9627714, \"/home/ldinh/perso/.venv/lib64/python3.12/site-packages/matplotlib/table.py\": 1754563015.0627713, \"/home/ldinh/perso/.venv/lib64/python3.12/site-packages/matplotlib/axes/_base.py\": 1754563015.0827713, \"/home/ldinh/perso/.venv/lib64/python3.12/site-packages/matplotlib/category.py\": 1754563014.9147713, \"/home/ldinh/perso/.venv/lib64/python3.12/site-packages/dateutil/rrule.py\": 1754562818.5187683, \"/home/ldinh/perso/.venv/lib64/python3.12/site-packages/matplotlib/dates.py\": 1754563014.9467714, \"/home/ldinh/perso/.venv/lib64/python3.12/site-packages/matplotlib/inset.py\": 1754563014.9707713, \"/home/ldinh/perso/.venv/lib64/python3.12/site-packages/matplotlib/container.py\": 1754563014.9427712, \"/home/ldinh/perso/.venv/lib64/python3.12/site-packages/matplotlib/legend_handler.py\": 1754563015.0107713, \"/home/ldinh/perso/.venv/lib64/python3.12/site-packages/matplotlib/legend.py\": 1754563015.0027714, \"/home/ldinh/perso/.venv/lib64/python3.12/site-packages/matplotlib/mlab.py\": 1754563015.0187714, \"/home/ldinh/perso/.venv/lib64/python3.12/site-packages/matplotlib/quiver.py\": 1754563015.0267713, \"/home/ldinh/perso/.venv/lib64/python3.12/site-packages/matplotlib/stackplot.py\": 1754563015.0587714, \"/home/ldinh/perso/.venv/lib64/python3.12/site-packages/matplotlib/streamplot.py\": 1754563015.0587714, \"/home/ldinh/perso/.venv/lib64/python3.12/site-packages/matplotlib/tri/_triangulation.py\": 1754563015.5227714, \"/home/ldinh/perso/.venv/lib64/python3.12/site-packages/matplotlib/tri/_tricontour.py\": 1754563015.5267713, \"/home/ldinh/perso/.venv/lib64/python3.12/site-packages/matplotlib/tri/_trifinder.py\": 1754563015.5267713, \"/home/ldinh/perso/.venv/lib64/python3.12/site-packages/matplotlib/tri/_tritools.py\": 1754563015.5347712, \"/home/ldinh/perso/.venv/lib64/python3.12/site-packages/matplotlib/tri/_triinterpolate.py\": 1754563015.5267713, \"/home/ldinh/perso/.venv/lib64/python3.12/site-packages/matplotlib/tri/_tripcolor.py\": 1754563015.5307713, \"/home/ldinh/perso/.venv/lib64/python3.12/site-packages/matplotlib/tri/_triplot.py\": 1754563015.5307713, \"/home/ldinh/perso/.venv/lib64/python3.12/site-packages/matplotlib/tri/_trirefine.py\": 1754563015.5307713, \"/home/ldinh/perso/.venv/lib64/python3.12/site-packages/matplotlib/tri/__init__.py\": 1754563015.5227714, \"/home/ldinh/perso/.venv/lib64/python3.12/site-packages/matplotlib/axes/_secondary_axes.py\": 1754563015.0827713, \"/home/ldinh/perso/.venv/lib64/python3.12/site-packages/matplotlib/axes/_axes.py\": 1754563015.0787714, \"/home/ldinh/perso/.venv/lib64/python3.12/site-packages/matplotlib/axes/__init__.py\": 1754563015.0787714, \"/home/ldinh/perso/.venv/lib64/python3.12/site-packages/matplotlib/projections/geo.py\": 1754563015.3827713, \"/home/ldinh/perso/.venv/lib64/python3.12/site-packages/matplotlib/projections/polar.py\": 1754563015.3827713, \"/home/ldinh/perso/.venv/lib64/python3.12/site-packages/mpl_toolkits/mplot3d/proj3d.py\": 1754563015.5707712, \"/home/ldinh/perso/.venv/lib64/python3.12/site-packages/mpl_toolkits/mplot3d/art3d.py\": 1754563015.5707712, \"/home/ldinh/perso/.venv/lib64/python3.12/site-packages/mpl_toolkits/mplot3d/axis3d.py\": 1754563015.5707712, \"/home/ldinh/perso/.venv/lib64/python3.12/site-packages/mpl_toolkits/mplot3d/axes3d.py\": 1754563015.5707712, \"/home/ldinh/perso/.venv/lib64/python3.12/site-packages/mpl_toolkits/mplot3d/__init__.py\": 1754563015.5667713, \"/home/ldinh/perso/.venv/lib64/python3.12/site-packages/matplotlib/projections/__init__.py\": 1754563015.3827713, \"/home/ldinh/perso/.venv/lib64/python3.12/site-packages/matplotlib/figure.py\": 1754563014.9507713, \"/home/ldinh/perso/.venv/lib64/python3.12/site-packages/matplotlib/pyplot.py\": 1754563015.0267713, \"/home/ldinh/perso/.venv/lib64/python3.12/site-packages/matplotlib/backends/_backend_agg.cpython-312-x86_64-linux-gnu.so\": 1754563015.0907712, \"/home/ldinh/perso/.venv/lib64/python3.12/site-packages/matplotlib/backends/backend_agg.py\": 1754563015.1027713, \"/home/ldinh/perso/.venv/lib64/python3.12/site-packages/IPython/core/pylabtools.py\": 1754562818.8307683, \"/home/ldinh/perso/.venv/lib64/python3.12/site-packages/matplotlib_inline/config.py\": 1754562818.9107683, \"/home/ldinh/perso/.venv/lib64/python3.12/site-packages/matplotlib_inline/backend_inline.py\": 1754562818.9027684, \"/home/ldinh/perso/.venv/lib64/python3.12/site-packages/matplotlib_inline/__init__.py\": 1754562818.8987682, \"/home/ldinh/perso/.venv/lib64/python3.12/site-packages/pytz/exceptions.py\": 1754563240.6987805, \"/home/ldinh/perso/.venv/lib64/python3.12/site-packages/pytz/lazy.py\": 1754563240.7307806, \"/home/ldinh/perso/.venv/lib64/python3.12/site-packages/pytz/tzinfo.py\": 1754563240.7827806, \"/home/ldinh/perso/.venv/lib64/python3.12/site-packages/pytz/tzfile.py\": 1754563240.7627807, \"/home/ldinh/perso/.venv/lib64/python3.12/site-packages/pytz/__init__.py\": 1754563240.5947804, \"/home/ldinh/perso/.venv/lib64/python3.12/site-packages/pandas/compat/_constants.py\": 1754563244.0467823, \"/home/ldinh/perso/.venv/lib64/python3.12/site-packages/pandas/compat/compressors.py\": 1754563244.0507822, \"/home/ldinh/perso/.venv/lib64/python3.12/site-packages/pandas/util/__init__.py\": 1754563251.5467858, \"/home/ldinh/perso/.venv/lib64/python3.12/site-packages/pandas/util/version/__init__.py\": 1754563251.662786, \"/home/ldinh/perso/.venv/lib64/python3.12/site-packages/pandas/compat/numpy/__init__.py\": 1754563244.0547822, \"/home/ldinh/perso/.venv/lib64/python3.12/site-packages/pandas/compat/pyarrow.py\": 1754563244.0547822, \"/home/ldinh/perso/.venv/lib64/python3.12/site-packages/pandas/compat/__init__.py\": 1754563244.0387821, \"/home/ldinh/perso/.venv/lib64/python3.12/site-packages/numpy/random/_common.cpython-312-x86_64-linux-gnu.so\": 1754563015.7067714, \"/usr/lib64/python3.12/secrets.py\": 1733251361.0, \"/home/ldinh/perso/.venv/lib64/python3.12/site-packages/numpy/random/bit_generator.cpython-312-x86_64-linux-gnu.so\": 1754563015.7347713, \"/home/ldinh/perso/.venv/lib64/python3.12/site-packages/numpy/random/_bounded_integers.cpython-312-x86_64-linux-gnu.so\": 1754563015.7027714, \"/home/ldinh/perso/.venv/lib64/python3.12/site-packages/numpy/random/_pcg64.cpython-312-x86_64-linux-gnu.so\": 1754563015.7267714, \"/home/ldinh/perso/.venv/lib64/python3.12/site-packages/numpy/random/_mt19937.cpython-312-x86_64-linux-gnu.so\": 1754563015.7227714, \"/home/ldinh/perso/.venv/lib64/python3.12/site-packages/numpy/random/_generator.cpython-312-x86_64-linux-gnu.so\": 1754563015.7187712, \"/home/ldinh/perso/.venv/lib64/python3.12/site-packages/numpy/random/_philox.cpython-312-x86_64-linux-gnu.so\": 1754563015.7267714, \"/home/ldinh/perso/.venv/lib64/python3.12/site-packages/numpy/random/_sfc64.cpython-312-x86_64-linux-gnu.so\": 1754563015.7307713, \"/home/ldinh/perso/.venv/lib64/python3.12/site-packages/numpy/random/mtrand.cpython-312-x86_64-linux-gnu.so\": 1754563015.7427714, \"/home/ldinh/perso/.venv/lib64/python3.12/site-packages/numpy/random/_pickle.py\": 1754563015.7307713, \"/home/ldinh/perso/.venv/lib64/python3.12/site-packages/numpy/random/__init__.py\": 1754563015.6987712, \"/home/ldinh/perso/.venv/lib64/python3.12/site-packages/pandas/_typing.py\": 1754563240.7547805, \"/home/ldinh/perso/.venv/lib64/python3.12/site-packages/pandas/util/_exceptions.py\": 1754563251.574786, \"/home/ldinh/perso/.venv/lib64/python3.12/site-packages/pandas/_config/config.py\": 1754563240.8707807, \"/home/ldinh/perso/.venv/lib64/python3.12/site-packages/pandas/_config/dates.py\": 1754563240.8827806, \"/home/ldinh/perso/.venv/lib64/python3.12/site-packages/pandas/_config/display.py\": 1754563240.8987806, \"/home/ldinh/perso/.venv/lib64/python3.12/site-packages/pandas/_config/__init__.py\": 1754563240.8627806, \"/home/ldinh/perso/.venv/lib64/python3.12/site-packages/pandas/core/__init__.py\": 1754563244.0587823, \"/home/ldinh/perso/.venv/lib64/python3.12/site-packages/pandas/core/config_init.py\": 1754563244.0947824, \"/home/ldinh/perso/.venv/lib64/python3.12/site-packages/pandas/_libs/pandas_parser.cpython-312-x86_64-linux-gnu.so\": 1754563242.5667815, \"/home/ldinh/perso/.venv/lib64/python3.12/site-packages/pandas/_libs/pandas_datetime.cpython-312-x86_64-linux-gnu.so\": 1754563242.5667815, \"/home/ldinh/perso/.venv/lib64/python3.12/site-packages/pandas/_libs/tslibs/ccalendar.cpython-312-x86_64-linux-gnu.so\": 1754563243.0147817, \"/home/ldinh/perso/.venv/lib64/python3.12/site-packages/pandas/_libs/tslibs/np_datetime.cpython-312-x86_64-linux-gnu.so\": 1754563243.3427818, \"/home/ldinh/perso/.venv/lib64/python3.12/site-packages/pandas/_libs/tslibs/dtypes.cpython-312-x86_64-linux-gnu.so\": 1754563243.1027818, \"/home/ldinh/perso/.venv/lib64/python3.12/site-packages/pandas/_libs/tslibs/base.cpython-312-x86_64-linux-gnu.so\": 1754563242.9907818, \"/home/ldinh/perso/.venv/lib64/python3.12/site-packages/pandas/_libs/tslibs/nattype.cpython-312-x86_64-linux-gnu.so\": 1754563243.3227818, \"/home/ldinh/perso/.venv/lib64/python3.12/site-packages/pandas/compat/_optional.py\": 1754563244.0507822, \"/usr/lib64/python3.12/zoneinfo/_tzpath.py\": 1733251361.0, \"/usr/lib64/python3.12/zoneinfo/_common.py\": 1733251361.0, \"/usr/lib64/python3.12/lib-dynload/_zoneinfo.cpython-312-x86_64-linux-gnu.so\": 1734021254.0, \"/usr/lib64/python3.12/zoneinfo/__init__.py\": 1733251361.0, \"/home/ldinh/perso/.venv/lib64/python3.12/site-packages/pandas/_libs/tslibs/timezones.cpython-312-x86_64-linux-gnu.so\": 1754563243.790782, \"/home/ldinh/perso/.venv/lib64/python3.12/site-packages/pandas/_config/localization.py\": 1754563240.9027805, \"/home/ldinh/perso/.venv/lib64/python3.12/site-packages/pandas/_libs/tslibs/fields.cpython-312-x86_64-linux-gnu.so\": 1754563243.2707818, \"/home/ldinh/perso/.venv/lib64/python3.12/site-packages/pandas/_libs/tslibs/timedeltas.cpython-312-x86_64-linux-gnu.so\": 1754563243.698782, \"/home/ldinh/perso/.venv/lib64/python3.12/site-packages/pandas/_libs/tslibs/tzconversion.cpython-312-x86_64-linux-gnu.so\": 1754563243.8267822, \"/home/ldinh/perso/.venv/lib64/python3.12/site-packages/pandas/_libs/tslibs/timestamps.cpython-312-x86_64-linux-gnu.so\": 1754563243.754782, \"/home/ldinh/perso/.venv/lib64/python3.12/site-packages/pandas/_libs/properties.cpython-312-x86_64-linux-gnu.so\": 1754563242.6507816, \"/home/ldinh/perso/.venv/lib64/python3.12/site-packages/pandas/_libs/tslibs/offsets.cpython-312-x86_64-linux-gnu.so\": 1754563243.494782, \"/home/ldinh/perso/.venv/lib64/python3.12/site-packages/pandas/_libs/tslibs/strptime.cpython-312-x86_64-linux-gnu.so\": 1754563243.634782, \"/home/ldinh/perso/.venv/lib64/python3.12/site-packages/pandas/_libs/tslibs/parsing.cpython-312-x86_64-linux-gnu.so\": 1754563243.530782, \"/home/ldinh/perso/.venv/lib64/python3.12/site-packages/pandas/_libs/tslibs/conversion.cpython-312-x86_64-linux-gnu.so\": 1754563243.0787818, \"/home/ldinh/perso/.venv/lib64/python3.12/site-packages/pandas/_libs/tslibs/period.cpython-312-x86_64-linux-gnu.so\": 1754563243.578782, \"/home/ldinh/perso/.venv/lib64/python3.12/site-packages/pandas/_libs/tslibs/vectorized.cpython-312-x86_64-linux-gnu.so\": 1754563243.8627822, \"/home/ldinh/perso/.venv/lib64/python3.12/site-packages/pandas/_libs/tslibs/__init__.py\": 1754563242.9907818, \"/home/ldinh/perso/.venv/lib64/python3.12/site-packages/pandas/_libs/ops_dispatch.cpython-312-x86_64-linux-gnu.so\": 1754563242.5587814, \"/home/ldinh/perso/.venv/lib64/python3.12/site-packages/pandas/_libs/missing.cpython-312-x86_64-linux-gnu.so\": 1754563242.5107815, \"/home/ldinh/perso/.venv/lib64/python3.12/site-packages/pandas/_libs/hashtable.cpython-312-x86_64-linux-gnu.so\": 1754563241.950781, \"/home/ldinh/perso/.venv/lib64/python3.12/site-packages/pandas/_libs/algos.cpython-312-x86_64-linux-gnu.so\": 1754563241.1587808, \"/home/ldinh/perso/.venv/lib64/python3.12/site-packages/pandas/_libs/interval.cpython-312-x86_64-linux-gnu.so\": 1754563242.2147813, \"/home/ldinh/perso/.venv/lib64/python3.12/site-packages/pandas/_libs/__init__.py\": 1754563240.9187806, \"/home/ldinh/perso/.venv/lib64/python3.12/site-packages/pandas/core/dtypes/__init__.py\": 1754563244.4147823, \"/home/ldinh/perso/.venv/lib64/python3.12/site-packages/pandas/_libs/lib.cpython-312-x86_64-linux-gnu.so\": 1754563242.4787815, \"/home/ldinh/perso/.venv/lib64/python3.12/site-packages/pandas/errors/__init__.py\": 1754563244.7587826, \"/home/ldinh/perso/.venv/lib64/python3.12/site-packages/pandas/core/dtypes/generic.py\": 1754563244.4427824, \"/home/ldinh/perso/.venv/lib64/python3.12/site-packages/pandas/core/dtypes/base.py\": 1754563244.4267824, \"/home/ldinh/perso/.venv/lib64/python3.12/site-packages/pandas/core/dtypes/inference.py\": 1754563244.4467824, \"/home/ldinh/perso/.venv/lib64/python3.12/site-packages/pandas/core/dtypes/dtypes.py\": 1754563244.4387825, \"/home/ldinh/perso/.venv/lib64/python3.12/site-packages/pandas/core/dtypes/common.py\": 1754563244.4307823, \"/home/ldinh/perso/.venv/lib64/python3.12/site-packages/pandas/core/dtypes/missing.py\": 1754563244.4467824, \"/home/ldinh/perso/.venv/lib64/python3.12/site-packages/pandas/util/_decorators.py\": 1754563251.554786, \"/home/ldinh/perso/.venv/lib64/python3.12/site-packages/pandas/io/__init__.py\": 1754563244.7627826, \"/home/ldinh/perso/.venv/lib64/python3.12/site-packages/pandas/io/_util.py\": 1754563244.7627826, \"/home/ldinh/perso/.venv/lib64/python3.12/site-packages/pandas/core/dtypes/cast.py\": 1754563244.4307823, \"/home/ldinh/perso/.venv/lib64/python3.12/site-packages/pandas/core/dtypes/astype.py\": 1754563244.4227824, \"/home/ldinh/perso/.venv/lib64/python3.12/site-packages/pandas/core/dtypes/concat.py\": 1754563244.4347825, \"/home/ldinh/perso/.venv/lib64/python3.12/site-packages/pandas/core/array_algos/__init__.py\": 1754563244.2307823, \"/home/ldinh/perso/.venv/lib64/python3.12/site-packages/pandas/core/common.py\": 1754563244.0907822, \"/home/ldinh/perso/.venv/lib64/python3.12/site-packages/pandas/core/construction.py\": 1754563244.0987823, \"/home/ldinh/perso/.venv/lib64/python3.12/site-packages/pandas/core/array_algos/take.py\": 1754563244.2507823, \"/home/ldinh/perso/.venv/lib64/python3.12/site-packages/pandas/core/indexers/utils.py\": 1754563244.4907825, \"/home/ldinh/perso/.venv/lib64/python3.12/site-packages/pandas/core/indexers/__init__.py\": 1754563244.4867826, \"/home/ldinh/perso/.venv/lib64/python3.12/site-packages/pandas/core/algorithms.py\": 1754563244.0627823, \"/home/ldinh/perso/.venv/lib64/python3.12/site-packages/pandas/core/arrays/arrow/accessors.py\": 1754563244.3467824, \"/home/ldinh/perso/.venv/lib64/python3.12/site-packages/pandas/util/_validators.py\": 1754563251.634786, \"/home/ldinh/perso/.venv/lib64/python3.12/site-packages/pandas/core/missing.py\": 1754563244.1307824, \"/home/ldinh/perso/.venv/lib64/python3.12/site-packages/pandas/_libs/ops.cpython-312-x86_64-linux-gnu.so\": 1754563242.5467815, \"/home/ldinh/perso/.venv/lib64/python3.12/site-packages/pandas/core/roperator.py\": 1754563244.1387823, \"/home/ldinh/perso/.venv/lib64/python3.12/site-packages/pandas/core/computation/__init__.py\": 1754563244.3747823, \"/home/ldinh/perso/.venv/lib64/python3.12/site-packages/pandas/core/computation/check.py\": 1754563244.3867824, \"/home/ldinh/perso/.venv/lib64/python3.12/site-packages/pandas/core/computation/expressions.py\": 1754563244.4027824, \"/home/ldinh/perso/.venv/lib64/python3.12/site-packages/pandas/core/ops/missing.py\": 1754563244.6907825, \"/home/ldinh/perso/.venv/lib64/python3.12/site-packages/pandas/core/ops/dispatch.py\": 1754563244.6827826, \"/home/ldinh/perso/.venv/lib64/python3.12/site-packages/pandas/core/ops/invalid.py\": 1754563244.6867826, \"/home/ldinh/perso/.venv/lib64/python3.12/site-packages/pandas/core/ops/array_ops.py\": 1754563244.6787825, \"/home/ldinh/perso/.venv/lib64/python3.12/site-packages/pandas/core/ops/common.py\": 1754563244.6787825, \"/home/ldinh/perso/.venv/lib64/python3.12/site-packages/pandas/core/ops/docstrings.py\": 1754563244.6827826, \"/home/ldinh/perso/.venv/lib64/python3.12/site-packages/pandas/core/ops/mask_ops.py\": 1754563244.6907825, \"/home/ldinh/perso/.venv/lib64/python3.12/site-packages/pandas/core/ops/__init__.py\": 1754563244.6747825, \"/home/ldinh/perso/.venv/lib64/python3.12/site-packages/pandas/core/arraylike.py\": 1754563244.0787823, \"/home/ldinh/perso/.venv/lib64/python3.12/site-packages/pandas/core/arrays/_arrow_string_mixins.py\": 1754563244.2667823, \"/home/ldinh/perso/.venv/lib64/python3.12/site-packages/pandas/core/arrays/_utils.py\": 1754563244.2827823, \"/home/ldinh/perso/.venv/lib64/python3.12/site-packages/pandas/compat/numpy/function.py\": 1754563244.0587823, \"/home/ldinh/perso/.venv/lib64/python3.12/site-packages/pandas/core/array_algos/quantile.py\": 1754563244.2427824, \"/home/ldinh/perso/.venv/lib64/python3.12/site-packages/pandas/core/sorting.py\": 1754563244.1467822, \"/home/ldinh/perso/.venv/lib64/python3.12/site-packages/pandas/core/arrays/base.py\": 1754563244.2867823, \"/home/ldinh/perso/.venv/lib64/python3.12/site-packages/pandas/core/nanops.py\": 1754563244.1347823, \"/home/ldinh/perso/.venv/lib64/python3.12/site-packages/pandas/core/array_algos/masked_accumulations.py\": 1754563244.2347822, \"/home/ldinh/perso/.venv/lib64/python3.12/site-packages/pandas/core/array_algos/masked_reductions.py\": 1754563244.2347822, \"/home/ldinh/perso/.venv/lib64/python3.12/site-packages/pandas/core/util/__init__.py\": 1754563244.7387826, \"/home/ldinh/perso/.venv/lib64/python3.12/site-packages/pandas/_libs/hashing.cpython-312-x86_64-linux-gnu.so\": 1754563241.7067811, \"/home/ldinh/perso/.venv/lib64/python3.12/site-packages/pandas/core/util/hashing.py\": 1754563244.7427826, \"/home/ldinh/perso/.venv/lib64/python3.12/site-packages/pandas/core/arrays/masked.py\": 1754563244.3107824, \"/home/ldinh/perso/.venv/lib64/python3.12/site-packages/pandas/_libs/arrays.cpython-312-x86_64-linux-gnu.so\": 1754563241.2027807, \"/home/ldinh/perso/.venv/lib64/python3.12/site-packages/pandas/core/arrays/numeric.py\": 1754563244.3147824, \"/home/ldinh/perso/.venv/lib64/python3.12/site-packages/pandas/core/arrays/floating.py\": 1754563244.3027823, \"/home/ldinh/perso/.venv/lib64/python3.12/site-packages/pandas/core/arrays/integer.py\": 1754563244.3067822, \"/home/ldinh/perso/.venv/lib64/python3.12/site-packages/pandas/core/array_algos/transforms.py\": 1754563244.2547824, \"/home/ldinh/perso/.venv/lib64/python3.12/site-packages/pandas/core/arrays/_mixins.py\": 1754563244.2707822, \"/home/ldinh/perso/.venv/lib64/python3.12/site-packages/pandas/core/strings/__init__.py\": 1754563244.7227826, \"/home/ldinh/perso/.venv/lib64/python3.12/site-packages/pandas/core/strings/base.py\": 1754563244.7267826, \"/home/ldinh/perso/.venv/lib64/python3.12/site-packages/pandas/core/strings/object_array.py\": 1754563244.7267826, \"/home/ldinh/perso/.venv/lib64/python3.12/site-packages/pandas/core/arrays/numpy_.py\": 1754563244.3187823, \"/home/ldinh/perso/.venv/lib64/python3.12/site-packages/pandas/io/formats/__init__.py\": 1754563244.7987826, \"/home/ldinh/perso/.venv/lib64/python3.12/site-packages/pandas/io/formats/console.py\": 1754563244.8027825, \"/home/ldinh/perso/.venv/lib64/python3.12/site-packages/pandas/io/formats/printing.py\": 1754563244.8067825, \"/home/ldinh/perso/.venv/lib64/python3.12/site-packages/pandas/core/arrays/string_.py\": 1754563244.3307824, \"/home/ldinh/perso/.venv/lib64/python3.12/site-packages/pandas/tseries/__init__.py\": 1754563251.4587858, \"/home/ldinh/perso/.venv/lib64/python3.12/site-packages/pandas/tseries/frequencies.py\": 1754563251.482786, \"/home/ldinh/perso/.venv/lib64/python3.12/site-packages/pandas/core/arrays/arrow/array.py\": 1754563244.3507824, \"/home/ldinh/perso/.venv/lib64/python3.12/site-packages/pandas/core/arrays/arrow/__init__.py\": 1754563244.3427823, \"/home/ldinh/perso/.venv/lib64/python3.12/site-packages/pandas/core/arrays/boolean.py\": 1754563244.2867823, \"/home/ldinh/perso/.venv/lib64/python3.12/site-packages/pandas/core/accessor.py\": 1754563244.0587823, \"/home/ldinh/perso/.venv/lib64/python3.12/site-packages/pandas/core/base.py\": 1754563244.0867822, \"/home/ldinh/perso/.venv/lib64/python3.12/site-packages/pandas/core/arrays/categorical.py\": 1754563244.2907825, \"/home/ldinh/perso/.venv/lib64/python3.12/site-packages/pandas/_libs/tslib.cpython-312-x86_64-linux-gnu.so\": 1754563242.9467816, \"/home/ldinh/perso/.venv/lib64/python3.12/site-packages/pandas/core/array_algos/datetimelike_accumulations.py\": 1754563244.2307823, \"/home/ldinh/perso/.venv/lib64/python3.12/site-packages/pandas/core/arrays/datetimelike.py\": 1754563244.2947824, \"/home/ldinh/perso/.venv/lib64/python3.12/site-packages/pandas/core/arrays/_ranges.py\": 1754563244.2787824, \"/home/ldinh/perso/.venv/lib64/python3.12/site-packages/pandas/tseries/offsets.py\": 1754563251.518786, \"/home/ldinh/perso/.venv/lib64/python3.12/site-packages/pandas/core/arrays/datetimes.py\": 1754563244.2987823, \"/home/ldinh/perso/.venv/lib64/python3.12/site-packages/pandas/core/arrays/timedeltas.py\": 1754563244.3347824, \"/home/ldinh/perso/.venv/lib64/python3.12/site-packages/pandas/core/arrays/interval.py\": 1754563244.3067822, \"/home/ldinh/perso/.venv/lib64/python3.12/site-packages/pandas/core/arrays/period.py\": 1754563244.3267825, \"/home/ldinh/perso/.venv/lib64/python3.12/site-packages/pandas/_libs/sparse.cpython-312-x86_64-linux-gnu.so\": 1754563242.8547816, \"/home/ldinh/perso/.venv/lib64/python3.12/site-packages/pandas/core/arrays/sparse/array.py\": 1754563244.3707824, \"/home/ldinh/perso/.venv/lib64/python3.12/site-packages/pandas/core/arrays/sparse/accessor.py\": 1754563244.3667824, \"/home/ldinh/perso/.venv/lib64/python3.12/site-packages/pandas/core/arrays/sparse/__init__.py\": 1754563244.3667824, \"/home/ldinh/perso/.venv/lib64/python3.12/site-packages/pandas/core/arrays/string_arrow.py\": 1754563244.3307824, \"/home/ldinh/perso/.venv/lib64/python3.12/site-packages/pandas/core/arrays/__init__.py\": 1754563244.2667823, \"/home/ldinh/perso/.venv/lib64/python3.12/site-packages/pandas/core/flags.py\": 1754563244.1067822, \"/home/ldinh/perso/.venv/lib64/python3.12/site-packages/pandas/_libs/internals.cpython-312-x86_64-linux-gnu.so\": 1754563242.0987813, \"/home/ldinh/perso/.venv/lib64/python3.12/site-packages/pandas/core/_numba/__init__.py\": 1754563244.1507823, \"/home/ldinh/perso/.venv/lib64/python3.12/site-packages/pandas/core/_numba/executor.py\": 1754563244.1627822, \"/home/ldinh/perso/.venv/lib64/python3.12/site-packages/pandas/core/apply.py\": 1754563244.0747821, \"/home/ldinh/perso/.venv/lib64/python3.12/site-packages/pandas/_libs/indexing.cpython-312-x86_64-linux-gnu.so\": 1754563242.0467813, \"/home/ldinh/perso/.venv/lib64/python3.12/site-packages/pandas/core/indexes/__init__.py\": 1754563244.4947824, \"/home/ldinh/perso/.venv/lib64/python3.12/site-packages/pandas/_libs/index.cpython-312-x86_64-linux-gnu.so\": 1754563242.0267813, \"/home/ldinh/perso/.venv/lib64/python3.12/site-packages/pandas/_libs/writers.cpython-312-x86_64-linux-gnu.so\": 1754563242.9787817, \"/home/ldinh/perso/.venv/lib64/python3.12/site-packages/pandas/_libs/join.cpython-312-x86_64-linux-gnu.so\": 1754563242.3627813, \"/home/ldinh/perso/.venv/lib64/python3.12/site-packages/pandas/core/array_algos/putmask.py\": 1754563244.2387824, \"/home/ldinh/perso/.venv/lib64/python3.12/site-packages/pandas/core/indexes/frozen.py\": 1754563244.5107825, \"/home/ldinh/perso/.venv/lib64/python3.12/site-packages/pandas/core/strings/accessor.py\": 1754563244.7267826, \"/home/ldinh/perso/.venv/lib64/python3.12/site-packages/pandas/core/indexes/base.py\": 1754563244.4987824, \"/home/ldinh/perso/.venv/lib64/python3.12/site-packages/pandas/core/indexes/extension.py\": 1754563244.5067825, \"/home/ldinh/perso/.venv/lib64/python3.12/site-packages/pandas/core/indexes/category.py\": 1754563244.5027823, \"/home/ldinh/perso/.venv/lib64/python3.12/site-packages/pandas/core/indexes/range.py\": 1754563244.5387824, \"/home/ldinh/perso/.venv/lib64/python3.12/site-packages/pandas/core/tools/__init__.py\": 1754563244.7307825, \"/home/ldinh/perso/.venv/lib64/python3.12/site-packages/pandas/core/tools/timedeltas.py\": 1754563244.7347825, \"/home/ldinh/perso/.venv/lib64/python3.12/site-packages/pandas/core/indexes/datetimelike.py\": 1754563244.5027823, \"/home/ldinh/perso/.venv/lib64/python3.12/site-packages/pandas/core/tools/times.py\": 1754563244.7387826, \"/home/ldinh/perso/.venv/lib64/python3.12/site-packages/pandas/core/indexes/datetimes.py\": 1754563244.5067825, \"/home/ldinh/perso/.venv/lib64/python3.12/site-packages/pandas/core/indexes/multi.py\": 1754563244.5227826, \"/home/ldinh/perso/.venv/lib64/python3.12/site-packages/pandas/core/indexes/timedeltas.py\": 1754563244.5427825, \"/home/ldinh/perso/.venv/lib64/python3.12/site-packages/pandas/core/indexes/interval.py\": 1754563244.5107825, \"/home/ldinh/perso/.venv/lib64/python3.12/site-packages/pandas/core/indexes/period.py\": 1754563244.5307825, \"/home/ldinh/perso/.venv/lib64/python3.12/site-packages/pandas/core/indexes/api.py\": 1754563244.4947824, \"/home/ldinh/perso/.venv/lib64/python3.12/site-packages/pandas/core/indexing.py\": 1754563244.1227822, \"/home/ldinh/perso/.venv/lib64/python3.12/site-packages/pandas/core/sample.py\": 1754563244.1387823, \"/home/ldinh/perso/.venv/lib64/python3.12/site-packages/pandas/core/array_algos/replace.py\": 1754563244.2467823, \"/home/ldinh/perso/.venv/lib64/python3.12/site-packages/pandas/core/internals/blocks.py\": 1754563244.6267824, \"/home/ldinh/perso/.venv/lib64/python3.12/site-packages/pandas/core/internals/api.py\": 1754563244.6147826, \"/home/ldinh/perso/.venv/lib64/python3.12/site-packages/pandas/core/internals/base.py\": 1754563244.6227825, \"/home/ldinh/perso/.venv/lib64/python3.12/site-packages/pandas/core/internals/ops.py\": 1754563244.6467824, \"/home/ldinh/perso/.venv/lib64/python3.12/site-packages/pandas/core/internals/managers.py\": 1754563244.6387825, \"/home/ldinh/perso/.venv/lib64/python3.12/site-packages/pandas/core/internals/array_manager.py\": 1754563244.6187825, \"/home/ldinh/perso/.venv/lib64/python3.12/site-packages/pandas/core/internals/concat.py\": 1754563244.6307826, \"/home/ldinh/perso/.venv/lib64/python3.12/site-packages/pandas/core/internals/__init__.py\": 1754563244.6107824, \"/home/ldinh/perso/.venv/lib64/python3.12/site-packages/pandas/core/internals/construction.py\": 1754563244.6387825, \"/home/ldinh/perso/.venv/lib64/python3.12/site-packages/pandas/core/methods/__init__.py\": 1754563244.6547825, \"/home/ldinh/perso/.venv/lib64/python3.12/site-packages/pandas/core/reshape/__init__.py\": 1754563244.6947825, \"/home/ldinh/perso/.venv/lib64/python3.12/site-packages/pandas/core/reshape/concat.py\": 1754563244.6987824, \"/usr/lib64/python3.12/lib-dynload/mmap.cpython-312-x86_64-linux-gnu.so\": 1734021254.0, \"/usr/lib64/python3.12/lib-dynload/grp.cpython-312-x86_64-linux-gnu.so\": 1734021254.0, \"/usr/lib64/python3.12/tarfile.py\": 1734020223.0, \"/home/ldinh/perso/.venv/lib64/python3.12/site-packages/pandas/core/shared_docs.py\": 1754563244.1427822, \"/home/ldinh/perso/.venv/lib64/python3.12/site-packages/pandas/io/common.py\": 1754563244.7667825, \"/home/ldinh/perso/.venv/lib64/python3.12/site-packages/pandas/io/formats/format.py\": 1754563244.8067825, \"/home/ldinh/perso/.venv/lib64/python3.12/site-packages/pandas/core/methods/describe.py\": 1754563244.6587825, \"/home/ldinh/perso/.venv/lib64/python3.12/site-packages/pandas/_libs/window/__init__.py\": 1754563243.8667822, \"/home/ldinh/perso/.venv/lib64/python3.12/site-packages/pandas/_libs/window/aggregations.cpython-312-x86_64-linux-gnu.so\": 1754563243.9027822, \"/home/ldinh/perso/.venv/lib64/python3.12/site-packages/pandas/_libs/window/indexers.cpython-312-x86_64-linux-gnu.so\": 1754563243.9227822, \"/home/ldinh/perso/.venv/lib64/python3.12/site-packages/pandas/core/indexers/objects.py\": 1754563244.4867826, \"/home/ldinh/perso/.venv/lib64/python3.12/site-packages/pandas/core/util/numba_.py\": 1754563244.7427826, \"/home/ldinh/perso/.venv/lib64/python3.12/site-packages/pandas/core/window/common.py\": 1754563244.7467825, \"/home/ldinh/perso/.venv/lib64/python3.12/site-packages/pandas/core/window/doc.py\": 1754563244.7467825, \"/home/ldinh/perso/.venv/lib64/python3.12/site-packages/pandas/core/window/numba_.py\": 1754563244.7507825, \"/home/ldinh/perso/.venv/lib64/python3.12/site-packages/pandas/core/window/online.py\": 1754563244.7547827, \"/home/ldinh/perso/.venv/lib64/python3.12/site-packages/pandas/core/window/rolling.py\": 1754563244.7547827, \"/home/ldinh/perso/.venv/lib64/python3.12/site-packages/pandas/core/window/ewm.py\": 1754563244.7507825, \"/home/ldinh/perso/.venv/lib64/python3.12/site-packages/pandas/core/window/expanding.py\": 1754563244.7507825, \"/home/ldinh/perso/.venv/lib64/python3.12/site-packages/pandas/core/window/__init__.py\": 1754563244.7467825, \"/home/ldinh/perso/.venv/lib64/python3.12/site-packages/pandas/core/generic.py\": 1754563244.1187823, \"/home/ldinh/perso/.venv/lib64/python3.12/site-packages/pandas/core/methods/selectn.py\": 1754563244.6627824, \"/home/ldinh/perso/.venv/lib64/python3.12/site-packages/pandas/core/reshape/util.py\": 1754563244.7147825, \"/home/ldinh/perso/.venv/lib64/python3.12/site-packages/pandas/core/tools/numeric.py\": 1754563244.7347825, \"/home/ldinh/perso/.venv/lib64/python3.12/site-packages/pandas/core/reshape/melt.py\": 1754563244.7027826, \"/home/ldinh/perso/.venv/lib64/python3.12/site-packages/pandas/_libs/reshape.cpython-312-x86_64-linux-gnu.so\": 1754563242.6907816, \"/home/ldinh/perso/.venv/lib64/python3.12/site-packages/pandas/core/indexes/accessors.py\": 1754563244.4947824, \"/home/ldinh/perso/.venv/lib64/python3.12/site-packages/pandas/arrays/__init__.py\": 1754563244.0267823, \"/home/ldinh/perso/.venv/lib64/python3.12/site-packages/pandas/core/tools/datetimes.py\": 1754563244.7307825, \"/home/ldinh/perso/.venv/lib64/python3.12/site-packages/pandas/io/formats/info.py\": 1754563244.8067825, \"/home/ldinh/perso/.venv/lib64/python3.12/site-packages/pandas/plotting/_core.py\": 1754563244.8547826, \"/home/ldinh/perso/.venv/lib64/python3.12/site-packages/pandas/plotting/_misc.py\": 1754563244.8547826, \"/home/ldinh/perso/.venv/lib64/python3.12/site-packages/pandas/plotting/__init__.py\": 1754563244.8547826, \"/home/ldinh/perso/.venv/lib64/python3.12/site-packages/pandas/core/series.py\": 1754563244.1427822, \"/home/ldinh/perso/.venv/lib64/python3.12/site-packages/pandas/core/frame.py\": 1754563244.1107821, \"/home/ldinh/perso/.venv/lib64/python3.12/site-packages/pandas/core/groupby/base.py\": 1754563244.4547825, \"/home/ldinh/perso/.venv/lib64/python3.12/site-packages/pandas/_libs/groupby.cpython-312-x86_64-linux-gnu.so\": 1754563241.662781, \"/home/ldinh/perso/.venv/lib64/python3.12/site-packages/pandas/core/groupby/categorical.py\": 1754563244.4587824, \"/home/ldinh/perso/.venv/lib64/python3.12/site-packages/pandas/core/groupby/grouper.py\": 1754563244.4707825, \"/home/ldinh/perso/.venv/lib64/python3.12/site-packages/pandas/core/groupby/ops.py\": 1754563244.4787824, \"/home/ldinh/perso/.venv/lib64/python3.12/site-packages/pandas/core/groupby/numba_.py\": 1754563244.4747825, \"/home/ldinh/perso/.venv/lib64/python3.12/site-packages/pandas/core/groupby/indexing.py\": 1754563244.4747825, \"/home/ldinh/perso/.venv/lib64/python3.12/site-packages/pandas/core/groupby/groupby.py\": 1754563244.4667823, \"/home/ldinh/perso/.venv/lib64/python3.12/site-packages/pandas/core/groupby/generic.py\": 1754563244.4627824, \"/home/ldinh/perso/.venv/lib64/python3.12/site-packages/pandas/core/groupby/__init__.py\": 1754563244.4547825, \"/home/ldinh/perso/.venv/lib64/python3.12/site-packages/pandas/core/api.py\": 1754563244.0667822, \"/home/ldinh/perso/.venv/lib64/python3.12/site-packages/pandas/tseries/api.py\": 1754563251.4747858, \"/home/ldinh/perso/.venv/lib64/python3.12/site-packages/pandas/core/computation/common.py\": 1754563244.3907824, \"/home/ldinh/perso/.venv/lib64/python3.12/site-packages/pandas/core/computation/align.py\": 1754563244.3787823, \"/home/ldinh/perso/.venv/lib64/python3.12/site-packages/pandas/core/computation/scope.py\": 1754563244.4107823, \"/home/ldinh/perso/.venv/lib64/python3.12/site-packages/pandas/core/computation/ops.py\": 1754563244.4027824, \"/home/ldinh/perso/.venv/lib64/python3.12/site-packages/pandas/core/computation/engines.py\": 1754563244.3907824, \"/home/ldinh/perso/.venv/lib64/python3.12/site-packages/pandas/core/computation/parsing.py\": 1754563244.4067824, \"/home/ldinh/perso/.venv/lib64/python3.12/site-packages/pandas/core/computation/expr.py\": 1754563244.3987825, \"/home/ldinh/perso/.venv/lib64/python3.12/site-packages/pandas/core/computation/eval.py\": 1754563244.3947823, \"/home/ldinh/perso/.venv/lib64/python3.12/site-packages/pandas/core/computation/api.py\": 1754563244.3827825, \"/home/ldinh/perso/.venv/lib64/python3.12/site-packages/pandas/core/reshape/encoding.py\": 1754563244.7027826, \"/home/ldinh/perso/.venv/lib64/python3.12/site-packages/pandas/core/reshape/merge.py\": 1754563244.7067826, \"/home/ldinh/perso/.venv/lib64/python3.12/site-packages/pandas/core/reshape/pivot.py\": 1754563244.7067826, \"/home/ldinh/perso/.venv/lib64/python3.12/site-packages/pandas/core/reshape/tile.py\": 1754563244.7107825, \"/home/ldinh/perso/.venv/lib64/python3.12/site-packages/pandas/core/reshape/api.py\": 1754563244.6987824, \"/home/ldinh/perso/.venv/lib64/python3.12/site-packages/pandas/api/extensions/__init__.py\": 1754563243.9627821, \"/home/ldinh/perso/.venv/lib64/python3.12/site-packages/pandas/api/indexers/__init__.py\": 1754563243.966782, \"/home/ldinh/perso/.venv/lib64/python3.12/site-packages/pandas/core/interchange/__init__.py\": 1754563244.5547824, \"/home/ldinh/perso/.venv/lib64/python3.12/site-packages/pandas/core/interchange/dataframe_protocol.py\": 1754563244.5907824, \"/home/ldinh/perso/.venv/lib64/python3.12/site-packages/pandas/core/interchange/utils.py\": 1754563244.5987825, \"/home/ldinh/perso/.venv/lib64/python3.12/site-packages/pandas/core/interchange/from_dataframe.py\": 1754563244.5947826, \"/home/ldinh/perso/.venv/lib64/python3.12/site-packages/pandas/api/interchange/__init__.py\": 1754563243.9787822, \"/home/ldinh/perso/.venv/lib64/python3.12/site-packages/pandas/core/dtypes/api.py\": 1754563244.4187825, \"/home/ldinh/perso/.venv/lib64/python3.12/site-packages/pandas/api/types/__init__.py\": 1754563243.9907823, \"/home/ldinh/perso/.venv/lib64/python3.12/site-packages/pandas/core/resample.py\": 1754563244.1347823, \"/home/ldinh/perso/.venv/lib64/python3.12/site-packages/pandas/_libs/json.cpython-312-x86_64-linux-gnu.so\": 1754563242.3707814, \"/home/ldinh/perso/.venv/lib64/python3.12/site-packages/pandas/io/json/_normalize.py\": 1754563244.8347826, \"/home/ldinh/perso/.venv/lib64/python3.12/site-packages/pandas/io/json/_table_schema.py\": 1754563244.8347826, \"/home/ldinh/perso/.venv/lib64/python3.12/site-packages/pandas/_libs/parsers.cpython-312-x86_64-linux-gnu.so\": 1754563242.6347816, \"/home/ldinh/perso/.venv/lib64/python3.12/site-packages/pandas/io/parsers/base_parser.py\": 1754563244.8387825, \"/home/ldinh/perso/.venv/lib64/python3.12/site-packages/pandas/io/parsers/arrow_parser_wrapper.py\": 1754563244.8387825, \"/home/ldinh/perso/.venv/lib64/python3.12/site-packages/pandas/io/parsers/c_parser_wrapper.py\": 1754563244.8387825, \"/home/ldinh/perso/.venv/lib64/python3.12/site-packages/pandas/io/parsers/python_parser.py\": 1754563244.8427825, \"/home/ldinh/perso/.venv/lib64/python3.12/site-packages/pandas/io/parsers/readers.py\": 1754563244.8427825, \"/home/ldinh/perso/.venv/lib64/python3.12/site-packages/pandas/io/parsers/__init__.py\": 1754563244.8387825, \"/home/ldinh/perso/.venv/lib64/python3.12/site-packages/pandas/io/json/_json.py\": 1754563244.8347826, \"/home/ldinh/perso/.venv/lib64/python3.12/site-packages/pandas/io/json/__init__.py\": 1754563244.8307827, \"/home/ldinh/perso/.venv/lib64/python3.12/site-packages/pandas/io/stata.py\": 1754563244.7787826, \"/home/ldinh/perso/.venv/lib64/python3.12/site-packages/pandas/api/typing/__init__.py\": 1754563244.0067823, \"/home/ldinh/perso/.venv/lib64/python3.12/site-packages/pandas/api/__init__.py\": 1754563243.950782, \"/home/ldinh/perso/.venv/lib64/python3.12/site-packages/pandas/_testing/contexts.py\": 1754563243.9387822, \"/home/ldinh/perso/.venv/lib64/python3.12/site-packages/pandas/_testing/_io.py\": 1754563243.9347823, \"/home/ldinh/perso/.venv/lib64/python3.12/site-packages/pandas/_testing/_warnings.py\": 1754563243.9347823, \"/usr/lib64/python3.12/lib-dynload/cmath.cpython-312-x86_64-linux-gnu.so\": 1734021254.0, \"/home/ldinh/perso/.venv/lib64/python3.12/site-packages/pandas/_libs/testing.cpython-312-x86_64-linux-gnu.so\": 1754563242.8787816, \"/home/ldinh/perso/.venv/lib64/python3.12/site-packages/pandas/_testing/asserters.py\": 1754563243.9347823, \"/home/ldinh/perso/.venv/lib64/python3.12/site-packages/pandas/_testing/compat.py\": 1754563243.9387822, \"/home/ldinh/perso/.venv/lib64/python3.12/site-packages/pandas/_testing/__init__.py\": 1754563243.930782, \"/home/ldinh/perso/.venv/lib64/python3.12/site-packages/pandas/testing.py\": 1754563240.8227806, \"/home/ldinh/perso/.venv/lib64/python3.12/site-packages/pandas/util/_print_versions.py\": 1754563251.590786, \"/home/ldinh/perso/.venv/lib64/python3.12/site-packages/pandas/io/clipboards.py\": 1754563244.7627826, \"/home/ldinh/perso/.venv/lib64/python3.12/site-packages/pandas/io/excel/_util.py\": 1754563244.7947826, \"/home/ldinh/perso/.venv/lib64/python3.12/site-packages/pandas/io/excel/_calamine.py\": 1754563244.7907827, \"/home/ldinh/perso/.venv/lib64/python3.12/site-packages/pandas/io/excel/_odfreader.py\": 1754563244.7947826, \"/home/ldinh/perso/.venv/lib64/python3.12/site-packages/pandas/io/excel/_openpyxl.py\": 1754563244.7947826, \"/home/ldinh/perso/.venv/lib64/python3.12/site-packages/pandas/io/excel/_pyxlsb.py\": 1754563244.7947826, \"/home/ldinh/perso/.venv/lib64/python3.12/site-packages/pandas/io/excel/_xlrd.py\": 1754563244.7987826, \"/home/ldinh/perso/.venv/lib64/python3.12/site-packages/pandas/io/excel/_base.py\": 1754563244.7907827, \"/home/ldinh/perso/.venv/lib64/python3.12/site-packages/pandas/io/excel/_odswriter.py\": 1754563244.7947826, \"/home/ldinh/perso/.venv/lib64/python3.12/site-packages/pandas/io/excel/_xlsxwriter.py\": 1754563244.7987826, \"/home/ldinh/perso/.venv/lib64/python3.12/site-packages/pandas/io/excel/__init__.py\": 1754563244.7907827, \"/home/ldinh/perso/.venv/lib64/python3.12/site-packages/pandas/io/feather_format.py\": 1754563244.7667825, \"/home/ldinh/perso/.venv/lib64/python3.12/site-packages/pandas/io/gbq.py\": 1754563244.7667825, \"/home/ldinh/perso/.venv/lib64/python3.12/site-packages/pandas/io/html.py\": 1754563244.7667825, \"/home/ldinh/perso/.venv/lib64/python3.12/site-packages/pandas/io/orc.py\": 1754563244.7707825, \"/home/ldinh/perso/.venv/lib64/python3.12/site-packages/pandas/io/parquet.py\": 1754563244.7707825, \"/home/ldinh/perso/.venv/lib64/python3.12/site-packages/pandas/compat/pickle_compat.py\": 1754563244.0547822, \"/home/ldinh/perso/.venv/lib64/python3.12/site-packages/pandas/io/pickle.py\": 1754563244.7707825, \"/home/ldinh/perso/.venv/lib64/python3.12/site-packages/pandas/core/computation/pytables.py\": 1754563244.4067824, \"/home/ldinh/perso/.venv/lib64/python3.12/site-packages/pandas/io/pytables.py\": 1754563244.7747827, \"/home/ldinh/perso/.venv/lib64/python3.12/site-packages/pandas/io/sas/sasreader.py\": 1754563244.8467827, \"/home/ldinh/perso/.venv/lib64/python3.12/site-packages/pandas/io/sas/__init__.py\": 1754563244.8427825, \"/home/ldinh/perso/.venv/lib64/python3.12/site-packages/pandas/io/spss.py\": 1754563244.7747827, \"/home/ldinh/perso/.venv/lib64/python3.12/site-packages/pandas/io/sql.py\": 1754563244.7747827, \"/home/ldinh/perso/.venv/lib64/python3.12/site-packages/pandas/io/xml.py\": 1754563244.7787826, \"/home/ldinh/perso/.venv/lib64/python3.12/site-packages/pandas/io/api.py\": 1754563244.7627826, \"/home/ldinh/perso/.venv/lib64/python3.12/site-packages/pandas/util/_tester.py\": 1754563251.6187859, \"/home/ldinh/perso/.venv/lib64/python3.12/site-packages/pandas/_version_meson.py\": 1754563240.7867806, \"/home/ldinh/perso/.venv/lib64/python3.12/site-packages/pandas/__init__.py\": 1754563240.7467806}\n"
     ]
    }
   ],
   "source": [
    "\n",
    "# imports\n",
    "import os\n",
    "import sys\n",
    "import types\n",
    "import json\n",
    "import base64\n",
    "\n",
    "# figure size/format\n",
    "fig_width = 7\n",
    "fig_height = 5\n",
    "fig_format = 'retina'\n",
    "fig_dpi = 96\n",
    "interactivity = ''\n",
    "is_shiny = False\n",
    "is_dashboard = False\n",
    "plotly_connected = True\n",
    "\n",
    "# matplotlib defaults / format\n",
    "try:\n",
    "  import matplotlib.pyplot as plt\n",
    "  plt.rcParams['figure.figsize'] = (fig_width, fig_height)\n",
    "  plt.rcParams['figure.dpi'] = fig_dpi\n",
    "  plt.rcParams['savefig.dpi'] = \"figure\"\n",
    "\n",
    "  # IPython 7.14 deprecated set_matplotlib_formats from IPython\n",
    "  try:\n",
    "    from matplotlib_inline.backend_inline import set_matplotlib_formats\n",
    "  except ImportError:\n",
    "    # Fall back to deprecated location for older IPython versions\n",
    "    from IPython.display import set_matplotlib_formats\n",
    "    \n",
    "  set_matplotlib_formats(fig_format)\n",
    "except Exception:\n",
    "  pass\n",
    "\n",
    "# plotly use connected mode\n",
    "try:\n",
    "  import plotly.io as pio\n",
    "  if plotly_connected:\n",
    "    pio.renderers.default = \"notebook_connected\"\n",
    "  else:\n",
    "    pio.renderers.default = \"notebook\"\n",
    "  for template in pio.templates.keys():\n",
    "    pio.templates[template].layout.margin = dict(t=30,r=0,b=0,l=0)\n",
    "except Exception:\n",
    "  pass\n",
    "\n",
    "# disable itables paging for dashboards\n",
    "if is_dashboard:\n",
    "  try:\n",
    "    from itables import options\n",
    "    options.dom = 'fiBrtlp'\n",
    "    options.maxBytes = 1024 * 1024\n",
    "    options.language = dict(info = \"Showing _TOTAL_ entries\")\n",
    "    options.classes = \"display nowrap compact\"\n",
    "    options.paging = False\n",
    "    options.searching = True\n",
    "    options.ordering = True\n",
    "    options.info = True\n",
    "    options.lengthChange = False\n",
    "    options.autoWidth = False\n",
    "    options.responsive = True\n",
    "    options.keys = True\n",
    "    options.buttons = []\n",
    "  except Exception:\n",
    "    pass\n",
    "  \n",
    "  try:\n",
    "    import altair as alt\n",
    "    # By default, dashboards will have container sized\n",
    "    # vega visualizations which allows them to flow reasonably\n",
    "    theme_sentinel = '_quarto-dashboard-internal'\n",
    "    def make_theme(name):\n",
    "        nonTheme = alt.themes._plugins[name]    \n",
    "        def patch_theme(*args, **kwargs):\n",
    "            existingTheme = nonTheme()\n",
    "            if 'height' not in existingTheme:\n",
    "              existingTheme['height'] = 'container'\n",
    "            if 'width' not in existingTheme:\n",
    "              existingTheme['width'] = 'container'\n",
    "\n",
    "            if 'config' not in existingTheme:\n",
    "              existingTheme['config'] = dict()\n",
    "            \n",
    "            # Configure the default font sizes\n",
    "            title_font_size = 15\n",
    "            header_font_size = 13\n",
    "            axis_font_size = 12\n",
    "            legend_font_size = 12\n",
    "            mark_font_size = 12\n",
    "            tooltip = False\n",
    "\n",
    "            config = existingTheme['config']\n",
    "\n",
    "            # The Axis\n",
    "            if 'axis' not in config:\n",
    "              config['axis'] = dict()\n",
    "            axis = config['axis']\n",
    "            if 'labelFontSize' not in axis:\n",
    "              axis['labelFontSize'] = axis_font_size\n",
    "            if 'titleFontSize' not in axis:\n",
    "              axis['titleFontSize'] = axis_font_size  \n",
    "\n",
    "            # The legend\n",
    "            if 'legend' not in config:\n",
    "              config['legend'] = dict()\n",
    "            legend = config['legend']\n",
    "            if 'labelFontSize' not in legend:\n",
    "              legend['labelFontSize'] = legend_font_size\n",
    "            if 'titleFontSize' not in legend:\n",
    "              legend['titleFontSize'] = legend_font_size  \n",
    "\n",
    "            # The header\n",
    "            if 'header' not in config:\n",
    "              config['header'] = dict()\n",
    "            header = config['header']\n",
    "            if 'labelFontSize' not in header:\n",
    "              header['labelFontSize'] = header_font_size\n",
    "            if 'titleFontSize' not in header:\n",
    "              header['titleFontSize'] = header_font_size    \n",
    "\n",
    "            # Title\n",
    "            if 'title' not in config:\n",
    "              config['title'] = dict()\n",
    "            title = config['title']\n",
    "            if 'fontSize' not in title:\n",
    "              title['fontSize'] = title_font_size\n",
    "\n",
    "            # Marks\n",
    "            if 'mark' not in config:\n",
    "              config['mark'] = dict()\n",
    "            mark = config['mark']\n",
    "            if 'fontSize' not in mark:\n",
    "              mark['fontSize'] = mark_font_size\n",
    "\n",
    "            # Mark tooltips\n",
    "            if tooltip and 'tooltip' not in mark:\n",
    "              mark['tooltip'] = dict(content=\"encoding\")\n",
    "\n",
    "            return existingTheme\n",
    "            \n",
    "        return patch_theme\n",
    "\n",
    "    # We can only do this once per session\n",
    "    if theme_sentinel not in alt.themes.names():\n",
    "      for name in alt.themes.names():\n",
    "        alt.themes.register(name, make_theme(name))\n",
    "      \n",
    "      # register a sentinel theme so we only do this once\n",
    "      alt.themes.register(theme_sentinel, make_theme('default'))\n",
    "      alt.themes.enable('default')\n",
    "\n",
    "  except Exception:\n",
    "    pass\n",
    "\n",
    "# enable pandas latex repr when targeting pdfs\n",
    "try:\n",
    "  import pandas as pd\n",
    "  if fig_format == 'pdf':\n",
    "    pd.set_option('display.latex.repr', True)\n",
    "except Exception:\n",
    "  pass\n",
    "\n",
    "# interactivity\n",
    "if interactivity:\n",
    "  from IPython.core.interactiveshell import InteractiveShell\n",
    "  InteractiveShell.ast_node_interactivity = interactivity\n",
    "\n",
    "# NOTE: the kernel_deps code is repeated in the cleanup.py file\n",
    "# (we can't easily share this code b/c of the way it is run).\n",
    "# If you edit this code also edit the same code in cleanup.py!\n",
    "\n",
    "# output kernel dependencies\n",
    "kernel_deps = dict()\n",
    "for module in list(sys.modules.values()):\n",
    "  # Some modules play games with sys.modules (e.g. email/__init__.py\n",
    "  # in the standard library), and occasionally this can cause strange\n",
    "  # failures in getattr.  Just ignore anything that's not an ordinary\n",
    "  # module.\n",
    "  if not isinstance(module, types.ModuleType):\n",
    "    continue\n",
    "  path = getattr(module, \"__file__\", None)\n",
    "  if not path:\n",
    "    continue\n",
    "  if path.endswith(\".pyc\") or path.endswith(\".pyo\"):\n",
    "    path = path[:-1]\n",
    "  if not os.path.exists(path):\n",
    "    continue\n",
    "  kernel_deps[path] = os.stat(path).st_mtime\n",
    "print(json.dumps(kernel_deps))\n",
    "\n",
    "# set run_path if requested\n",
    "run_path = 'L2hvbWUvbGRpbmgvcGVyc28vYmxvZy9wb3N0cy9uYXR1cmFsLWxhbmd1YWdlLXByb2Nlc3Npbmc='\n",
    "if run_path:\n",
    "  # hex-decode the path\n",
    "  run_path = base64.b64decode(run_path.encode(\"utf-8\")).decode(\"utf-8\")\n",
    "  os.chdir(run_path)\n",
    "\n",
    "# reset state\n",
    "%reset\n",
    "\n",
    "# shiny\n",
    "# Checking for shiny by using False directly because we're after the %reset. We don't want\n",
    "# to set a variable that stays in global scope.\n",
    "if False:\n",
    "  try:\n",
    "    import htmltools as _htmltools\n",
    "    import ast as _ast\n",
    "\n",
    "    _htmltools.html_dependency_render_mode = \"json\"\n",
    "\n",
    "    # This decorator will be added to all function definitions\n",
    "    def _display_if_has_repr_html(x):\n",
    "      try:\n",
    "        # IPython 7.14 preferred import\n",
    "        from IPython.display import display, HTML\n",
    "      except:\n",
    "        from IPython.core.display import display, HTML\n",
    "\n",
    "      if hasattr(x, '_repr_html_'):\n",
    "        display(HTML(x._repr_html_()))\n",
    "      return x\n",
    "\n",
    "    # ideally we would undo the call to ast_transformers.append\n",
    "    # at the end of this block whenver an error occurs, we do \n",
    "    # this for now as it will only be a problem if the user \n",
    "    # switches from shiny to not-shiny mode (and even then likely\n",
    "    # won't matter)\n",
    "    import builtins\n",
    "    builtins._display_if_has_repr_html = _display_if_has_repr_html\n",
    "\n",
    "    class _FunctionDefReprHtml(_ast.NodeTransformer):\n",
    "      def visit_FunctionDef(self, node):\n",
    "        node.decorator_list.insert(\n",
    "          0,\n",
    "          _ast.Name(id=\"_display_if_has_repr_html\", ctx=_ast.Load())\n",
    "        )\n",
    "        return node\n",
    "\n",
    "      def visit_AsyncFunctionDef(self, node):\n",
    "        node.decorator_list.insert(\n",
    "          0,\n",
    "          _ast.Name(id=\"_display_if_has_repr_html\", ctx=_ast.Load())\n",
    "        )\n",
    "        return node\n",
    "\n",
    "    ip = get_ipython()\n",
    "    ip.ast_transformers.append(_FunctionDefReprHtml())\n",
    "\n",
    "  except:\n",
    "    pass\n",
    "\n",
    "def ojs_define(**kwargs):\n",
    "  import json\n",
    "  try:\n",
    "    # IPython 7.14 preferred import\n",
    "    from IPython.display import display, HTML\n",
    "  except:\n",
    "    from IPython.core.display import display, HTML\n",
    "\n",
    "  # do some minor magic for convenience when handling pandas\n",
    "  # dataframes\n",
    "  def convert(v):\n",
    "    try:\n",
    "      import pandas as pd\n",
    "    except ModuleNotFoundError: # don't do the magic when pandas is not available\n",
    "      return v\n",
    "    if type(v) == pd.Series:\n",
    "      v = pd.DataFrame(v)\n",
    "    if type(v) == pd.DataFrame:\n",
    "      j = json.loads(v.T.to_json(orient='split'))\n",
    "      return dict((k,v) for (k,v) in zip(j[\"index\"], j[\"data\"]))\n",
    "    else:\n",
    "      return v\n",
    "\n",
    "  v = dict(contents=list(dict(name=key, value=convert(value)) for (key, value) in kwargs.items()))\n",
    "  display(HTML('<script type=\"ojs-define\">' + json.dumps(v) + '</script>'), metadata=dict(ojs_define = True))\n",
    "globals()[\"ojs_define\"] = ojs_define\n",
    "globals()[\"__spec__\"] = None"
   ]
  },
  {
   "cell_type": "code",
   "execution_count": 2,
   "id": "e7a0a5a9",
   "metadata": {
    "message": false
   },
   "outputs": [],
   "source": [
    "#| echo: true\n",
    "#| output: false\n",
    "#| eval: true\n",
    "#| warning: false\n",
    "from fastai.text.all import *\n",
    "path = untar_data(URLs.IMDB)\n",
    "# path.ls()"
   ]
  },
  {
   "cell_type": "code",
   "execution_count": 3,
   "id": "13e0fae8",
   "metadata": {
    "message": false
   },
   "outputs": [],
   "source": [
    "#| echo: true\n",
    "#| output: true\n",
    "#| eval: true\n",
    "#| warning: false\n",
    "files = get_text_files(path,folders=['train','test','unsup'])"
   ]
  },
  {
   "cell_type": "code",
   "execution_count": 4,
   "id": "3df18bfe",
   "metadata": {
    "message": false
   },
   "outputs": [
    {
     "name": "stdout",
     "output_type": "stream",
     "text": [
      "(#365) ['While','the','premise','of','the','film','is','pretty','lame','(','Ollie','is','diagnosed','with','\"','hornophobia','\"',')',',','the','film','is','an','amiable','and','enjoyable','little','flick','.','It'...]\n"
     ]
    }
   ],
   "source": [
    "#| echo: true\n",
    "#| output: true\n",
    "#| eval: true\n",
    "#| warning: false\n",
    "txt = files[0].open().read()\n",
    "txt[:60]\n",
    "spacy = WordTokenizer()\n",
    "toks = first(spacy([txt]))\n",
    "\n",
    "print(coll_repr(toks,30))"
   ]
  },
  {
   "cell_type": "code",
   "execution_count": 5,
   "id": "82ed3d54",
   "metadata": {
    "message": false
   },
   "outputs": [],
   "source": [
    "#| echo: true\n",
    "#| output: true\n",
    "#| eval: true\n",
    "#| warning: false\n",
    "txts = L(o.open().read() for o in files[:2000])\n",
    "def subword(sz):\n",
    "    sp = SubwordTokenizer(vocab_sz=sz)\n",
    "    sp.setup(txts)\n",
    "    return ' '.join(first(sp([txt]))[:40])"
   ]
  },
  {
   "cell_type": "code",
   "execution_count": 6,
   "id": "86aecee7",
   "metadata": {
    "message": false
   },
   "outputs": [
    {
     "data": {
      "text/html": [
       "\n",
       "<style>\n",
       "    /* Turns off some styling */\n",
       "    progress {\n",
       "        /* gets rid of default border in Firefox and Opera. */\n",
       "        border: none;\n",
       "        /* Needs to be in here for Safari polyfill so background images work as expected. */\n",
       "        background-size: auto;\n",
       "    }\n",
       "    progress:not([value]), progress:not([value])::-webkit-progress-bar {\n",
       "        background: repeating-linear-gradient(45deg, #7e7e7e, #7e7e7e 10px, #5c5c5c 10px, #5c5c5c 20px);\n",
       "    }\n",
       "    .progress-bar-interrupted, .progress-bar-interrupted::-webkit-progress-bar {\n",
       "        background: #F44336;\n",
       "    }\n",
       "</style>\n"
      ],
      "text/plain": [
       "<IPython.core.display.HTML object>"
      ]
     },
     "metadata": {},
     "output_type": "display_data"
    },
    {
     "data": {
      "text/html": [],
      "text/plain": [
       "<IPython.core.display.HTML object>"
      ]
     },
     "metadata": {},
     "output_type": "display_data"
    },
    {
     "name": "stderr",
     "output_type": "stream",
     "text": [
      "sentencepiece_trainer.cc(178) LOG(INFO) Running command: --input=tmp/texts.out --vocab_size=10000 --model_prefix=tmp/spm --character_coverage=0.99999 --model_type=unigram --unk_id=9 --pad_id=-1 --bos_id=-1 --eos_id=-1 --minloglevel=2 --user_defined_symbols=▁xxunk,▁xxpad,▁xxbos,▁xxeos,▁xxfld,▁xxrep,▁xxwrep,▁xxup,▁xxmaj --hard_vocab_limit=false\n"
     ]
    },
    {
     "data": {
      "text/plain": [
       "'▁Whil e ▁the ▁premise ▁of ▁the ▁film ▁is ▁pretty ▁lame ▁( O ll ie ▁is ▁diagnos ed ▁with ▁\" hor no pho b ia \") , ▁the ▁film ▁is ▁an ▁a mi able ▁and ▁enjoyable ▁little ▁flick . ▁It \\''"
      ]
     },
     "execution_count": 5,
     "metadata": {},
     "output_type": "execute_result"
    }
   ],
   "source": [
    "#| echo: true\n",
    "#| output: true\n",
    "#| eval: true\n",
    "#| warning: false\n",
    "subword(10000)"
   ]
  },
  {
   "cell_type": "code",
   "execution_count": 7,
   "id": "e9bc3170",
   "metadata": {
    "message": false
   },
   "outputs": [
    {
     "data": {
      "text/plain": [
       "\"(#2976) ['xxunk','xxpad','xxbos','xxeos','xxfld','xxrep','xxwrep','xxup','xxmaj','the',',','.','and','a','of','to','is','in','it','i'...]\""
      ]
     },
     "execution_count": 6,
     "metadata": {},
     "output_type": "execute_result"
    }
   ],
   "source": [
    "#| echo: true\n",
    "#| output: true\n",
    "#| eval: true\n",
    "#| warning: false\n",
    "tkn = Tokenizer(spacy)\n",
    "toks300 = txts[:300].map(tkn)\n",
    "toks300[0]\n",
    "num = Numericalize()\n",
    "num.setup(toks300)\n",
    "coll_repr(num.vocab,20)"
   ]
  },
  {
   "cell_type": "code",
   "execution_count": 8,
   "id": "ed391997",
   "metadata": {},
   "outputs": [
    {
     "data": {
      "text/plain": [
       "TensorText([   0,    9,  938,   14,    9,   30,   16,  173, 1227,   35,    0,\n",
       "              16,    0,   27,   23,    0,   23,   33,   10,    9])"
      ]
     },
     "execution_count": 7,
     "metadata": {},
     "output_type": "execute_result"
    }
   ],
   "source": [
    "nums = num(toks)[:20]\n",
    "nums"
   ]
  },
  {
   "cell_type": "code",
   "execution_count": 9,
   "id": "73da4d1c",
   "metadata": {},
   "outputs": [
    {
     "data": {
      "text/plain": [
       "'xxunk the premise of the film is pretty lame ( xxunk is xxunk with \" xxunk \" ) , the'"
      ]
     },
     "execution_count": 8,
     "metadata": {},
     "output_type": "execute_result"
    }
   ],
   "source": [
    "' '.join(num.vocab[o] for o in nums)"
   ]
  },
  {
   "cell_type": "code",
   "execution_count": 10,
   "id": "e9b9d42b",
   "metadata": {},
   "outputs": [
    {
     "data": {
      "text/plain": [
       "(torch.Size([64, 72]), torch.Size([64, 72]))"
      ]
     },
     "execution_count": 9,
     "metadata": {},
     "output_type": "execute_result"
    }
   ],
   "source": [
    "nums300 = toks300.map(num)\n",
    "dl = LMDataLoader(nums300)\n",
    "x,y = first(dl)\n",
    "x.shape, y.shape"
   ]
  },
  {
   "cell_type": "code",
   "execution_count": 11,
   "id": "90b5ab90",
   "metadata": {},
   "outputs": [],
   "source": [
    "get_imdb = partial(get_text_files, folders=['train', 'test', 'unsup'])\n",
    "\n",
    "dls_lm = DataBlock(\n",
    "blocks=TextBlock.from_folder(path, is_lm=True),\n",
    "get_items=get_imdb, splitter=RandomSplitter(0.1)).dataloaders(path, path=path, bs=128, seq_len=80)"
   ]
  },
  {
   "cell_type": "code",
   "execution_count": 12,
   "id": "bd4a4a3e",
   "metadata": {},
   "outputs": [],
   "source": [
    "learn = language_model_learner(\n",
    "dls_lm, AWD_LSTM, drop_mult=0.3,\n",
    "metrics=[accuracy, Perplexity()]).to_fp16()"
   ]
  },
  {
   "cell_type": "code",
   "execution_count": 13,
   "id": "510ea153",
   "metadata": {
    "cache": true,
    "message": false
   },
   "outputs": [
    {
     "name": "stderr",
     "output_type": "stream",
     "text": [
      "/home/ldinh/perso/.venv/lib64/python3.12/site-packages/fastai/callback/fp16.py:47: FutureWarning: `torch.cuda.amp.autocast(args...)` is deprecated. Please use `torch.amp.autocast('cuda', args...)` instead.\n",
      "  self.autocast,self.learn.scaler,self.scales = autocast(dtype=dtype),GradScaler(**self.kwargs),L()\n",
      "/home/ldinh/perso/.venv/lib64/python3.12/site-packages/torch/amp/autocast_mode.py:266: UserWarning: User provided device_type of 'cuda', but CUDA is not available. Disabling\n",
      "  warnings.warn(\n",
      "/home/ldinh/perso/.venv/lib64/python3.12/site-packages/fastai/callback/fp16.py:47: FutureWarning: `torch.cuda.amp.GradScaler(args...)` is deprecated. Please use `torch.amp.GradScaler('cuda', args...)` instead.\n",
      "  self.autocast,self.learn.scaler,self.scales = autocast(dtype=dtype),GradScaler(**self.kwargs),L()\n",
      "/home/ldinh/perso/.venv/lib64/python3.12/site-packages/torch/amp/grad_scaler.py:136: UserWarning: torch.cuda.amp.GradScaler is enabled, but CUDA is not available.  Disabling.\n",
      "  warnings.warn(\n"
     ]
    },
    {
     "data": {
      "text/html": [
       "\n",
       "<style>\n",
       "    /* Turns off some styling */\n",
       "    progress {\n",
       "        /* gets rid of default border in Firefox and Opera. */\n",
       "        border: none;\n",
       "        /* Needs to be in here for Safari polyfill so background images work as expected. */\n",
       "        background-size: auto;\n",
       "    }\n",
       "    progress:not([value]), progress:not([value])::-webkit-progress-bar {\n",
       "        background: repeating-linear-gradient(45deg, #7e7e7e, #7e7e7e 10px, #5c5c5c 10px, #5c5c5c 20px);\n",
       "    }\n",
       "    .progress-bar-interrupted, .progress-bar-interrupted::-webkit-progress-bar {\n",
       "        background: #F44336;\n",
       "    }\n",
       "</style>\n"
      ],
      "text/plain": [
       "<IPython.core.display.HTML object>"
      ]
     },
     "metadata": {},
     "output_type": "display_data"
    },
    {
     "data": {
      "text/html": [
       "<table border=\"1\" class=\"dataframe\">\n",
       "  <thead>\n",
       "    <tr style=\"text-align: left;\">\n",
       "      <th>epoch</th>\n",
       "      <th>train_loss</th>\n",
       "      <th>valid_loss</th>\n",
       "      <th>accuracy</th>\n",
       "      <th>perplexity</th>\n",
       "      <th>time</th>\n",
       "    </tr>\n",
       "  </thead>\n",
       "  <tbody>\n",
       "    <tr>\n",
       "      <td>0</td>\n",
       "      <td>4.022009</td>\n",
       "      <td>3.903203</td>\n",
       "      <td>0.300614</td>\n",
       "      <td>49.560917</td>\n",
       "      <td>2:10:54</td>\n",
       "    </tr>\n",
       "  </tbody>\n",
       "</table>"
      ],
      "text/plain": [
       "<IPython.core.display.HTML object>"
      ]
     },
     "metadata": {},
     "output_type": "display_data"
    }
   ],
   "source": [
    "#| echo: true\n",
    "#| output: true\n",
    "#| eval: true\n",
    "#| warning: false\n",
    "learn.fit_one_cycle(1,2e-2)"
   ]
  },
  {
   "cell_type": "code",
   "execution_count": 14,
   "id": "2ab141ff",
   "metadata": {
    "cache": true
   },
   "outputs": [],
   "source": [
    "# Option 1: Save with FastAI\n",
    "# learn.save('one_epoch_training')\n",
    "\n",
    "# Option 2: Save with PyTorch\n",
    "import torch\n",
    "model_save_path = learn.path/'models'/'one_epoch_training_torch.pth'\n",
    "torch.save(learn.model.state_dict(), model_save_path)\n",
    "# print(f\"Model saved to: {model_save_path}\")"
   ]
  },
  {
   "cell_type": "code",
   "execution_count": 15,
   "id": "c9a40d4d",
   "metadata": {
    "cache": true
   },
   "outputs": [
    {
     "data": {
      "text/plain": [
       "<All keys matched successfully>"
      ]
     },
     "execution_count": 14,
     "metadata": {},
     "output_type": "execute_result"
    }
   ],
   "source": [
    "# Option 1: Use FastAI's load method\n",
    "# learn.load('one_epoch_training', strict=False)\n",
    "\n",
    "# Option 2: Use PyTorch to load the saved model\n",
    "import torch\n",
    "model_load_path = learn.path/'models'/'one_epoch_training_torch.pth'\n",
    "state_dict = torch.load(model_load_path, weights_only=False)\n",
    "learn.model.load_state_dict(state_dict, strict=False)\n",
    "# print(f\"Model loaded from: {model_load_path}\")"
   ]
  },
  {
   "cell_type": "code",
   "execution_count": 16,
   "id": "64cfa83e",
   "metadata": {
    "cache": true,
    "message": false
   },
   "outputs": [
    {
     "name": "stderr",
     "output_type": "stream",
     "text": [
      "/home/ldinh/perso/.venv/lib64/python3.12/site-packages/fastai/callback/fp16.py:47: FutureWarning: `torch.cuda.amp.autocast(args...)` is deprecated. Please use `torch.amp.autocast('cuda', args...)` instead.\n",
      "  self.autocast,self.learn.scaler,self.scales = autocast(dtype=dtype),GradScaler(**self.kwargs),L()\n",
      "/home/ldinh/perso/.venv/lib64/python3.12/site-packages/torch/amp/autocast_mode.py:266: UserWarning: User provided device_type of 'cuda', but CUDA is not available. Disabling\n",
      "  warnings.warn(\n",
      "/home/ldinh/perso/.venv/lib64/python3.12/site-packages/fastai/callback/fp16.py:47: FutureWarning: `torch.cuda.amp.GradScaler(args...)` is deprecated. Please use `torch.amp.GradScaler('cuda', args...)` instead.\n",
      "  self.autocast,self.learn.scaler,self.scales = autocast(dtype=dtype),GradScaler(**self.kwargs),L()\n",
      "/home/ldinh/perso/.venv/lib64/python3.12/site-packages/torch/amp/grad_scaler.py:136: UserWarning: torch.cuda.amp.GradScaler is enabled, but CUDA is not available.  Disabling.\n",
      "  warnings.warn(\n"
     ]
    },
    {
     "data": {
      "text/html": [
       "\n",
       "<style>\n",
       "    /* Turns off some styling */\n",
       "    progress {\n",
       "        /* gets rid of default border in Firefox and Opera. */\n",
       "        border: none;\n",
       "        /* Needs to be in here for Safari polyfill so background images work as expected. */\n",
       "        background-size: auto;\n",
       "    }\n",
       "    progress:not([value]), progress:not([value])::-webkit-progress-bar {\n",
       "        background: repeating-linear-gradient(45deg, #7e7e7e, #7e7e7e 10px, #5c5c5c 10px, #5c5c5c 20px);\n",
       "    }\n",
       "    .progress-bar-interrupted, .progress-bar-interrupted::-webkit-progress-bar {\n",
       "        background: #F44336;\n",
       "    }\n",
       "</style>\n"
      ],
      "text/plain": [
       "<IPython.core.display.HTML object>"
      ]
     },
     "metadata": {},
     "output_type": "display_data"
    },
    {
     "data": {
      "text/html": [
       "<table border=\"1\" class=\"dataframe\">\n",
       "  <thead>\n",
       "    <tr style=\"text-align: left;\">\n",
       "      <th>epoch</th>\n",
       "      <th>train_loss</th>\n",
       "      <th>valid_loss</th>\n",
       "      <th>accuracy</th>\n",
       "      <th>perplexity</th>\n",
       "      <th>time</th>\n",
       "    </tr>\n",
       "  </thead>\n",
       "  <tbody>\n",
       "    <tr>\n",
       "      <td>0</td>\n",
       "      <td>3.760638</td>\n",
       "      <td>3.760075</td>\n",
       "      <td>0.316936</td>\n",
       "      <td>42.951653</td>\n",
       "      <td>2:07:02</td>\n",
       "    </tr>\n",
       "    <tr>\n",
       "      <td>1</td>\n",
       "      <td>3.703956</td>\n",
       "      <td>3.700609</td>\n",
       "      <td>0.323304</td>\n",
       "      <td>40.471931</td>\n",
       "      <td>2:08:32</td>\n",
       "    </tr>\n",
       "    <tr>\n",
       "      <td>2</td>\n",
       "      <td>3.631842</td>\n",
       "      <td>3.652532</td>\n",
       "      <td>0.329091</td>\n",
       "      <td>38.572201</td>\n",
       "      <td>2:06:09</td>\n",
       "    </tr>\n",
       "    <tr>\n",
       "      <td>3</td>\n",
       "      <td>3.554917</td>\n",
       "      <td>3.620509</td>\n",
       "      <td>0.332665</td>\n",
       "      <td>37.356575</td>\n",
       "      <td>2:09:31</td>\n",
       "    </tr>\n",
       "    <tr>\n",
       "      <td>4</td>\n",
       "      <td>3.499525</td>\n",
       "      <td>3.599286</td>\n",
       "      <td>0.335780</td>\n",
       "      <td>36.572124</td>\n",
       "      <td>2:06:44</td>\n",
       "    </tr>\n",
       "    <tr>\n",
       "      <td>5</td>\n",
       "      <td>3.431938</td>\n",
       "      <td>3.582833</td>\n",
       "      <td>0.338105</td>\n",
       "      <td>35.975315</td>\n",
       "      <td>2:05:43</td>\n",
       "    </tr>\n",
       "    <tr>\n",
       "      <td>6</td>\n",
       "      <td>3.355997</td>\n",
       "      <td>3.576728</td>\n",
       "      <td>0.339651</td>\n",
       "      <td>35.756351</td>\n",
       "      <td>2:08:20</td>\n",
       "    </tr>\n",
       "    <tr>\n",
       "      <td>7</td>\n",
       "      <td>3.303835</td>\n",
       "      <td>3.572320</td>\n",
       "      <td>0.340352</td>\n",
       "      <td>35.599072</td>\n",
       "      <td>2:21:43</td>\n",
       "    </tr>\n",
       "    <tr>\n",
       "      <td>8</td>\n",
       "      <td>3.248072</td>\n",
       "      <td>3.575607</td>\n",
       "      <td>0.340495</td>\n",
       "      <td>35.716297</td>\n",
       "      <td>2:25:55</td>\n",
       "    </tr>\n",
       "    <tr>\n",
       "      <td>9</td>\n",
       "      <td>3.223243</td>\n",
       "      <td>3.580205</td>\n",
       "      <td>0.340375</td>\n",
       "      <td>35.880901</td>\n",
       "      <td>2:15:01</td>\n",
       "    </tr>\n",
       "  </tbody>\n",
       "</table>"
      ],
      "text/plain": [
       "<IPython.core.display.HTML object>"
      ]
     },
     "metadata": {},
     "output_type": "display_data"
    }
   ],
   "source": [
    "#| warning: false\n",
    "#| eval: true\n",
    "learn.unfreeze()\n",
    "\n",
    "learn.fit_one_cycle(10,2e-3)"
   ]
  },
  {
   "cell_type": "code",
   "execution_count": 17,
   "id": "1e5b6014",
   "metadata": {
    "cache": true
   },
   "outputs": [],
   "source": [
    "learn.save_encoder('finetuned')"
   ]
  },
  {
   "cell_type": "code",
   "execution_count": 18,
   "id": "15d0f41a",
   "metadata": {
    "message": false
   },
   "outputs": [
    {
     "data": {
      "text/html": [
       "\n",
       "<style>\n",
       "    /* Turns off some styling */\n",
       "    progress {\n",
       "        /* gets rid of default border in Firefox and Opera. */\n",
       "        border: none;\n",
       "        /* Needs to be in here for Safari polyfill so background images work as expected. */\n",
       "        background-size: auto;\n",
       "    }\n",
       "    progress:not([value]), progress:not([value])::-webkit-progress-bar {\n",
       "        background: repeating-linear-gradient(45deg, #7e7e7e, #7e7e7e 10px, #5c5c5c 10px, #5c5c5c 20px);\n",
       "    }\n",
       "    .progress-bar-interrupted, .progress-bar-interrupted::-webkit-progress-bar {\n",
       "        background: #F44336;\n",
       "    }\n",
       "</style>\n"
      ],
      "text/plain": [
       "<IPython.core.display.HTML object>"
      ]
     },
     "metadata": {},
     "output_type": "display_data"
    },
    {
     "data": {
      "text/html": [],
      "text/plain": [
       "<IPython.core.display.HTML object>"
      ]
     },
     "metadata": {},
     "output_type": "display_data"
    },
    {
     "name": "stderr",
     "output_type": "stream",
     "text": [
      "/home/ldinh/perso/.venv/lib64/python3.12/site-packages/fastai/callback/fp16.py:47: FutureWarning: `torch.cuda.amp.autocast(args...)` is deprecated. Please use `torch.amp.autocast('cuda', args...)` instead.\n",
      "  self.autocast,self.learn.scaler,self.scales = autocast(dtype=dtype),GradScaler(**self.kwargs),L()\n",
      "/home/ldinh/perso/.venv/lib64/python3.12/site-packages/torch/amp/autocast_mode.py:266: UserWarning: User provided device_type of 'cuda', but CUDA is not available. Disabling\n",
      "  warnings.warn(\n",
      "/home/ldinh/perso/.venv/lib64/python3.12/site-packages/fastai/callback/fp16.py:47: FutureWarning: `torch.cuda.amp.GradScaler(args...)` is deprecated. Please use `torch.amp.GradScaler('cuda', args...)` instead.\n",
      "  self.autocast,self.learn.scaler,self.scales = autocast(dtype=dtype),GradScaler(**self.kwargs),L()\n",
      "/home/ldinh/perso/.venv/lib64/python3.12/site-packages/torch/amp/grad_scaler.py:136: UserWarning: torch.cuda.amp.GradScaler is enabled, but CUDA is not available.  Disabling.\n",
      "  warnings.warn(\n"
     ]
    },
    {
     "name": "stderr",
     "output_type": "stream",
     "text": [
      "/home/ldinh/perso/.venv/lib64/python3.12/site-packages/fastai/callback/fp16.py:47: FutureWarning: `torch.cuda.amp.autocast(args...)` is deprecated. Please use `torch.amp.autocast('cuda', args...)` instead.\n",
      "  self.autocast,self.learn.scaler,self.scales = autocast(dtype=dtype),GradScaler(**self.kwargs),L()\n",
      "/home/ldinh/perso/.venv/lib64/python3.12/site-packages/torch/amp/autocast_mode.py:266: UserWarning: User provided device_type of 'cuda', but CUDA is not available. Disabling\n",
      "  warnings.warn(\n",
      "/home/ldinh/perso/.venv/lib64/python3.12/site-packages/fastai/callback/fp16.py:47: FutureWarning: `torch.cuda.amp.GradScaler(args...)` is deprecated. Please use `torch.amp.GradScaler('cuda', args...)` instead.\n",
      "  self.autocast,self.learn.scaler,self.scales = autocast(dtype=dtype),GradScaler(**self.kwargs),L()\n",
      "/home/ldinh/perso/.venv/lib64/python3.12/site-packages/torch/amp/grad_scaler.py:136: UserWarning: torch.cuda.amp.GradScaler is enabled, but CUDA is not available.  Disabling.\n",
      "  warnings.warn(\n"
     ]
    },
    {
     "name": "stderr",
     "output_type": "stream",
     "text": [
      "/home/ldinh/perso/.venv/lib64/python3.12/site-packages/fastai/callback/fp16.py:47: FutureWarning: `torch.cuda.amp.autocast(args...)` is deprecated. Please use `torch.amp.autocast('cuda', args...)` instead.\n",
      "  self.autocast,self.learn.scaler,self.scales = autocast(dtype=dtype),GradScaler(**self.kwargs),L()\n",
      "/home/ldinh/perso/.venv/lib64/python3.12/site-packages/torch/amp/autocast_mode.py:266: UserWarning: User provided device_type of 'cuda', but CUDA is not available. Disabling\n",
      "  warnings.warn(\n",
      "/home/ldinh/perso/.venv/lib64/python3.12/site-packages/fastai/callback/fp16.py:47: FutureWarning: `torch.cuda.amp.GradScaler(args...)` is deprecated. Please use `torch.amp.GradScaler('cuda', args...)` instead.\n",
      "  self.autocast,self.learn.scaler,self.scales = autocast(dtype=dtype),GradScaler(**self.kwargs),L()\n",
      "/home/ldinh/perso/.venv/lib64/python3.12/site-packages/torch/amp/grad_scaler.py:136: UserWarning: torch.cuda.amp.GradScaler is enabled, but CUDA is not available.  Disabling.\n",
      "  warnings.warn(\n"
     ]
    },
    {
     "name": "stderr",
     "output_type": "stream",
     "text": [
      "/home/ldinh/perso/.venv/lib64/python3.12/site-packages/fastai/callback/fp16.py:47: FutureWarning: `torch.cuda.amp.autocast(args...)` is deprecated. Please use `torch.amp.autocast('cuda', args...)` instead.\n",
      "  self.autocast,self.learn.scaler,self.scales = autocast(dtype=dtype),GradScaler(**self.kwargs),L()\n",
      "/home/ldinh/perso/.venv/lib64/python3.12/site-packages/torch/amp/autocast_mode.py:266: UserWarning: User provided device_type of 'cuda', but CUDA is not available. Disabling\n",
      "  warnings.warn(\n",
      "/home/ldinh/perso/.venv/lib64/python3.12/site-packages/fastai/callback/fp16.py:47: FutureWarning: `torch.cuda.amp.GradScaler(args...)` is deprecated. Please use `torch.amp.GradScaler('cuda', args...)` instead.\n",
      "  self.autocast,self.learn.scaler,self.scales = autocast(dtype=dtype),GradScaler(**self.kwargs),L()\n",
      "/home/ldinh/perso/.venv/lib64/python3.12/site-packages/torch/amp/grad_scaler.py:136: UserWarning: torch.cuda.amp.GradScaler is enabled, but CUDA is not available.  Disabling.\n",
      "  warnings.warn(\n"
     ]
    },
    {
     "name": "stderr",
     "output_type": "stream",
     "text": [
      "/home/ldinh/perso/.venv/lib64/python3.12/site-packages/fastai/callback/fp16.py:47: FutureWarning: `torch.cuda.amp.autocast(args...)` is deprecated. Please use `torch.amp.autocast('cuda', args...)` instead.\n",
      "  self.autocast,self.learn.scaler,self.scales = autocast(dtype=dtype),GradScaler(**self.kwargs),L()\n",
      "/home/ldinh/perso/.venv/lib64/python3.12/site-packages/torch/amp/autocast_mode.py:266: UserWarning: User provided device_type of 'cuda', but CUDA is not available. Disabling\n",
      "  warnings.warn(\n",
      "/home/ldinh/perso/.venv/lib64/python3.12/site-packages/fastai/callback/fp16.py:47: FutureWarning: `torch.cuda.amp.GradScaler(args...)` is deprecated. Please use `torch.amp.GradScaler('cuda', args...)` instead.\n",
      "  self.autocast,self.learn.scaler,self.scales = autocast(dtype=dtype),GradScaler(**self.kwargs),L()\n",
      "/home/ldinh/perso/.venv/lib64/python3.12/site-packages/torch/amp/grad_scaler.py:136: UserWarning: torch.cuda.amp.GradScaler is enabled, but CUDA is not available.  Disabling.\n",
      "  warnings.warn(\n"
     ]
    },
    {
     "name": "stderr",
     "output_type": "stream",
     "text": [
      "/home/ldinh/perso/.venv/lib64/python3.12/site-packages/fastai/callback/fp16.py:47: FutureWarning: `torch.cuda.amp.autocast(args...)` is deprecated. Please use `torch.amp.autocast('cuda', args...)` instead.\n",
      "  self.autocast,self.learn.scaler,self.scales = autocast(dtype=dtype),GradScaler(**self.kwargs),L()\n",
      "/home/ldinh/perso/.venv/lib64/python3.12/site-packages/torch/amp/autocast_mode.py:266: UserWarning: User provided device_type of 'cuda', but CUDA is not available. Disabling\n",
      "  warnings.warn(\n",
      "/home/ldinh/perso/.venv/lib64/python3.12/site-packages/fastai/callback/fp16.py:47: FutureWarning: `torch.cuda.amp.GradScaler(args...)` is deprecated. Please use `torch.amp.GradScaler('cuda', args...)` instead.\n",
      "  self.autocast,self.learn.scaler,self.scales = autocast(dtype=dtype),GradScaler(**self.kwargs),L()\n",
      "/home/ldinh/perso/.venv/lib64/python3.12/site-packages/torch/amp/grad_scaler.py:136: UserWarning: torch.cuda.amp.GradScaler is enabled, but CUDA is not available.  Disabling.\n",
      "  warnings.warn(\n",
      "/home/ldinh/perso/.venv/lib64/python3.12/site-packages/fastai/callback/fp16.py:47: FutureWarning: `torch.cuda.amp.autocast(args...)` is deprecated. Please use `torch.amp.autocast('cuda', args...)` instead.\n",
      "  self.autocast,self.learn.scaler,self.scales = autocast(dtype=dtype),GradScaler(**self.kwargs),L()\n",
      "/home/ldinh/perso/.venv/lib64/python3.12/site-packages/torch/amp/autocast_mode.py:266: UserWarning: User provided device_type of 'cuda', but CUDA is not available. Disabling\n",
      "  warnings.warn(\n",
      "/home/ldinh/perso/.venv/lib64/python3.12/site-packages/fastai/callback/fp16.py:47: FutureWarning: `torch.cuda.amp.GradScaler(args...)` is deprecated. Please use `torch.amp.GradScaler('cuda', args...)` instead.\n",
      "  self.autocast,self.learn.scaler,self.scales = autocast(dtype=dtype),GradScaler(**self.kwargs),L()\n",
      "/home/ldinh/perso/.venv/lib64/python3.12/site-packages/torch/amp/grad_scaler.py:136: UserWarning: torch.cuda.amp.GradScaler is enabled, but CUDA is not available.  Disabling.\n",
      "  warnings.warn(\n",
      "/home/ldinh/perso/.venv/lib64/python3.12/site-packages/fastai/callback/fp16.py:47: FutureWarning: `torch.cuda.amp.autocast(args...)` is deprecated. Please use `torch.amp.autocast('cuda', args...)` instead.\n",
      "  self.autocast,self.learn.scaler,self.scales = autocast(dtype=dtype),GradScaler(**self.kwargs),L()\n",
      "/home/ldinh/perso/.venv/lib64/python3.12/site-packages/torch/amp/autocast_mode.py:266: UserWarning: User provided device_type of 'cuda', but CUDA is not available. Disabling\n",
      "  warnings.warn(\n",
      "/home/ldinh/perso/.venv/lib64/python3.12/site-packages/fastai/callback/fp16.py:47: FutureWarning: `torch.cuda.amp.GradScaler(args...)` is deprecated. Please use `torch.amp.GradScaler('cuda', args...)` instead.\n",
      "  self.autocast,self.learn.scaler,self.scales = autocast(dtype=dtype),GradScaler(**self.kwargs),L()\n",
      "/home/ldinh/perso/.venv/lib64/python3.12/site-packages/torch/amp/grad_scaler.py:136: UserWarning: torch.cuda.amp.GradScaler is enabled, but CUDA is not available.  Disabling.\n",
      "  warnings.warn(\n"
     ]
    },
    {
     "name": "stderr",
     "output_type": "stream",
     "text": [
      "/home/ldinh/perso/.venv/lib64/python3.12/site-packages/fastai/callback/fp16.py:47: FutureWarning: `torch.cuda.amp.autocast(args...)` is deprecated. Please use `torch.amp.autocast('cuda', args...)` instead.\n",
      "  self.autocast,self.learn.scaler,self.scales = autocast(dtype=dtype),GradScaler(**self.kwargs),L()\n",
      "/home/ldinh/perso/.venv/lib64/python3.12/site-packages/torch/amp/autocast_mode.py:266: UserWarning: User provided device_type of 'cuda', but CUDA is not available. Disabling\n",
      "  warnings.warn(\n",
      "/home/ldinh/perso/.venv/lib64/python3.12/site-packages/fastai/callback/fp16.py:47: FutureWarning: `torch.cuda.amp.GradScaler(args...)` is deprecated. Please use `torch.amp.GradScaler('cuda', args...)` instead.\n",
      "  self.autocast,self.learn.scaler,self.scales = autocast(dtype=dtype),GradScaler(**self.kwargs),L()\n",
      "/home/ldinh/perso/.venv/lib64/python3.12/site-packages/torch/amp/grad_scaler.py:136: UserWarning: torch.cuda.amp.GradScaler is enabled, but CUDA is not available.  Disabling.\n",
      "  warnings.warn(\n",
      "/home/ldinh/perso/.venv/lib64/python3.12/site-packages/fastai/callback/fp16.py:47: FutureWarning: `torch.cuda.amp.autocast(args...)` is deprecated. Please use `torch.amp.autocast('cuda', args...)` instead.\n",
      "  self.autocast,self.learn.scaler,self.scales = autocast(dtype=dtype),GradScaler(**self.kwargs),L()\n",
      "/home/ldinh/perso/.venv/lib64/python3.12/site-packages/torch/amp/autocast_mode.py:266: UserWarning: User provided device_type of 'cuda', but CUDA is not available. Disabling\n",
      "  warnings.warn(\n",
      "/home/ldinh/perso/.venv/lib64/python3.12/site-packages/fastai/callback/fp16.py:47: FutureWarning: `torch.cuda.amp.GradScaler(args...)` is deprecated. Please use `torch.amp.GradScaler('cuda', args...)` instead.\n",
      "  self.autocast,self.learn.scaler,self.scales = autocast(dtype=dtype),GradScaler(**self.kwargs),L()\n",
      "/home/ldinh/perso/.venv/lib64/python3.12/site-packages/torch/amp/grad_scaler.py:136: UserWarning: torch.cuda.amp.GradScaler is enabled, but CUDA is not available.  Disabling.\n",
      "  warnings.warn(\n",
      "/home/ldinh/perso/.venv/lib64/python3.12/site-packages/fastai/callback/fp16.py:47: FutureWarning: `torch.cuda.amp.autocast(args...)` is deprecated. Please use `torch.amp.autocast('cuda', args...)` instead.\n",
      "  self.autocast,self.learn.scaler,self.scales = autocast(dtype=dtype),GradScaler(**self.kwargs),L()\n",
      "/home/ldinh/perso/.venv/lib64/python3.12/site-packages/torch/amp/autocast_mode.py:266: UserWarning: User provided device_type of 'cuda', but CUDA is not available. Disabling\n",
      "  warnings.warn(\n",
      "/home/ldinh/perso/.venv/lib64/python3.12/site-packages/fastai/callback/fp16.py:47: FutureWarning: `torch.cuda.amp.GradScaler(args...)` is deprecated. Please use `torch.amp.GradScaler('cuda', args...)` instead.\n",
      "  self.autocast,self.learn.scaler,self.scales = autocast(dtype=dtype),GradScaler(**self.kwargs),L()\n",
      "/home/ldinh/perso/.venv/lib64/python3.12/site-packages/torch/amp/grad_scaler.py:136: UserWarning: torch.cuda.amp.GradScaler is enabled, but CUDA is not available.  Disabling.\n",
      "  warnings.warn(\n",
      "/home/ldinh/perso/.venv/lib64/python3.12/site-packages/fastai/callback/fp16.py:47: FutureWarning: `torch.cuda.amp.autocast(args...)` is deprecated. Please use `torch.amp.autocast('cuda', args...)` instead.\n",
      "  self.autocast,self.learn.scaler,self.scales = autocast(dtype=dtype),GradScaler(**self.kwargs),L()\n",
      "/home/ldinh/perso/.venv/lib64/python3.12/site-packages/torch/amp/autocast_mode.py:266: UserWarning: User provided device_type of 'cuda', but CUDA is not available. Disabling\n",
      "  warnings.warn(\n",
      "/home/ldinh/perso/.venv/lib64/python3.12/site-packages/fastai/callback/fp16.py:47: FutureWarning: `torch.cuda.amp.GradScaler(args...)` is deprecated. Please use `torch.amp.GradScaler('cuda', args...)` instead.\n",
      "  self.autocast,self.learn.scaler,self.scales = autocast(dtype=dtype),GradScaler(**self.kwargs),L()\n",
      "/home/ldinh/perso/.venv/lib64/python3.12/site-packages/torch/amp/grad_scaler.py:136: UserWarning: torch.cuda.amp.GradScaler is enabled, but CUDA is not available.  Disabling.\n",
      "  warnings.warn(\n"
     ]
    },
    {
     "name": "stderr",
     "output_type": "stream",
     "text": [
      "/home/ldinh/perso/.venv/lib64/python3.12/site-packages/fastai/callback/fp16.py:47: FutureWarning: `torch.cuda.amp.autocast(args...)` is deprecated. Please use `torch.amp.autocast('cuda', args...)` instead.\n",
      "  self.autocast,self.learn.scaler,self.scales = autocast(dtype=dtype),GradScaler(**self.kwargs),L()\n",
      "/home/ldinh/perso/.venv/lib64/python3.12/site-packages/torch/amp/autocast_mode.py:266: UserWarning: User provided device_type of 'cuda', but CUDA is not available. Disabling\n",
      "  warnings.warn(\n",
      "/home/ldinh/perso/.venv/lib64/python3.12/site-packages/fastai/callback/fp16.py:47: FutureWarning: `torch.cuda.amp.GradScaler(args...)` is deprecated. Please use `torch.amp.GradScaler('cuda', args...)` instead.\n",
      "  self.autocast,self.learn.scaler,self.scales = autocast(dtype=dtype),GradScaler(**self.kwargs),L()\n",
      "/home/ldinh/perso/.venv/lib64/python3.12/site-packages/torch/amp/grad_scaler.py:136: UserWarning: torch.cuda.amp.GradScaler is enabled, but CUDA is not available.  Disabling.\n",
      "  warnings.warn(\n"
     ]
    },
    {
     "name": "stderr",
     "output_type": "stream",
     "text": [
      "/home/ldinh/perso/.venv/lib64/python3.12/site-packages/fastai/callback/fp16.py:47: FutureWarning: `torch.cuda.amp.autocast(args...)` is deprecated. Please use `torch.amp.autocast('cuda', args...)` instead.\n",
      "  self.autocast,self.learn.scaler,self.scales = autocast(dtype=dtype),GradScaler(**self.kwargs),L()\n",
      "/home/ldinh/perso/.venv/lib64/python3.12/site-packages/torch/amp/autocast_mode.py:266: UserWarning: User provided device_type of 'cuda', but CUDA is not available. Disabling\n",
      "  warnings.warn(\n",
      "/home/ldinh/perso/.venv/lib64/python3.12/site-packages/fastai/callback/fp16.py:47: FutureWarning: `torch.cuda.amp.GradScaler(args...)` is deprecated. Please use `torch.amp.GradScaler('cuda', args...)` instead.\n",
      "  self.autocast,self.learn.scaler,self.scales = autocast(dtype=dtype),GradScaler(**self.kwargs),L()\n",
      "/home/ldinh/perso/.venv/lib64/python3.12/site-packages/torch/amp/grad_scaler.py:136: UserWarning: torch.cuda.amp.GradScaler is enabled, but CUDA is not available.  Disabling.\n",
      "  warnings.warn(\n"
     ]
    },
    {
     "name": "stderr",
     "output_type": "stream",
     "text": [
      "/home/ldinh/perso/.venv/lib64/python3.12/site-packages/fastai/callback/fp16.py:47: FutureWarning: `torch.cuda.amp.autocast(args...)` is deprecated. Please use `torch.amp.autocast('cuda', args...)` instead.\n",
      "  self.autocast,self.learn.scaler,self.scales = autocast(dtype=dtype),GradScaler(**self.kwargs),L()\n",
      "/home/ldinh/perso/.venv/lib64/python3.12/site-packages/torch/amp/autocast_mode.py:266: UserWarning: User provided device_type of 'cuda', but CUDA is not available. Disabling\n",
      "  warnings.warn(\n",
      "/home/ldinh/perso/.venv/lib64/python3.12/site-packages/fastai/callback/fp16.py:47: FutureWarning: `torch.cuda.amp.GradScaler(args...)` is deprecated. Please use `torch.amp.GradScaler('cuda', args...)` instead.\n",
      "  self.autocast,self.learn.scaler,self.scales = autocast(dtype=dtype),GradScaler(**self.kwargs),L()\n",
      "/home/ldinh/perso/.venv/lib64/python3.12/site-packages/torch/amp/grad_scaler.py:136: UserWarning: torch.cuda.amp.GradScaler is enabled, but CUDA is not available.  Disabling.\n",
      "  warnings.warn(\n"
     ]
    },
    {
     "name": "stderr",
     "output_type": "stream",
     "text": [
      "/home/ldinh/perso/.venv/lib64/python3.12/site-packages/fastai/callback/fp16.py:47: FutureWarning: `torch.cuda.amp.autocast(args...)` is deprecated. Please use `torch.amp.autocast('cuda', args...)` instead.\n",
      "  self.autocast,self.learn.scaler,self.scales = autocast(dtype=dtype),GradScaler(**self.kwargs),L()\n",
      "/home/ldinh/perso/.venv/lib64/python3.12/site-packages/torch/amp/autocast_mode.py:266: UserWarning: User provided device_type of 'cuda', but CUDA is not available. Disabling\n",
      "  warnings.warn(\n",
      "/home/ldinh/perso/.venv/lib64/python3.12/site-packages/fastai/callback/fp16.py:47: FutureWarning: `torch.cuda.amp.GradScaler(args...)` is deprecated. Please use `torch.amp.GradScaler('cuda', args...)` instead.\n",
      "  self.autocast,self.learn.scaler,self.scales = autocast(dtype=dtype),GradScaler(**self.kwargs),L()\n",
      "/home/ldinh/perso/.venv/lib64/python3.12/site-packages/torch/amp/grad_scaler.py:136: UserWarning: torch.cuda.amp.GradScaler is enabled, but CUDA is not available.  Disabling.\n",
      "  warnings.warn(\n"
     ]
    },
    {
     "name": "stderr",
     "output_type": "stream",
     "text": [
      "/home/ldinh/perso/.venv/lib64/python3.12/site-packages/fastai/callback/fp16.py:47: FutureWarning: `torch.cuda.amp.autocast(args...)` is deprecated. Please use `torch.amp.autocast('cuda', args...)` instead.\n",
      "  self.autocast,self.learn.scaler,self.scales = autocast(dtype=dtype),GradScaler(**self.kwargs),L()\n",
      "/home/ldinh/perso/.venv/lib64/python3.12/site-packages/torch/amp/autocast_mode.py:266: UserWarning: User provided device_type of 'cuda', but CUDA is not available. Disabling\n",
      "  warnings.warn(\n",
      "/home/ldinh/perso/.venv/lib64/python3.12/site-packages/fastai/callback/fp16.py:47: FutureWarning: `torch.cuda.amp.GradScaler(args...)` is deprecated. Please use `torch.amp.GradScaler('cuda', args...)` instead.\n",
      "  self.autocast,self.learn.scaler,self.scales = autocast(dtype=dtype),GradScaler(**self.kwargs),L()\n",
      "/home/ldinh/perso/.venv/lib64/python3.12/site-packages/torch/amp/grad_scaler.py:136: UserWarning: torch.cuda.amp.GradScaler is enabled, but CUDA is not available.  Disabling.\n",
      "  warnings.warn(\n"
     ]
    },
    {
     "name": "stderr",
     "output_type": "stream",
     "text": [
      "/home/ldinh/perso/.venv/lib64/python3.12/site-packages/fastai/callback/fp16.py:47: FutureWarning: `torch.cuda.amp.autocast(args...)` is deprecated. Please use `torch.amp.autocast('cuda', args...)` instead.\n",
      "  self.autocast,self.learn.scaler,self.scales = autocast(dtype=dtype),GradScaler(**self.kwargs),L()\n",
      "/home/ldinh/perso/.venv/lib64/python3.12/site-packages/torch/amp/autocast_mode.py:266: UserWarning: User provided device_type of 'cuda', but CUDA is not available. Disabling\n",
      "  warnings.warn(\n",
      "/home/ldinh/perso/.venv/lib64/python3.12/site-packages/fastai/callback/fp16.py:47: FutureWarning: `torch.cuda.amp.GradScaler(args...)` is deprecated. Please use `torch.amp.GradScaler('cuda', args...)` instead.\n",
      "  self.autocast,self.learn.scaler,self.scales = autocast(dtype=dtype),GradScaler(**self.kwargs),L()\n",
      "/home/ldinh/perso/.venv/lib64/python3.12/site-packages/torch/amp/grad_scaler.py:136: UserWarning: torch.cuda.amp.GradScaler is enabled, but CUDA is not available.  Disabling.\n",
      "  warnings.warn(\n",
      "/home/ldinh/perso/.venv/lib64/python3.12/site-packages/fastai/callback/fp16.py:47: FutureWarning: `torch.cuda.amp.autocast(args...)` is deprecated. Please use `torch.amp.autocast('cuda', args...)` instead.\n",
      "  self.autocast,self.learn.scaler,self.scales = autocast(dtype=dtype),GradScaler(**self.kwargs),L()\n",
      "/home/ldinh/perso/.venv/lib64/python3.12/site-packages/torch/amp/autocast_mode.py:266: UserWarning: User provided device_type of 'cuda', but CUDA is not available. Disabling\n",
      "  warnings.warn(\n",
      "/home/ldinh/perso/.venv/lib64/python3.12/site-packages/fastai/callback/fp16.py:47: FutureWarning: `torch.cuda.amp.GradScaler(args...)` is deprecated. Please use `torch.amp.GradScaler('cuda', args...)` instead.\n",
      "  self.autocast,self.learn.scaler,self.scales = autocast(dtype=dtype),GradScaler(**self.kwargs),L()\n",
      "/home/ldinh/perso/.venv/lib64/python3.12/site-packages/torch/amp/grad_scaler.py:136: UserWarning: torch.cuda.amp.GradScaler is enabled, but CUDA is not available.  Disabling.\n",
      "  warnings.warn(\n",
      "/home/ldinh/perso/.venv/lib64/python3.12/site-packages/fastai/callback/fp16.py:47: FutureWarning: `torch.cuda.amp.autocast(args...)` is deprecated. Please use `torch.amp.autocast('cuda', args...)` instead.\n",
      "  self.autocast,self.learn.scaler,self.scales = autocast(dtype=dtype),GradScaler(**self.kwargs),L()\n",
      "/home/ldinh/perso/.venv/lib64/python3.12/site-packages/torch/amp/autocast_mode.py:266: UserWarning: User provided device_type of 'cuda', but CUDA is not available. Disabling\n",
      "  warnings.warn(\n",
      "/home/ldinh/perso/.venv/lib64/python3.12/site-packages/fastai/callback/fp16.py:47: FutureWarning: `torch.cuda.amp.GradScaler(args...)` is deprecated. Please use `torch.amp.GradScaler('cuda', args...)` instead.\n",
      "  self.autocast,self.learn.scaler,self.scales = autocast(dtype=dtype),GradScaler(**self.kwargs),L()\n",
      "/home/ldinh/perso/.venv/lib64/python3.12/site-packages/torch/amp/grad_scaler.py:136: UserWarning: torch.cuda.amp.GradScaler is enabled, but CUDA is not available.  Disabling.\n",
      "  warnings.warn(\n"
     ]
    },
    {
     "name": "stderr",
     "output_type": "stream",
     "text": [
      "/home/ldinh/perso/.venv/lib64/python3.12/site-packages/fastai/callback/fp16.py:47: FutureWarning: `torch.cuda.amp.autocast(args...)` is deprecated. Please use `torch.amp.autocast('cuda', args...)` instead.\n",
      "  self.autocast,self.learn.scaler,self.scales = autocast(dtype=dtype),GradScaler(**self.kwargs),L()\n",
      "/home/ldinh/perso/.venv/lib64/python3.12/site-packages/torch/amp/autocast_mode.py:266: UserWarning: User provided device_type of 'cuda', but CUDA is not available. Disabling\n",
      "  warnings.warn(\n",
      "/home/ldinh/perso/.venv/lib64/python3.12/site-packages/fastai/callback/fp16.py:47: FutureWarning: `torch.cuda.amp.GradScaler(args...)` is deprecated. Please use `torch.amp.GradScaler('cuda', args...)` instead.\n",
      "  self.autocast,self.learn.scaler,self.scales = autocast(dtype=dtype),GradScaler(**self.kwargs),L()\n",
      "/home/ldinh/perso/.venv/lib64/python3.12/site-packages/torch/amp/grad_scaler.py:136: UserWarning: torch.cuda.amp.GradScaler is enabled, but CUDA is not available.  Disabling.\n",
      "  warnings.warn(\n",
      "/home/ldinh/perso/.venv/lib64/python3.12/site-packages/fastai/callback/fp16.py:47: FutureWarning: `torch.cuda.amp.autocast(args...)` is deprecated. Please use `torch.amp.autocast('cuda', args...)` instead.\n",
      "  self.autocast,self.learn.scaler,self.scales = autocast(dtype=dtype),GradScaler(**self.kwargs),L()\n",
      "/home/ldinh/perso/.venv/lib64/python3.12/site-packages/torch/amp/autocast_mode.py:266: UserWarning: User provided device_type of 'cuda', but CUDA is not available. Disabling\n",
      "  warnings.warn(\n",
      "/home/ldinh/perso/.venv/lib64/python3.12/site-packages/fastai/callback/fp16.py:47: FutureWarning: `torch.cuda.amp.GradScaler(args...)` is deprecated. Please use `torch.amp.GradScaler('cuda', args...)` instead.\n",
      "  self.autocast,self.learn.scaler,self.scales = autocast(dtype=dtype),GradScaler(**self.kwargs),L()\n",
      "/home/ldinh/perso/.venv/lib64/python3.12/site-packages/torch/amp/grad_scaler.py:136: UserWarning: torch.cuda.amp.GradScaler is enabled, but CUDA is not available.  Disabling.\n",
      "  warnings.warn(\n",
      "/home/ldinh/perso/.venv/lib64/python3.12/site-packages/fastai/callback/fp16.py:47: FutureWarning: `torch.cuda.amp.autocast(args...)` is deprecated. Please use `torch.amp.autocast('cuda', args...)` instead.\n",
      "  self.autocast,self.learn.scaler,self.scales = autocast(dtype=dtype),GradScaler(**self.kwargs),L()\n",
      "/home/ldinh/perso/.venv/lib64/python3.12/site-packages/torch/amp/autocast_mode.py:266: UserWarning: User provided device_type of 'cuda', but CUDA is not available. Disabling\n",
      "  warnings.warn(\n",
      "/home/ldinh/perso/.venv/lib64/python3.12/site-packages/fastai/callback/fp16.py:47: FutureWarning: `torch.cuda.amp.GradScaler(args...)` is deprecated. Please use `torch.amp.GradScaler('cuda', args...)` instead.\n",
      "  self.autocast,self.learn.scaler,self.scales = autocast(dtype=dtype),GradScaler(**self.kwargs),L()\n",
      "/home/ldinh/perso/.venv/lib64/python3.12/site-packages/torch/amp/grad_scaler.py:136: UserWarning: torch.cuda.amp.GradScaler is enabled, but CUDA is not available.  Disabling.\n",
      "  warnings.warn(\n"
     ]
    },
    {
     "name": "stderr",
     "output_type": "stream",
     "text": [
      "/home/ldinh/perso/.venv/lib64/python3.12/site-packages/fastai/callback/fp16.py:47: FutureWarning: `torch.cuda.amp.autocast(args...)` is deprecated. Please use `torch.amp.autocast('cuda', args...)` instead.\n",
      "  self.autocast,self.learn.scaler,self.scales = autocast(dtype=dtype),GradScaler(**self.kwargs),L()\n",
      "/home/ldinh/perso/.venv/lib64/python3.12/site-packages/torch/amp/autocast_mode.py:266: UserWarning: User provided device_type of 'cuda', but CUDA is not available. Disabling\n",
      "  warnings.warn(\n",
      "/home/ldinh/perso/.venv/lib64/python3.12/site-packages/fastai/callback/fp16.py:47: FutureWarning: `torch.cuda.amp.GradScaler(args...)` is deprecated. Please use `torch.amp.GradScaler('cuda', args...)` instead.\n",
      "  self.autocast,self.learn.scaler,self.scales = autocast(dtype=dtype),GradScaler(**self.kwargs),L()\n",
      "/home/ldinh/perso/.venv/lib64/python3.12/site-packages/torch/amp/grad_scaler.py:136: UserWarning: torch.cuda.amp.GradScaler is enabled, but CUDA is not available.  Disabling.\n",
      "  warnings.warn(\n"
     ]
    },
    {
     "name": "stderr",
     "output_type": "stream",
     "text": [
      "/home/ldinh/perso/.venv/lib64/python3.12/site-packages/fastai/callback/fp16.py:47: FutureWarning: `torch.cuda.amp.autocast(args...)` is deprecated. Please use `torch.amp.autocast('cuda', args...)` instead.\n",
      "  self.autocast,self.learn.scaler,self.scales = autocast(dtype=dtype),GradScaler(**self.kwargs),L()\n",
      "/home/ldinh/perso/.venv/lib64/python3.12/site-packages/torch/amp/autocast_mode.py:266: UserWarning: User provided device_type of 'cuda', but CUDA is not available. Disabling\n",
      "  warnings.warn(\n",
      "/home/ldinh/perso/.venv/lib64/python3.12/site-packages/fastai/callback/fp16.py:47: FutureWarning: `torch.cuda.amp.GradScaler(args...)` is deprecated. Please use `torch.amp.GradScaler('cuda', args...)` instead.\n",
      "  self.autocast,self.learn.scaler,self.scales = autocast(dtype=dtype),GradScaler(**self.kwargs),L()\n",
      "/home/ldinh/perso/.venv/lib64/python3.12/site-packages/torch/amp/grad_scaler.py:136: UserWarning: torch.cuda.amp.GradScaler is enabled, but CUDA is not available.  Disabling.\n",
      "  warnings.warn(\n"
     ]
    },
    {
     "name": "stderr",
     "output_type": "stream",
     "text": [
      "/home/ldinh/perso/.venv/lib64/python3.12/site-packages/fastai/callback/fp16.py:47: FutureWarning: `torch.cuda.amp.autocast(args...)` is deprecated. Please use `torch.amp.autocast('cuda', args...)` instead.\n",
      "  self.autocast,self.learn.scaler,self.scales = autocast(dtype=dtype),GradScaler(**self.kwargs),L()\n",
      "/home/ldinh/perso/.venv/lib64/python3.12/site-packages/torch/amp/autocast_mode.py:266: UserWarning: User provided device_type of 'cuda', but CUDA is not available. Disabling\n",
      "  warnings.warn(\n",
      "/home/ldinh/perso/.venv/lib64/python3.12/site-packages/fastai/callback/fp16.py:47: FutureWarning: `torch.cuda.amp.GradScaler(args...)` is deprecated. Please use `torch.amp.GradScaler('cuda', args...)` instead.\n",
      "  self.autocast,self.learn.scaler,self.scales = autocast(dtype=dtype),GradScaler(**self.kwargs),L()\n",
      "/home/ldinh/perso/.venv/lib64/python3.12/site-packages/torch/amp/grad_scaler.py:136: UserWarning: torch.cuda.amp.GradScaler is enabled, but CUDA is not available.  Disabling.\n",
      "  warnings.warn(\n"
     ]
    },
    {
     "name": "stderr",
     "output_type": "stream",
     "text": [
      "/home/ldinh/perso/.venv/lib64/python3.12/site-packages/fastai/callback/fp16.py:47: FutureWarning: `torch.cuda.amp.autocast(args...)` is deprecated. Please use `torch.amp.autocast('cuda', args...)` instead.\n",
      "  self.autocast,self.learn.scaler,self.scales = autocast(dtype=dtype),GradScaler(**self.kwargs),L()\n",
      "/home/ldinh/perso/.venv/lib64/python3.12/site-packages/torch/amp/autocast_mode.py:266: UserWarning: User provided device_type of 'cuda', but CUDA is not available. Disabling\n",
      "  warnings.warn(\n",
      "/home/ldinh/perso/.venv/lib64/python3.12/site-packages/fastai/callback/fp16.py:47: FutureWarning: `torch.cuda.amp.GradScaler(args...)` is deprecated. Please use `torch.amp.GradScaler('cuda', args...)` instead.\n",
      "  self.autocast,self.learn.scaler,self.scales = autocast(dtype=dtype),GradScaler(**self.kwargs),L()\n",
      "/home/ldinh/perso/.venv/lib64/python3.12/site-packages/torch/amp/grad_scaler.py:136: UserWarning: torch.cuda.amp.GradScaler is enabled, but CUDA is not available.  Disabling.\n",
      "  warnings.warn(\n"
     ]
    },
    {
     "name": "stderr",
     "output_type": "stream",
     "text": [
      "/home/ldinh/perso/.venv/lib64/python3.12/site-packages/fastai/callback/fp16.py:47: FutureWarning: `torch.cuda.amp.autocast(args...)` is deprecated. Please use `torch.amp.autocast('cuda', args...)` instead.\n",
      "  self.autocast,self.learn.scaler,self.scales = autocast(dtype=dtype),GradScaler(**self.kwargs),L()\n",
      "/home/ldinh/perso/.venv/lib64/python3.12/site-packages/torch/amp/autocast_mode.py:266: UserWarning: User provided device_type of 'cuda', but CUDA is not available. Disabling\n",
      "  warnings.warn(\n",
      "/home/ldinh/perso/.venv/lib64/python3.12/site-packages/fastai/callback/fp16.py:47: FutureWarning: `torch.cuda.amp.GradScaler(args...)` is deprecated. Please use `torch.amp.GradScaler('cuda', args...)` instead.\n",
      "  self.autocast,self.learn.scaler,self.scales = autocast(dtype=dtype),GradScaler(**self.kwargs),L()\n",
      "/home/ldinh/perso/.venv/lib64/python3.12/site-packages/torch/amp/grad_scaler.py:136: UserWarning: torch.cuda.amp.GradScaler is enabled, but CUDA is not available.  Disabling.\n",
      "  warnings.warn(\n"
     ]
    },
    {
     "name": "stderr",
     "output_type": "stream",
     "text": [
      "/home/ldinh/perso/.venv/lib64/python3.12/site-packages/fastai/callback/fp16.py:47: FutureWarning: `torch.cuda.amp.autocast(args...)` is deprecated. Please use `torch.amp.autocast('cuda', args...)` instead.\n",
      "  self.autocast,self.learn.scaler,self.scales = autocast(dtype=dtype),GradScaler(**self.kwargs),L()\n",
      "/home/ldinh/perso/.venv/lib64/python3.12/site-packages/torch/amp/autocast_mode.py:266: UserWarning: User provided device_type of 'cuda', but CUDA is not available. Disabling\n",
      "  warnings.warn(\n",
      "/home/ldinh/perso/.venv/lib64/python3.12/site-packages/fastai/callback/fp16.py:47: FutureWarning: `torch.cuda.amp.GradScaler(args...)` is deprecated. Please use `torch.amp.GradScaler('cuda', args...)` instead.\n",
      "  self.autocast,self.learn.scaler,self.scales = autocast(dtype=dtype),GradScaler(**self.kwargs),L()\n",
      "/home/ldinh/perso/.venv/lib64/python3.12/site-packages/torch/amp/grad_scaler.py:136: UserWarning: torch.cuda.amp.GradScaler is enabled, but CUDA is not available.  Disabling.\n",
      "  warnings.warn(\n"
     ]
    },
    {
     "name": "stderr",
     "output_type": "stream",
     "text": [
      "/home/ldinh/perso/.venv/lib64/python3.12/site-packages/fastai/callback/fp16.py:47: FutureWarning: `torch.cuda.amp.autocast(args...)` is deprecated. Please use `torch.amp.autocast('cuda', args...)` instead.\n",
      "  self.autocast,self.learn.scaler,self.scales = autocast(dtype=dtype),GradScaler(**self.kwargs),L()\n",
      "/home/ldinh/perso/.venv/lib64/python3.12/site-packages/torch/amp/autocast_mode.py:266: UserWarning: User provided device_type of 'cuda', but CUDA is not available. Disabling\n",
      "  warnings.warn(\n",
      "/home/ldinh/perso/.venv/lib64/python3.12/site-packages/fastai/callback/fp16.py:47: FutureWarning: `torch.cuda.amp.GradScaler(args...)` is deprecated. Please use `torch.amp.GradScaler('cuda', args...)` instead.\n",
      "  self.autocast,self.learn.scaler,self.scales = autocast(dtype=dtype),GradScaler(**self.kwargs),L()\n",
      "/home/ldinh/perso/.venv/lib64/python3.12/site-packages/torch/amp/grad_scaler.py:136: UserWarning: torch.cuda.amp.GradScaler is enabled, but CUDA is not available.  Disabling.\n",
      "  warnings.warn(\n",
      "/home/ldinh/perso/.venv/lib64/python3.12/site-packages/fastai/callback/fp16.py:47: FutureWarning: `torch.cuda.amp.autocast(args...)` is deprecated. Please use `torch.amp.autocast('cuda', args...)` instead.\n",
      "  self.autocast,self.learn.scaler,self.scales = autocast(dtype=dtype),GradScaler(**self.kwargs),L()\n",
      "/home/ldinh/perso/.venv/lib64/python3.12/site-packages/torch/amp/autocast_mode.py:266: UserWarning: User provided device_type of 'cuda', but CUDA is not available. Disabling\n",
      "  warnings.warn(\n",
      "/home/ldinh/perso/.venv/lib64/python3.12/site-packages/fastai/callback/fp16.py:47: FutureWarning: `torch.cuda.amp.GradScaler(args...)` is deprecated. Please use `torch.amp.GradScaler('cuda', args...)` instead.\n",
      "  self.autocast,self.learn.scaler,self.scales = autocast(dtype=dtype),GradScaler(**self.kwargs),L()\n",
      "/home/ldinh/perso/.venv/lib64/python3.12/site-packages/torch/amp/grad_scaler.py:136: UserWarning: torch.cuda.amp.GradScaler is enabled, but CUDA is not available.  Disabling.\n",
      "  warnings.warn(\n"
     ]
    },
    {
     "name": "stderr",
     "output_type": "stream",
     "text": [
      "/home/ldinh/perso/.venv/lib64/python3.12/site-packages/fastai/callback/fp16.py:47: FutureWarning: `torch.cuda.amp.autocast(args...)` is deprecated. Please use `torch.amp.autocast('cuda', args...)` instead.\n",
      "  self.autocast,self.learn.scaler,self.scales = autocast(dtype=dtype),GradScaler(**self.kwargs),L()\n",
      "/home/ldinh/perso/.venv/lib64/python3.12/site-packages/torch/amp/autocast_mode.py:266: UserWarning: User provided device_type of 'cuda', but CUDA is not available. Disabling\n",
      "  warnings.warn(\n",
      "/home/ldinh/perso/.venv/lib64/python3.12/site-packages/fastai/callback/fp16.py:47: FutureWarning: `torch.cuda.amp.GradScaler(args...)` is deprecated. Please use `torch.amp.GradScaler('cuda', args...)` instead.\n",
      "  self.autocast,self.learn.scaler,self.scales = autocast(dtype=dtype),GradScaler(**self.kwargs),L()\n",
      "/home/ldinh/perso/.venv/lib64/python3.12/site-packages/torch/amp/grad_scaler.py:136: UserWarning: torch.cuda.amp.GradScaler is enabled, but CUDA is not available.  Disabling.\n",
      "  warnings.warn(\n",
      "/home/ldinh/perso/.venv/lib64/python3.12/site-packages/fastai/callback/fp16.py:47: FutureWarning: `torch.cuda.amp.autocast(args...)` is deprecated. Please use `torch.amp.autocast('cuda', args...)` instead.\n",
      "  self.autocast,self.learn.scaler,self.scales = autocast(dtype=dtype),GradScaler(**self.kwargs),L()\n",
      "/home/ldinh/perso/.venv/lib64/python3.12/site-packages/torch/amp/autocast_mode.py:266: UserWarning: User provided device_type of 'cuda', but CUDA is not available. Disabling\n",
      "  warnings.warn(\n",
      "/home/ldinh/perso/.venv/lib64/python3.12/site-packages/fastai/callback/fp16.py:47: FutureWarning: `torch.cuda.amp.GradScaler(args...)` is deprecated. Please use `torch.amp.GradScaler('cuda', args...)` instead.\n",
      "  self.autocast,self.learn.scaler,self.scales = autocast(dtype=dtype),GradScaler(**self.kwargs),L()\n",
      "/home/ldinh/perso/.venv/lib64/python3.12/site-packages/torch/amp/grad_scaler.py:136: UserWarning: torch.cuda.amp.GradScaler is enabled, but CUDA is not available.  Disabling.\n",
      "  warnings.warn(\n",
      "/home/ldinh/perso/.venv/lib64/python3.12/site-packages/fastai/callback/fp16.py:47: FutureWarning: `torch.cuda.amp.autocast(args...)` is deprecated. Please use `torch.amp.autocast('cuda', args...)` instead.\n",
      "  self.autocast,self.learn.scaler,self.scales = autocast(dtype=dtype),GradScaler(**self.kwargs),L()\n",
      "/home/ldinh/perso/.venv/lib64/python3.12/site-packages/torch/amp/autocast_mode.py:266: UserWarning: User provided device_type of 'cuda', but CUDA is not available. Disabling\n",
      "  warnings.warn(\n",
      "/home/ldinh/perso/.venv/lib64/python3.12/site-packages/fastai/callback/fp16.py:47: FutureWarning: `torch.cuda.amp.GradScaler(args...)` is deprecated. Please use `torch.amp.GradScaler('cuda', args...)` instead.\n",
      "  self.autocast,self.learn.scaler,self.scales = autocast(dtype=dtype),GradScaler(**self.kwargs),L()\n",
      "/home/ldinh/perso/.venv/lib64/python3.12/site-packages/torch/amp/grad_scaler.py:136: UserWarning: torch.cuda.amp.GradScaler is enabled, but CUDA is not available.  Disabling.\n",
      "  warnings.warn(\n"
     ]
    },
    {
     "name": "stderr",
     "output_type": "stream",
     "text": [
      "/home/ldinh/perso/.venv/lib64/python3.12/site-packages/fastai/callback/fp16.py:47: FutureWarning: `torch.cuda.amp.autocast(args...)` is deprecated. Please use `torch.amp.autocast('cuda', args...)` instead.\n",
      "  self.autocast,self.learn.scaler,self.scales = autocast(dtype=dtype),GradScaler(**self.kwargs),L()\n",
      "/home/ldinh/perso/.venv/lib64/python3.12/site-packages/torch/amp/autocast_mode.py:266: UserWarning: User provided device_type of 'cuda', but CUDA is not available. Disabling\n",
      "  warnings.warn(\n",
      "/home/ldinh/perso/.venv/lib64/python3.12/site-packages/fastai/callback/fp16.py:47: FutureWarning: `torch.cuda.amp.GradScaler(args...)` is deprecated. Please use `torch.amp.GradScaler('cuda', args...)` instead.\n",
      "  self.autocast,self.learn.scaler,self.scales = autocast(dtype=dtype),GradScaler(**self.kwargs),L()\n",
      "/home/ldinh/perso/.venv/lib64/python3.12/site-packages/torch/amp/grad_scaler.py:136: UserWarning: torch.cuda.amp.GradScaler is enabled, but CUDA is not available.  Disabling.\n",
      "  warnings.warn(\n"
     ]
    },
    {
     "name": "stderr",
     "output_type": "stream",
     "text": [
      "/home/ldinh/perso/.venv/lib64/python3.12/site-packages/fastai/callback/fp16.py:47: FutureWarning: `torch.cuda.amp.autocast(args...)` is deprecated. Please use `torch.amp.autocast('cuda', args...)` instead.\n",
      "  self.autocast,self.learn.scaler,self.scales = autocast(dtype=dtype),GradScaler(**self.kwargs),L()\n",
      "/home/ldinh/perso/.venv/lib64/python3.12/site-packages/torch/amp/autocast_mode.py:266: UserWarning: User provided device_type of 'cuda', but CUDA is not available. Disabling\n",
      "  warnings.warn(\n",
      "/home/ldinh/perso/.venv/lib64/python3.12/site-packages/fastai/callback/fp16.py:47: FutureWarning: `torch.cuda.amp.GradScaler(args...)` is deprecated. Please use `torch.amp.GradScaler('cuda', args...)` instead.\n",
      "  self.autocast,self.learn.scaler,self.scales = autocast(dtype=dtype),GradScaler(**self.kwargs),L()\n",
      "/home/ldinh/perso/.venv/lib64/python3.12/site-packages/torch/amp/grad_scaler.py:136: UserWarning: torch.cuda.amp.GradScaler is enabled, but CUDA is not available.  Disabling.\n",
      "  warnings.warn(\n"
     ]
    },
    {
     "name": "stderr",
     "output_type": "stream",
     "text": [
      "/home/ldinh/perso/.venv/lib64/python3.12/site-packages/fastai/callback/fp16.py:47: FutureWarning: `torch.cuda.amp.autocast(args...)` is deprecated. Please use `torch.amp.autocast('cuda', args...)` instead.\n",
      "  self.autocast,self.learn.scaler,self.scales = autocast(dtype=dtype),GradScaler(**self.kwargs),L()\n",
      "/home/ldinh/perso/.venv/lib64/python3.12/site-packages/torch/amp/autocast_mode.py:266: UserWarning: User provided device_type of 'cuda', but CUDA is not available. Disabling\n",
      "  warnings.warn(\n",
      "/home/ldinh/perso/.venv/lib64/python3.12/site-packages/fastai/callback/fp16.py:47: FutureWarning: `torch.cuda.amp.GradScaler(args...)` is deprecated. Please use `torch.amp.GradScaler('cuda', args...)` instead.\n",
      "  self.autocast,self.learn.scaler,self.scales = autocast(dtype=dtype),GradScaler(**self.kwargs),L()\n",
      "/home/ldinh/perso/.venv/lib64/python3.12/site-packages/torch/amp/grad_scaler.py:136: UserWarning: torch.cuda.amp.GradScaler is enabled, but CUDA is not available.  Disabling.\n",
      "  warnings.warn(\n"
     ]
    },
    {
     "name": "stderr",
     "output_type": "stream",
     "text": [
      "/home/ldinh/perso/.venv/lib64/python3.12/site-packages/fastai/callback/fp16.py:47: FutureWarning: `torch.cuda.amp.autocast(args...)` is deprecated. Please use `torch.amp.autocast('cuda', args...)` instead.\n",
      "  self.autocast,self.learn.scaler,self.scales = autocast(dtype=dtype),GradScaler(**self.kwargs),L()\n",
      "/home/ldinh/perso/.venv/lib64/python3.12/site-packages/torch/amp/autocast_mode.py:266: UserWarning: User provided device_type of 'cuda', but CUDA is not available. Disabling\n",
      "  warnings.warn(\n",
      "/home/ldinh/perso/.venv/lib64/python3.12/site-packages/fastai/callback/fp16.py:47: FutureWarning: `torch.cuda.amp.GradScaler(args...)` is deprecated. Please use `torch.amp.GradScaler('cuda', args...)` instead.\n",
      "  self.autocast,self.learn.scaler,self.scales = autocast(dtype=dtype),GradScaler(**self.kwargs),L()\n",
      "/home/ldinh/perso/.venv/lib64/python3.12/site-packages/torch/amp/grad_scaler.py:136: UserWarning: torch.cuda.amp.GradScaler is enabled, but CUDA is not available.  Disabling.\n",
      "  warnings.warn(\n"
     ]
    },
    {
     "name": "stderr",
     "output_type": "stream",
     "text": [
      "/home/ldinh/perso/.venv/lib64/python3.12/site-packages/fastai/callback/fp16.py:47: FutureWarning: `torch.cuda.amp.autocast(args...)` is deprecated. Please use `torch.amp.autocast('cuda', args...)` instead.\n",
      "  self.autocast,self.learn.scaler,self.scales = autocast(dtype=dtype),GradScaler(**self.kwargs),L()\n",
      "/home/ldinh/perso/.venv/lib64/python3.12/site-packages/torch/amp/autocast_mode.py:266: UserWarning: User provided device_type of 'cuda', but CUDA is not available. Disabling\n",
      "  warnings.warn(\n",
      "/home/ldinh/perso/.venv/lib64/python3.12/site-packages/fastai/callback/fp16.py:47: FutureWarning: `torch.cuda.amp.GradScaler(args...)` is deprecated. Please use `torch.amp.GradScaler('cuda', args...)` instead.\n",
      "  self.autocast,self.learn.scaler,self.scales = autocast(dtype=dtype),GradScaler(**self.kwargs),L()\n",
      "/home/ldinh/perso/.venv/lib64/python3.12/site-packages/torch/amp/grad_scaler.py:136: UserWarning: torch.cuda.amp.GradScaler is enabled, but CUDA is not available.  Disabling.\n",
      "  warnings.warn(\n"
     ]
    },
    {
     "name": "stderr",
     "output_type": "stream",
     "text": [
      "/home/ldinh/perso/.venv/lib64/python3.12/site-packages/fastai/callback/fp16.py:47: FutureWarning: `torch.cuda.amp.autocast(args...)` is deprecated. Please use `torch.amp.autocast('cuda', args...)` instead.\n",
      "  self.autocast,self.learn.scaler,self.scales = autocast(dtype=dtype),GradScaler(**self.kwargs),L()\n",
      "/home/ldinh/perso/.venv/lib64/python3.12/site-packages/torch/amp/autocast_mode.py:266: UserWarning: User provided device_type of 'cuda', but CUDA is not available. Disabling\n",
      "  warnings.warn(\n",
      "/home/ldinh/perso/.venv/lib64/python3.12/site-packages/fastai/callback/fp16.py:47: FutureWarning: `torch.cuda.amp.GradScaler(args...)` is deprecated. Please use `torch.amp.GradScaler('cuda', args...)` instead.\n",
      "  self.autocast,self.learn.scaler,self.scales = autocast(dtype=dtype),GradScaler(**self.kwargs),L()\n",
      "/home/ldinh/perso/.venv/lib64/python3.12/site-packages/torch/amp/grad_scaler.py:136: UserWarning: torch.cuda.amp.GradScaler is enabled, but CUDA is not available.  Disabling.\n",
      "  warnings.warn(\n"
     ]
    },
    {
     "data": {
      "text/html": [
       "\n",
       "<style>\n",
       "    /* Turns off some styling */\n",
       "    progress {\n",
       "        /* gets rid of default border in Firefox and Opera. */\n",
       "        border: none;\n",
       "        /* Needs to be in here for Safari polyfill so background images work as expected. */\n",
       "        background-size: auto;\n",
       "    }\n",
       "    progress:not([value]), progress:not([value])::-webkit-progress-bar {\n",
       "        background: repeating-linear-gradient(45deg, #7e7e7e, #7e7e7e 10px, #5c5c5c 10px, #5c5c5c 20px);\n",
       "    }\n",
       "    .progress-bar-interrupted, .progress-bar-interrupted::-webkit-progress-bar {\n",
       "        background: #F44336;\n",
       "    }\n",
       "</style>\n"
      ],
      "text/plain": [
       "<IPython.core.display.HTML object>"
      ]
     },
     "metadata": {},
     "output_type": "display_data"
    },
    {
     "data": {
      "text/html": [],
      "text/plain": [
       "<IPython.core.display.HTML object>"
      ]
     },
     "metadata": {},
     "output_type": "display_data"
    },
    {
     "name": "stderr",
     "output_type": "stream",
     "text": [
      "/home/ldinh/perso/.venv/lib64/python3.12/site-packages/fastai/callback/fp16.py:47: FutureWarning: `torch.cuda.amp.autocast(args...)` is deprecated. Please use `torch.amp.autocast('cuda', args...)` instead.\n",
      "  self.autocast,self.learn.scaler,self.scales = autocast(dtype=dtype),GradScaler(**self.kwargs),L()\n",
      "/home/ldinh/perso/.venv/lib64/python3.12/site-packages/torch/amp/autocast_mode.py:266: UserWarning: User provided device_type of 'cuda', but CUDA is not available. Disabling\n",
      "  warnings.warn(\n",
      "/home/ldinh/perso/.venv/lib64/python3.12/site-packages/fastai/callback/fp16.py:47: FutureWarning: `torch.cuda.amp.GradScaler(args...)` is deprecated. Please use `torch.amp.GradScaler('cuda', args...)` instead.\n",
      "  self.autocast,self.learn.scaler,self.scales = autocast(dtype=dtype),GradScaler(**self.kwargs),L()\n",
      "/home/ldinh/perso/.venv/lib64/python3.12/site-packages/torch/amp/grad_scaler.py:136: UserWarning: torch.cuda.amp.GradScaler is enabled, but CUDA is not available.  Disabling.\n",
      "  warnings.warn(\n"
     ]
    },
    {
     "name": "stderr",
     "output_type": "stream",
     "text": [
      "/home/ldinh/perso/.venv/lib64/python3.12/site-packages/fastai/callback/fp16.py:47: FutureWarning: `torch.cuda.amp.autocast(args...)` is deprecated. Please use `torch.amp.autocast('cuda', args...)` instead.\n",
      "  self.autocast,self.learn.scaler,self.scales = autocast(dtype=dtype),GradScaler(**self.kwargs),L()\n",
      "/home/ldinh/perso/.venv/lib64/python3.12/site-packages/torch/amp/autocast_mode.py:266: UserWarning: User provided device_type of 'cuda', but CUDA is not available. Disabling\n",
      "  warnings.warn(\n",
      "/home/ldinh/perso/.venv/lib64/python3.12/site-packages/fastai/callback/fp16.py:47: FutureWarning: `torch.cuda.amp.GradScaler(args...)` is deprecated. Please use `torch.amp.GradScaler('cuda', args...)` instead.\n",
      "  self.autocast,self.learn.scaler,self.scales = autocast(dtype=dtype),GradScaler(**self.kwargs),L()\n",
      "/home/ldinh/perso/.venv/lib64/python3.12/site-packages/torch/amp/grad_scaler.py:136: UserWarning: torch.cuda.amp.GradScaler is enabled, but CUDA is not available.  Disabling.\n",
      "  warnings.warn(\n"
     ]
    },
    {
     "name": "stderr",
     "output_type": "stream",
     "text": [
      "/home/ldinh/perso/.venv/lib64/python3.12/site-packages/fastai/callback/fp16.py:47: FutureWarning: `torch.cuda.amp.autocast(args...)` is deprecated. Please use `torch.amp.autocast('cuda', args...)` instead.\n",
      "  self.autocast,self.learn.scaler,self.scales = autocast(dtype=dtype),GradScaler(**self.kwargs),L()\n",
      "/home/ldinh/perso/.venv/lib64/python3.12/site-packages/torch/amp/autocast_mode.py:266: UserWarning: User provided device_type of 'cuda', but CUDA is not available. Disabling\n",
      "  warnings.warn(\n",
      "/home/ldinh/perso/.venv/lib64/python3.12/site-packages/fastai/callback/fp16.py:47: FutureWarning: `torch.cuda.amp.GradScaler(args...)` is deprecated. Please use `torch.amp.GradScaler('cuda', args...)` instead.\n",
      "  self.autocast,self.learn.scaler,self.scales = autocast(dtype=dtype),GradScaler(**self.kwargs),L()\n",
      "/home/ldinh/perso/.venv/lib64/python3.12/site-packages/torch/amp/grad_scaler.py:136: UserWarning: torch.cuda.amp.GradScaler is enabled, but CUDA is not available.  Disabling.\n",
      "  warnings.warn(\n"
     ]
    },
    {
     "name": "stderr",
     "output_type": "stream",
     "text": [
      "/home/ldinh/perso/.venv/lib64/python3.12/site-packages/fastai/callback/fp16.py:47: FutureWarning: `torch.cuda.amp.autocast(args...)` is deprecated. Please use `torch.amp.autocast('cuda', args...)` instead.\n",
      "  self.autocast,self.learn.scaler,self.scales = autocast(dtype=dtype),GradScaler(**self.kwargs),L()\n",
      "/home/ldinh/perso/.venv/lib64/python3.12/site-packages/torch/amp/autocast_mode.py:266: UserWarning: User provided device_type of 'cuda', but CUDA is not available. Disabling\n",
      "  warnings.warn(\n",
      "/home/ldinh/perso/.venv/lib64/python3.12/site-packages/fastai/callback/fp16.py:47: FutureWarning: `torch.cuda.amp.GradScaler(args...)` is deprecated. Please use `torch.amp.GradScaler('cuda', args...)` instead.\n",
      "  self.autocast,self.learn.scaler,self.scales = autocast(dtype=dtype),GradScaler(**self.kwargs),L()\n",
      "/home/ldinh/perso/.venv/lib64/python3.12/site-packages/torch/amp/grad_scaler.py:136: UserWarning: torch.cuda.amp.GradScaler is enabled, but CUDA is not available.  Disabling.\n",
      "  warnings.warn(\n"
     ]
    },
    {
     "name": "stderr",
     "output_type": "stream",
     "text": [
      "/home/ldinh/perso/.venv/lib64/python3.12/site-packages/fastai/callback/fp16.py:47: FutureWarning: `torch.cuda.amp.autocast(args...)` is deprecated. Please use `torch.amp.autocast('cuda', args...)` instead.\n",
      "  self.autocast,self.learn.scaler,self.scales = autocast(dtype=dtype),GradScaler(**self.kwargs),L()\n",
      "/home/ldinh/perso/.venv/lib64/python3.12/site-packages/torch/amp/autocast_mode.py:266: UserWarning: User provided device_type of 'cuda', but CUDA is not available. Disabling\n",
      "  warnings.warn(\n",
      "/home/ldinh/perso/.venv/lib64/python3.12/site-packages/fastai/callback/fp16.py:47: FutureWarning: `torch.cuda.amp.GradScaler(args...)` is deprecated. Please use `torch.amp.GradScaler('cuda', args...)` instead.\n",
      "  self.autocast,self.learn.scaler,self.scales = autocast(dtype=dtype),GradScaler(**self.kwargs),L()\n",
      "/home/ldinh/perso/.venv/lib64/python3.12/site-packages/torch/amp/grad_scaler.py:136: UserWarning: torch.cuda.amp.GradScaler is enabled, but CUDA is not available.  Disabling.\n",
      "  warnings.warn(\n"
     ]
    },
    {
     "name": "stderr",
     "output_type": "stream",
     "text": [
      "/home/ldinh/perso/.venv/lib64/python3.12/site-packages/fastai/callback/fp16.py:47: FutureWarning: `torch.cuda.amp.autocast(args...)` is deprecated. Please use `torch.amp.autocast('cuda', args...)` instead.\n",
      "  self.autocast,self.learn.scaler,self.scales = autocast(dtype=dtype),GradScaler(**self.kwargs),L()\n",
      "/home/ldinh/perso/.venv/lib64/python3.12/site-packages/torch/amp/autocast_mode.py:266: UserWarning: User provided device_type of 'cuda', but CUDA is not available. Disabling\n",
      "  warnings.warn(\n",
      "/home/ldinh/perso/.venv/lib64/python3.12/site-packages/fastai/callback/fp16.py:47: FutureWarning: `torch.cuda.amp.GradScaler(args...)` is deprecated. Please use `torch.amp.GradScaler('cuda', args...)` instead.\n",
      "  self.autocast,self.learn.scaler,self.scales = autocast(dtype=dtype),GradScaler(**self.kwargs),L()\n",
      "/home/ldinh/perso/.venv/lib64/python3.12/site-packages/torch/amp/grad_scaler.py:136: UserWarning: torch.cuda.amp.GradScaler is enabled, but CUDA is not available.  Disabling.\n",
      "  warnings.warn(\n",
      "/home/ldinh/perso/.venv/lib64/python3.12/site-packages/fastai/callback/fp16.py:47: FutureWarning: `torch.cuda.amp.autocast(args...)` is deprecated. Please use `torch.amp.autocast('cuda', args...)` instead.\n",
      "  self.autocast,self.learn.scaler,self.scales = autocast(dtype=dtype),GradScaler(**self.kwargs),L()\n",
      "/home/ldinh/perso/.venv/lib64/python3.12/site-packages/torch/amp/autocast_mode.py:266: UserWarning: User provided device_type of 'cuda', but CUDA is not available. Disabling\n",
      "  warnings.warn(\n",
      "/home/ldinh/perso/.venv/lib64/python3.12/site-packages/fastai/callback/fp16.py:47: FutureWarning: `torch.cuda.amp.GradScaler(args...)` is deprecated. Please use `torch.amp.GradScaler('cuda', args...)` instead.\n",
      "  self.autocast,self.learn.scaler,self.scales = autocast(dtype=dtype),GradScaler(**self.kwargs),L()\n",
      "/home/ldinh/perso/.venv/lib64/python3.12/site-packages/torch/amp/grad_scaler.py:136: UserWarning: torch.cuda.amp.GradScaler is enabled, but CUDA is not available.  Disabling.\n",
      "  warnings.warn(\n"
     ]
    },
    {
     "name": "stderr",
     "output_type": "stream",
     "text": [
      "/home/ldinh/perso/.venv/lib64/python3.12/site-packages/fastai/callback/fp16.py:47: FutureWarning: `torch.cuda.amp.autocast(args...)` is deprecated. Please use `torch.amp.autocast('cuda', args...)` instead.\n",
      "  self.autocast,self.learn.scaler,self.scales = autocast(dtype=dtype),GradScaler(**self.kwargs),L()\n",
      "/home/ldinh/perso/.venv/lib64/python3.12/site-packages/torch/amp/autocast_mode.py:266: UserWarning: User provided device_type of 'cuda', but CUDA is not available. Disabling\n",
      "  warnings.warn(\n",
      "/home/ldinh/perso/.venv/lib64/python3.12/site-packages/fastai/callback/fp16.py:47: FutureWarning: `torch.cuda.amp.GradScaler(args...)` is deprecated. Please use `torch.amp.GradScaler('cuda', args...)` instead.\n",
      "  self.autocast,self.learn.scaler,self.scales = autocast(dtype=dtype),GradScaler(**self.kwargs),L()\n",
      "/home/ldinh/perso/.venv/lib64/python3.12/site-packages/torch/amp/grad_scaler.py:136: UserWarning: torch.cuda.amp.GradScaler is enabled, but CUDA is not available.  Disabling.\n",
      "  warnings.warn(\n"
     ]
    },
    {
     "name": "stderr",
     "output_type": "stream",
     "text": [
      "/home/ldinh/perso/.venv/lib64/python3.12/site-packages/fastai/callback/fp16.py:47: FutureWarning: `torch.cuda.amp.autocast(args...)` is deprecated. Please use `torch.amp.autocast('cuda', args...)` instead.\n",
      "  self.autocast,self.learn.scaler,self.scales = autocast(dtype=dtype),GradScaler(**self.kwargs),L()\n",
      "/home/ldinh/perso/.venv/lib64/python3.12/site-packages/torch/amp/autocast_mode.py:266: UserWarning: User provided device_type of 'cuda', but CUDA is not available. Disabling\n",
      "  warnings.warn(\n",
      "/home/ldinh/perso/.venv/lib64/python3.12/site-packages/fastai/callback/fp16.py:47: FutureWarning: `torch.cuda.amp.GradScaler(args...)` is deprecated. Please use `torch.amp.GradScaler('cuda', args...)` instead.\n",
      "  self.autocast,self.learn.scaler,self.scales = autocast(dtype=dtype),GradScaler(**self.kwargs),L()\n",
      "/home/ldinh/perso/.venv/lib64/python3.12/site-packages/torch/amp/grad_scaler.py:136: UserWarning: torch.cuda.amp.GradScaler is enabled, but CUDA is not available.  Disabling.\n",
      "  warnings.warn(\n",
      "/home/ldinh/perso/.venv/lib64/python3.12/site-packages/fastai/callback/fp16.py:47: FutureWarning: `torch.cuda.amp.autocast(args...)` is deprecated. Please use `torch.amp.autocast('cuda', args...)` instead.\n",
      "  self.autocast,self.learn.scaler,self.scales = autocast(dtype=dtype),GradScaler(**self.kwargs),L()\n",
      "/home/ldinh/perso/.venv/lib64/python3.12/site-packages/torch/amp/autocast_mode.py:266: UserWarning: User provided device_type of 'cuda', but CUDA is not available. Disabling\n",
      "  warnings.warn(\n",
      "/home/ldinh/perso/.venv/lib64/python3.12/site-packages/fastai/callback/fp16.py:47: FutureWarning: `torch.cuda.amp.GradScaler(args...)` is deprecated. Please use `torch.amp.GradScaler('cuda', args...)` instead.\n",
      "  self.autocast,self.learn.scaler,self.scales = autocast(dtype=dtype),GradScaler(**self.kwargs),L()\n",
      "/home/ldinh/perso/.venv/lib64/python3.12/site-packages/torch/amp/grad_scaler.py:136: UserWarning: torch.cuda.amp.GradScaler is enabled, but CUDA is not available.  Disabling.\n",
      "  warnings.warn(\n"
     ]
    },
    {
     "name": "stderr",
     "output_type": "stream",
     "text": [
      "/home/ldinh/perso/.venv/lib64/python3.12/site-packages/fastai/callback/fp16.py:47: FutureWarning: `torch.cuda.amp.autocast(args...)` is deprecated. Please use `torch.amp.autocast('cuda', args...)` instead.\n",
      "  self.autocast,self.learn.scaler,self.scales = autocast(dtype=dtype),GradScaler(**self.kwargs),L()\n",
      "/home/ldinh/perso/.venv/lib64/python3.12/site-packages/torch/amp/autocast_mode.py:266: UserWarning: User provided device_type of 'cuda', but CUDA is not available. Disabling\n",
      "  warnings.warn(\n",
      "/home/ldinh/perso/.venv/lib64/python3.12/site-packages/fastai/callback/fp16.py:47: FutureWarning: `torch.cuda.amp.GradScaler(args...)` is deprecated. Please use `torch.amp.GradScaler('cuda', args...)` instead.\n",
      "  self.autocast,self.learn.scaler,self.scales = autocast(dtype=dtype),GradScaler(**self.kwargs),L()\n",
      "/home/ldinh/perso/.venv/lib64/python3.12/site-packages/torch/amp/grad_scaler.py:136: UserWarning: torch.cuda.amp.GradScaler is enabled, but CUDA is not available.  Disabling.\n",
      "  warnings.warn(\n"
     ]
    },
    {
     "name": "stderr",
     "output_type": "stream",
     "text": [
      "/home/ldinh/perso/.venv/lib64/python3.12/site-packages/fastai/callback/fp16.py:47: FutureWarning: `torch.cuda.amp.autocast(args...)` is deprecated. Please use `torch.amp.autocast('cuda', args...)` instead.\n",
      "  self.autocast,self.learn.scaler,self.scales = autocast(dtype=dtype),GradScaler(**self.kwargs),L()\n",
      "/home/ldinh/perso/.venv/lib64/python3.12/site-packages/torch/amp/autocast_mode.py:266: UserWarning: User provided device_type of 'cuda', but CUDA is not available. Disabling\n",
      "  warnings.warn(\n",
      "/home/ldinh/perso/.venv/lib64/python3.12/site-packages/fastai/callback/fp16.py:47: FutureWarning: `torch.cuda.amp.GradScaler(args...)` is deprecated. Please use `torch.amp.GradScaler('cuda', args...)` instead.\n",
      "  self.autocast,self.learn.scaler,self.scales = autocast(dtype=dtype),GradScaler(**self.kwargs),L()\n",
      "/home/ldinh/perso/.venv/lib64/python3.12/site-packages/torch/amp/grad_scaler.py:136: UserWarning: torch.cuda.amp.GradScaler is enabled, but CUDA is not available.  Disabling.\n",
      "  warnings.warn(\n",
      "/home/ldinh/perso/.venv/lib64/python3.12/site-packages/fastai/callback/fp16.py:47: FutureWarning: `torch.cuda.amp.autocast(args...)` is deprecated. Please use `torch.amp.autocast('cuda', args...)` instead.\n",
      "  self.autocast,self.learn.scaler,self.scales = autocast(dtype=dtype),GradScaler(**self.kwargs),L()\n",
      "/home/ldinh/perso/.venv/lib64/python3.12/site-packages/torch/amp/autocast_mode.py:266: UserWarning: User provided device_type of 'cuda', but CUDA is not available. Disabling\n",
      "  warnings.warn(\n",
      "/home/ldinh/perso/.venv/lib64/python3.12/site-packages/fastai/callback/fp16.py:47: FutureWarning: `torch.cuda.amp.GradScaler(args...)` is deprecated. Please use `torch.amp.GradScaler('cuda', args...)` instead.\n",
      "  self.autocast,self.learn.scaler,self.scales = autocast(dtype=dtype),GradScaler(**self.kwargs),L()\n",
      "/home/ldinh/perso/.venv/lib64/python3.12/site-packages/torch/amp/grad_scaler.py:136: UserWarning: torch.cuda.amp.GradScaler is enabled, but CUDA is not available.  Disabling.\n",
      "  warnings.warn(\n",
      "/home/ldinh/perso/.venv/lib64/python3.12/site-packages/fastai/callback/fp16.py:47: FutureWarning: `torch.cuda.amp.autocast(args...)` is deprecated. Please use `torch.amp.autocast('cuda', args...)` instead.\n",
      "  self.autocast,self.learn.scaler,self.scales = autocast(dtype=dtype),GradScaler(**self.kwargs),L()\n",
      "/home/ldinh/perso/.venv/lib64/python3.12/site-packages/torch/amp/autocast_mode.py:266: UserWarning: User provided device_type of 'cuda', but CUDA is not available. Disabling\n",
      "  warnings.warn(\n",
      "/home/ldinh/perso/.venv/lib64/python3.12/site-packages/fastai/callback/fp16.py:47: FutureWarning: `torch.cuda.amp.GradScaler(args...)` is deprecated. Please use `torch.amp.GradScaler('cuda', args...)` instead.\n",
      "  self.autocast,self.learn.scaler,self.scales = autocast(dtype=dtype),GradScaler(**self.kwargs),L()\n",
      "/home/ldinh/perso/.venv/lib64/python3.12/site-packages/torch/amp/grad_scaler.py:136: UserWarning: torch.cuda.amp.GradScaler is enabled, but CUDA is not available.  Disabling.\n",
      "  warnings.warn(\n"
     ]
    },
    {
     "name": "stderr",
     "output_type": "stream",
     "text": [
      "/home/ldinh/perso/.venv/lib64/python3.12/site-packages/fastai/callback/fp16.py:47: FutureWarning: `torch.cuda.amp.autocast(args...)` is deprecated. Please use `torch.amp.autocast('cuda', args...)` instead.\n",
      "  self.autocast,self.learn.scaler,self.scales = autocast(dtype=dtype),GradScaler(**self.kwargs),L()\n",
      "/home/ldinh/perso/.venv/lib64/python3.12/site-packages/torch/amp/autocast_mode.py:266: UserWarning: User provided device_type of 'cuda', but CUDA is not available. Disabling\n",
      "  warnings.warn(\n",
      "/home/ldinh/perso/.venv/lib64/python3.12/site-packages/fastai/callback/fp16.py:47: FutureWarning: `torch.cuda.amp.GradScaler(args...)` is deprecated. Please use `torch.amp.GradScaler('cuda', args...)` instead.\n",
      "  self.autocast,self.learn.scaler,self.scales = autocast(dtype=dtype),GradScaler(**self.kwargs),L()\n",
      "/home/ldinh/perso/.venv/lib64/python3.12/site-packages/torch/amp/grad_scaler.py:136: UserWarning: torch.cuda.amp.GradScaler is enabled, but CUDA is not available.  Disabling.\n",
      "  warnings.warn(\n"
     ]
    },
    {
     "name": "stderr",
     "output_type": "stream",
     "text": [
      "/home/ldinh/perso/.venv/lib64/python3.12/site-packages/fastai/callback/fp16.py:47: FutureWarning: `torch.cuda.amp.autocast(args...)` is deprecated. Please use `torch.amp.autocast('cuda', args...)` instead.\n",
      "  self.autocast,self.learn.scaler,self.scales = autocast(dtype=dtype),GradScaler(**self.kwargs),L()\n",
      "/home/ldinh/perso/.venv/lib64/python3.12/site-packages/torch/amp/autocast_mode.py:266: UserWarning: User provided device_type of 'cuda', but CUDA is not available. Disabling\n",
      "  warnings.warn(\n",
      "/home/ldinh/perso/.venv/lib64/python3.12/site-packages/fastai/callback/fp16.py:47: FutureWarning: `torch.cuda.amp.GradScaler(args...)` is deprecated. Please use `torch.amp.GradScaler('cuda', args...)` instead.\n",
      "  self.autocast,self.learn.scaler,self.scales = autocast(dtype=dtype),GradScaler(**self.kwargs),L()\n",
      "/home/ldinh/perso/.venv/lib64/python3.12/site-packages/torch/amp/grad_scaler.py:136: UserWarning: torch.cuda.amp.GradScaler is enabled, but CUDA is not available.  Disabling.\n",
      "  warnings.warn(\n"
     ]
    },
    {
     "name": "stderr",
     "output_type": "stream",
     "text": [
      "/home/ldinh/perso/.venv/lib64/python3.12/site-packages/fastai/callback/fp16.py:47: FutureWarning: `torch.cuda.amp.autocast(args...)` is deprecated. Please use `torch.amp.autocast('cuda', args...)` instead.\n",
      "  self.autocast,self.learn.scaler,self.scales = autocast(dtype=dtype),GradScaler(**self.kwargs),L()\n",
      "/home/ldinh/perso/.venv/lib64/python3.12/site-packages/torch/amp/autocast_mode.py:266: UserWarning: User provided device_type of 'cuda', but CUDA is not available. Disabling\n",
      "  warnings.warn(\n",
      "/home/ldinh/perso/.venv/lib64/python3.12/site-packages/fastai/callback/fp16.py:47: FutureWarning: `torch.cuda.amp.GradScaler(args...)` is deprecated. Please use `torch.amp.GradScaler('cuda', args...)` instead.\n",
      "  self.autocast,self.learn.scaler,self.scales = autocast(dtype=dtype),GradScaler(**self.kwargs),L()\n",
      "/home/ldinh/perso/.venv/lib64/python3.12/site-packages/torch/amp/grad_scaler.py:136: UserWarning: torch.cuda.amp.GradScaler is enabled, but CUDA is not available.  Disabling.\n",
      "  warnings.warn(\n"
     ]
    },
    {
     "name": "stderr",
     "output_type": "stream",
     "text": [
      "/home/ldinh/perso/.venv/lib64/python3.12/site-packages/fastai/callback/fp16.py:47: FutureWarning: `torch.cuda.amp.autocast(args...)` is deprecated. Please use `torch.amp.autocast('cuda', args...)` instead.\n",
      "  self.autocast,self.learn.scaler,self.scales = autocast(dtype=dtype),GradScaler(**self.kwargs),L()\n",
      "/home/ldinh/perso/.venv/lib64/python3.12/site-packages/torch/amp/autocast_mode.py:266: UserWarning: User provided device_type of 'cuda', but CUDA is not available. Disabling\n",
      "  warnings.warn(\n",
      "/home/ldinh/perso/.venv/lib64/python3.12/site-packages/fastai/callback/fp16.py:47: FutureWarning: `torch.cuda.amp.GradScaler(args...)` is deprecated. Please use `torch.amp.GradScaler('cuda', args...)` instead.\n",
      "  self.autocast,self.learn.scaler,self.scales = autocast(dtype=dtype),GradScaler(**self.kwargs),L()\n",
      "/home/ldinh/perso/.venv/lib64/python3.12/site-packages/torch/amp/grad_scaler.py:136: UserWarning: torch.cuda.amp.GradScaler is enabled, but CUDA is not available.  Disabling.\n",
      "  warnings.warn(\n"
     ]
    },
    {
     "name": "stderr",
     "output_type": "stream",
     "text": [
      "/home/ldinh/perso/.venv/lib64/python3.12/site-packages/fastai/callback/fp16.py:47: FutureWarning: `torch.cuda.amp.autocast(args...)` is deprecated. Please use `torch.amp.autocast('cuda', args...)` instead.\n",
      "  self.autocast,self.learn.scaler,self.scales = autocast(dtype=dtype),GradScaler(**self.kwargs),L()\n",
      "/home/ldinh/perso/.venv/lib64/python3.12/site-packages/torch/amp/autocast_mode.py:266: UserWarning: User provided device_type of 'cuda', but CUDA is not available. Disabling\n",
      "  warnings.warn(\n",
      "/home/ldinh/perso/.venv/lib64/python3.12/site-packages/fastai/callback/fp16.py:47: FutureWarning: `torch.cuda.amp.GradScaler(args...)` is deprecated. Please use `torch.amp.GradScaler('cuda', args...)` instead.\n",
      "  self.autocast,self.learn.scaler,self.scales = autocast(dtype=dtype),GradScaler(**self.kwargs),L()\n",
      "/home/ldinh/perso/.venv/lib64/python3.12/site-packages/torch/amp/grad_scaler.py:136: UserWarning: torch.cuda.amp.GradScaler is enabled, but CUDA is not available.  Disabling.\n",
      "  warnings.warn(\n"
     ]
    },
    {
     "name": "stderr",
     "output_type": "stream",
     "text": [
      "/home/ldinh/perso/.venv/lib64/python3.12/site-packages/fastai/callback/fp16.py:47: FutureWarning: `torch.cuda.amp.autocast(args...)` is deprecated. Please use `torch.amp.autocast('cuda', args...)` instead.\n",
      "  self.autocast,self.learn.scaler,self.scales = autocast(dtype=dtype),GradScaler(**self.kwargs),L()\n",
      "/home/ldinh/perso/.venv/lib64/python3.12/site-packages/torch/amp/autocast_mode.py:266: UserWarning: User provided device_type of 'cuda', but CUDA is not available. Disabling\n",
      "  warnings.warn(\n",
      "/home/ldinh/perso/.venv/lib64/python3.12/site-packages/fastai/callback/fp16.py:47: FutureWarning: `torch.cuda.amp.GradScaler(args...)` is deprecated. Please use `torch.amp.GradScaler('cuda', args...)` instead.\n",
      "  self.autocast,self.learn.scaler,self.scales = autocast(dtype=dtype),GradScaler(**self.kwargs),L()\n",
      "/home/ldinh/perso/.venv/lib64/python3.12/site-packages/torch/amp/grad_scaler.py:136: UserWarning: torch.cuda.amp.GradScaler is enabled, but CUDA is not available.  Disabling.\n",
      "  warnings.warn(\n",
      "/home/ldinh/perso/.venv/lib64/python3.12/site-packages/fastai/callback/fp16.py:47: FutureWarning: `torch.cuda.amp.autocast(args...)` is deprecated. Please use `torch.amp.autocast('cuda', args...)` instead.\n",
      "  self.autocast,self.learn.scaler,self.scales = autocast(dtype=dtype),GradScaler(**self.kwargs),L()\n",
      "/home/ldinh/perso/.venv/lib64/python3.12/site-packages/torch/amp/autocast_mode.py:266: UserWarning: User provided device_type of 'cuda', but CUDA is not available. Disabling\n",
      "  warnings.warn(\n",
      "/home/ldinh/perso/.venv/lib64/python3.12/site-packages/fastai/callback/fp16.py:47: FutureWarning: `torch.cuda.amp.GradScaler(args...)` is deprecated. Please use `torch.amp.GradScaler('cuda', args...)` instead.\n",
      "  self.autocast,self.learn.scaler,self.scales = autocast(dtype=dtype),GradScaler(**self.kwargs),L()\n",
      "/home/ldinh/perso/.venv/lib64/python3.12/site-packages/torch/amp/grad_scaler.py:136: UserWarning: torch.cuda.amp.GradScaler is enabled, but CUDA is not available.  Disabling.\n",
      "  warnings.warn(\n"
     ]
    },
    {
     "name": "stderr",
     "output_type": "stream",
     "text": [
      "/home/ldinh/perso/.venv/lib64/python3.12/site-packages/fastai/callback/fp16.py:47: FutureWarning: `torch.cuda.amp.autocast(args...)` is deprecated. Please use `torch.amp.autocast('cuda', args...)` instead.\n",
      "  self.autocast,self.learn.scaler,self.scales = autocast(dtype=dtype),GradScaler(**self.kwargs),L()\n",
      "/home/ldinh/perso/.venv/lib64/python3.12/site-packages/torch/amp/autocast_mode.py:266: UserWarning: User provided device_type of 'cuda', but CUDA is not available. Disabling\n",
      "  warnings.warn(\n",
      "/home/ldinh/perso/.venv/lib64/python3.12/site-packages/fastai/callback/fp16.py:47: FutureWarning: `torch.cuda.amp.GradScaler(args...)` is deprecated. Please use `torch.amp.GradScaler('cuda', args...)` instead.\n",
      "  self.autocast,self.learn.scaler,self.scales = autocast(dtype=dtype),GradScaler(**self.kwargs),L()\n",
      "/home/ldinh/perso/.venv/lib64/python3.12/site-packages/torch/amp/grad_scaler.py:136: UserWarning: torch.cuda.amp.GradScaler is enabled, but CUDA is not available.  Disabling.\n",
      "  warnings.warn(\n"
     ]
    },
    {
     "name": "stderr",
     "output_type": "stream",
     "text": [
      "/home/ldinh/perso/.venv/lib64/python3.12/site-packages/fastai/callback/fp16.py:47: FutureWarning: `torch.cuda.amp.autocast(args...)` is deprecated. Please use `torch.amp.autocast('cuda', args...)` instead.\n",
      "  self.autocast,self.learn.scaler,self.scales = autocast(dtype=dtype),GradScaler(**self.kwargs),L()\n",
      "/home/ldinh/perso/.venv/lib64/python3.12/site-packages/torch/amp/autocast_mode.py:266: UserWarning: User provided device_type of 'cuda', but CUDA is not available. Disabling\n",
      "  warnings.warn(\n",
      "/home/ldinh/perso/.venv/lib64/python3.12/site-packages/fastai/callback/fp16.py:47: FutureWarning: `torch.cuda.amp.GradScaler(args...)` is deprecated. Please use `torch.amp.GradScaler('cuda', args...)` instead.\n",
      "  self.autocast,self.learn.scaler,self.scales = autocast(dtype=dtype),GradScaler(**self.kwargs),L()\n",
      "/home/ldinh/perso/.venv/lib64/python3.12/site-packages/torch/amp/grad_scaler.py:136: UserWarning: torch.cuda.amp.GradScaler is enabled, but CUDA is not available.  Disabling.\n",
      "  warnings.warn(\n",
      "/home/ldinh/perso/.venv/lib64/python3.12/site-packages/fastai/callback/fp16.py:47: FutureWarning: `torch.cuda.amp.autocast(args...)` is deprecated. Please use `torch.amp.autocast('cuda', args...)` instead.\n",
      "  self.autocast,self.learn.scaler,self.scales = autocast(dtype=dtype),GradScaler(**self.kwargs),L()\n",
      "/home/ldinh/perso/.venv/lib64/python3.12/site-packages/torch/amp/autocast_mode.py:266: UserWarning: User provided device_type of 'cuda', but CUDA is not available. Disabling\n",
      "  warnings.warn(\n",
      "/home/ldinh/perso/.venv/lib64/python3.12/site-packages/fastai/callback/fp16.py:47: FutureWarning: `torch.cuda.amp.GradScaler(args...)` is deprecated. Please use `torch.amp.GradScaler('cuda', args...)` instead.\n",
      "  self.autocast,self.learn.scaler,self.scales = autocast(dtype=dtype),GradScaler(**self.kwargs),L()\n",
      "/home/ldinh/perso/.venv/lib64/python3.12/site-packages/torch/amp/grad_scaler.py:136: UserWarning: torch.cuda.amp.GradScaler is enabled, but CUDA is not available.  Disabling.\n",
      "  warnings.warn(\n"
     ]
    },
    {
     "name": "stderr",
     "output_type": "stream",
     "text": [
      "/home/ldinh/perso/.venv/lib64/python3.12/site-packages/fastai/callback/fp16.py:47: FutureWarning: `torch.cuda.amp.autocast(args...)` is deprecated. Please use `torch.amp.autocast('cuda', args...)` instead.\n",
      "  self.autocast,self.learn.scaler,self.scales = autocast(dtype=dtype),GradScaler(**self.kwargs),L()\n",
      "/home/ldinh/perso/.venv/lib64/python3.12/site-packages/torch/amp/autocast_mode.py:266: UserWarning: User provided device_type of 'cuda', but CUDA is not available. Disabling\n",
      "  warnings.warn(\n",
      "/home/ldinh/perso/.venv/lib64/python3.12/site-packages/fastai/callback/fp16.py:47: FutureWarning: `torch.cuda.amp.GradScaler(args...)` is deprecated. Please use `torch.amp.GradScaler('cuda', args...)` instead.\n",
      "  self.autocast,self.learn.scaler,self.scales = autocast(dtype=dtype),GradScaler(**self.kwargs),L()\n",
      "/home/ldinh/perso/.venv/lib64/python3.12/site-packages/torch/amp/grad_scaler.py:136: UserWarning: torch.cuda.amp.GradScaler is enabled, but CUDA is not available.  Disabling.\n",
      "  warnings.warn(\n",
      "/home/ldinh/perso/.venv/lib64/python3.12/site-packages/fastai/callback/fp16.py:47: FutureWarning: `torch.cuda.amp.autocast(args...)` is deprecated. Please use `torch.amp.autocast('cuda', args...)` instead.\n",
      "  self.autocast,self.learn.scaler,self.scales = autocast(dtype=dtype),GradScaler(**self.kwargs),L()\n",
      "/home/ldinh/perso/.venv/lib64/python3.12/site-packages/torch/amp/autocast_mode.py:266: UserWarning: User provided device_type of 'cuda', but CUDA is not available. Disabling\n",
      "  warnings.warn(\n",
      "/home/ldinh/perso/.venv/lib64/python3.12/site-packages/fastai/callback/fp16.py:47: FutureWarning: `torch.cuda.amp.GradScaler(args...)` is deprecated. Please use `torch.amp.GradScaler('cuda', args...)` instead.\n",
      "  self.autocast,self.learn.scaler,self.scales = autocast(dtype=dtype),GradScaler(**self.kwargs),L()\n",
      "/home/ldinh/perso/.venv/lib64/python3.12/site-packages/torch/amp/grad_scaler.py:136: UserWarning: torch.cuda.amp.GradScaler is enabled, but CUDA is not available.  Disabling.\n",
      "  warnings.warn(\n",
      "/home/ldinh/perso/.venv/lib64/python3.12/site-packages/fastai/callback/fp16.py:47: FutureWarning: `torch.cuda.amp.autocast(args...)` is deprecated. Please use `torch.amp.autocast('cuda', args...)` instead.\n",
      "  self.autocast,self.learn.scaler,self.scales = autocast(dtype=dtype),GradScaler(**self.kwargs),L()\n",
      "/home/ldinh/perso/.venv/lib64/python3.12/site-packages/torch/amp/autocast_mode.py:266: UserWarning: User provided device_type of 'cuda', but CUDA is not available. Disabling\n",
      "  warnings.warn(\n",
      "/home/ldinh/perso/.venv/lib64/python3.12/site-packages/fastai/callback/fp16.py:47: FutureWarning: `torch.cuda.amp.GradScaler(args...)` is deprecated. Please use `torch.amp.GradScaler('cuda', args...)` instead.\n",
      "  self.autocast,self.learn.scaler,self.scales = autocast(dtype=dtype),GradScaler(**self.kwargs),L()\n",
      "/home/ldinh/perso/.venv/lib64/python3.12/site-packages/torch/amp/grad_scaler.py:136: UserWarning: torch.cuda.amp.GradScaler is enabled, but CUDA is not available.  Disabling.\n",
      "  warnings.warn(\n"
     ]
    },
    {
     "name": "stderr",
     "output_type": "stream",
     "text": [
      "/home/ldinh/perso/.venv/lib64/python3.12/site-packages/fastai/callback/fp16.py:47: FutureWarning: `torch.cuda.amp.autocast(args...)` is deprecated. Please use `torch.amp.autocast('cuda', args...)` instead.\n",
      "  self.autocast,self.learn.scaler,self.scales = autocast(dtype=dtype),GradScaler(**self.kwargs),L()\n",
      "/home/ldinh/perso/.venv/lib64/python3.12/site-packages/torch/amp/autocast_mode.py:266: UserWarning: User provided device_type of 'cuda', but CUDA is not available. Disabling\n",
      "  warnings.warn(\n",
      "/home/ldinh/perso/.venv/lib64/python3.12/site-packages/fastai/callback/fp16.py:47: FutureWarning: `torch.cuda.amp.GradScaler(args...)` is deprecated. Please use `torch.amp.GradScaler('cuda', args...)` instead.\n",
      "  self.autocast,self.learn.scaler,self.scales = autocast(dtype=dtype),GradScaler(**self.kwargs),L()\n",
      "/home/ldinh/perso/.venv/lib64/python3.12/site-packages/torch/amp/grad_scaler.py:136: UserWarning: torch.cuda.amp.GradScaler is enabled, but CUDA is not available.  Disabling.\n",
      "  warnings.warn(\n"
     ]
    },
    {
     "name": "stderr",
     "output_type": "stream",
     "text": [
      "/home/ldinh/perso/.venv/lib64/python3.12/site-packages/fastai/callback/fp16.py:47: FutureWarning: `torch.cuda.amp.autocast(args...)` is deprecated. Please use `torch.amp.autocast('cuda', args...)` instead.\n",
      "  self.autocast,self.learn.scaler,self.scales = autocast(dtype=dtype),GradScaler(**self.kwargs),L()\n",
      "/home/ldinh/perso/.venv/lib64/python3.12/site-packages/torch/amp/autocast_mode.py:266: UserWarning: User provided device_type of 'cuda', but CUDA is not available. Disabling\n",
      "  warnings.warn(\n",
      "/home/ldinh/perso/.venv/lib64/python3.12/site-packages/fastai/callback/fp16.py:47: FutureWarning: `torch.cuda.amp.GradScaler(args...)` is deprecated. Please use `torch.amp.GradScaler('cuda', args...)` instead.\n",
      "  self.autocast,self.learn.scaler,self.scales = autocast(dtype=dtype),GradScaler(**self.kwargs),L()\n",
      "/home/ldinh/perso/.venv/lib64/python3.12/site-packages/torch/amp/grad_scaler.py:136: UserWarning: torch.cuda.amp.GradScaler is enabled, but CUDA is not available.  Disabling.\n",
      "  warnings.warn(\n"
     ]
    },
    {
     "name": "stderr",
     "output_type": "stream",
     "text": [
      "/home/ldinh/perso/.venv/lib64/python3.12/site-packages/fastai/callback/fp16.py:47: FutureWarning: `torch.cuda.amp.autocast(args...)` is deprecated. Please use `torch.amp.autocast('cuda', args...)` instead.\n",
      "  self.autocast,self.learn.scaler,self.scales = autocast(dtype=dtype),GradScaler(**self.kwargs),L()\n",
      "/home/ldinh/perso/.venv/lib64/python3.12/site-packages/torch/amp/autocast_mode.py:266: UserWarning: User provided device_type of 'cuda', but CUDA is not available. Disabling\n",
      "  warnings.warn(\n",
      "/home/ldinh/perso/.venv/lib64/python3.12/site-packages/fastai/callback/fp16.py:47: FutureWarning: `torch.cuda.amp.GradScaler(args...)` is deprecated. Please use `torch.amp.GradScaler('cuda', args...)` instead.\n",
      "  self.autocast,self.learn.scaler,self.scales = autocast(dtype=dtype),GradScaler(**self.kwargs),L()\n",
      "/home/ldinh/perso/.venv/lib64/python3.12/site-packages/torch/amp/grad_scaler.py:136: UserWarning: torch.cuda.amp.GradScaler is enabled, but CUDA is not available.  Disabling.\n",
      "  warnings.warn(\n"
     ]
    },
    {
     "name": "stderr",
     "output_type": "stream",
     "text": [
      "/home/ldinh/perso/.venv/lib64/python3.12/site-packages/fastai/callback/fp16.py:47: FutureWarning: `torch.cuda.amp.autocast(args...)` is deprecated. Please use `torch.amp.autocast('cuda', args...)` instead.\n",
      "  self.autocast,self.learn.scaler,self.scales = autocast(dtype=dtype),GradScaler(**self.kwargs),L()\n",
      "/home/ldinh/perso/.venv/lib64/python3.12/site-packages/torch/amp/autocast_mode.py:266: UserWarning: User provided device_type of 'cuda', but CUDA is not available. Disabling\n",
      "  warnings.warn(\n",
      "/home/ldinh/perso/.venv/lib64/python3.12/site-packages/fastai/callback/fp16.py:47: FutureWarning: `torch.cuda.amp.GradScaler(args...)` is deprecated. Please use `torch.amp.GradScaler('cuda', args...)` instead.\n",
      "  self.autocast,self.learn.scaler,self.scales = autocast(dtype=dtype),GradScaler(**self.kwargs),L()\n",
      "/home/ldinh/perso/.venv/lib64/python3.12/site-packages/torch/amp/grad_scaler.py:136: UserWarning: torch.cuda.amp.GradScaler is enabled, but CUDA is not available.  Disabling.\n",
      "  warnings.warn(\n"
     ]
    },
    {
     "name": "stderr",
     "output_type": "stream",
     "text": [
      "/home/ldinh/perso/.venv/lib64/python3.12/site-packages/fastai/callback/fp16.py:47: FutureWarning: `torch.cuda.amp.autocast(args...)` is deprecated. Please use `torch.amp.autocast('cuda', args...)` instead.\n",
      "  self.autocast,self.learn.scaler,self.scales = autocast(dtype=dtype),GradScaler(**self.kwargs),L()\n",
      "/home/ldinh/perso/.venv/lib64/python3.12/site-packages/torch/amp/autocast_mode.py:266: UserWarning: User provided device_type of 'cuda', but CUDA is not available. Disabling\n",
      "  warnings.warn(\n",
      "/home/ldinh/perso/.venv/lib64/python3.12/site-packages/fastai/callback/fp16.py:47: FutureWarning: `torch.cuda.amp.GradScaler(args...)` is deprecated. Please use `torch.amp.GradScaler('cuda', args...)` instead.\n",
      "  self.autocast,self.learn.scaler,self.scales = autocast(dtype=dtype),GradScaler(**self.kwargs),L()\n",
      "/home/ldinh/perso/.venv/lib64/python3.12/site-packages/torch/amp/grad_scaler.py:136: UserWarning: torch.cuda.amp.GradScaler is enabled, but CUDA is not available.  Disabling.\n",
      "  warnings.warn(\n"
     ]
    },
    {
     "name": "stderr",
     "output_type": "stream",
     "text": [
      "/home/ldinh/perso/.venv/lib64/python3.12/site-packages/fastai/callback/fp16.py:47: FutureWarning: `torch.cuda.amp.autocast(args...)` is deprecated. Please use `torch.amp.autocast('cuda', args...)` instead.\n",
      "  self.autocast,self.learn.scaler,self.scales = autocast(dtype=dtype),GradScaler(**self.kwargs),L()\n",
      "/home/ldinh/perso/.venv/lib64/python3.12/site-packages/torch/amp/autocast_mode.py:266: UserWarning: User provided device_type of 'cuda', but CUDA is not available. Disabling\n",
      "  warnings.warn(\n",
      "/home/ldinh/perso/.venv/lib64/python3.12/site-packages/fastai/callback/fp16.py:47: FutureWarning: `torch.cuda.amp.GradScaler(args...)` is deprecated. Please use `torch.amp.GradScaler('cuda', args...)` instead.\n",
      "  self.autocast,self.learn.scaler,self.scales = autocast(dtype=dtype),GradScaler(**self.kwargs),L()\n",
      "/home/ldinh/perso/.venv/lib64/python3.12/site-packages/torch/amp/grad_scaler.py:136: UserWarning: torch.cuda.amp.GradScaler is enabled, but CUDA is not available.  Disabling.\n",
      "  warnings.warn(\n",
      "/home/ldinh/perso/.venv/lib64/python3.12/site-packages/fastai/callback/fp16.py:47: FutureWarning: `torch.cuda.amp.autocast(args...)` is deprecated. Please use `torch.amp.autocast('cuda', args...)` instead.\n",
      "  self.autocast,self.learn.scaler,self.scales = autocast(dtype=dtype),GradScaler(**self.kwargs),L()\n",
      "/home/ldinh/perso/.venv/lib64/python3.12/site-packages/torch/amp/autocast_mode.py:266: UserWarning: User provided device_type of 'cuda', but CUDA is not available. Disabling\n",
      "  warnings.warn(\n",
      "/home/ldinh/perso/.venv/lib64/python3.12/site-packages/fastai/callback/fp16.py:47: FutureWarning: `torch.cuda.amp.GradScaler(args...)` is deprecated. Please use `torch.amp.GradScaler('cuda', args...)` instead.\n",
      "  self.autocast,self.learn.scaler,self.scales = autocast(dtype=dtype),GradScaler(**self.kwargs),L()\n",
      "/home/ldinh/perso/.venv/lib64/python3.12/site-packages/torch/amp/grad_scaler.py:136: UserWarning: torch.cuda.amp.GradScaler is enabled, but CUDA is not available.  Disabling.\n",
      "  warnings.warn(\n"
     ]
    },
    {
     "name": "stderr",
     "output_type": "stream",
     "text": [
      "/home/ldinh/perso/.venv/lib64/python3.12/site-packages/fastai/callback/fp16.py:47: FutureWarning: `torch.cuda.amp.autocast(args...)` is deprecated. Please use `torch.amp.autocast('cuda', args...)` instead.\n",
      "  self.autocast,self.learn.scaler,self.scales = autocast(dtype=dtype),GradScaler(**self.kwargs),L()\n",
      "/home/ldinh/perso/.venv/lib64/python3.12/site-packages/torch/amp/autocast_mode.py:266: UserWarning: User provided device_type of 'cuda', but CUDA is not available. Disabling\n",
      "  warnings.warn(\n",
      "/home/ldinh/perso/.venv/lib64/python3.12/site-packages/fastai/callback/fp16.py:47: FutureWarning: `torch.cuda.amp.GradScaler(args...)` is deprecated. Please use `torch.amp.GradScaler('cuda', args...)` instead.\n",
      "  self.autocast,self.learn.scaler,self.scales = autocast(dtype=dtype),GradScaler(**self.kwargs),L()\n",
      "/home/ldinh/perso/.venv/lib64/python3.12/site-packages/torch/amp/grad_scaler.py:136: UserWarning: torch.cuda.amp.GradScaler is enabled, but CUDA is not available.  Disabling.\n",
      "  warnings.warn(\n"
     ]
    },
    {
     "name": "stderr",
     "output_type": "stream",
     "text": [
      "/home/ldinh/perso/.venv/lib64/python3.12/site-packages/fastai/callback/fp16.py:47: FutureWarning: `torch.cuda.amp.autocast(args...)` is deprecated. Please use `torch.amp.autocast('cuda', args...)` instead.\n",
      "  self.autocast,self.learn.scaler,self.scales = autocast(dtype=dtype),GradScaler(**self.kwargs),L()\n",
      "/home/ldinh/perso/.venv/lib64/python3.12/site-packages/torch/amp/autocast_mode.py:266: UserWarning: User provided device_type of 'cuda', but CUDA is not available. Disabling\n",
      "  warnings.warn(\n",
      "/home/ldinh/perso/.venv/lib64/python3.12/site-packages/fastai/callback/fp16.py:47: FutureWarning: `torch.cuda.amp.GradScaler(args...)` is deprecated. Please use `torch.amp.GradScaler('cuda', args...)` instead.\n",
      "  self.autocast,self.learn.scaler,self.scales = autocast(dtype=dtype),GradScaler(**self.kwargs),L()\n",
      "/home/ldinh/perso/.venv/lib64/python3.12/site-packages/torch/amp/grad_scaler.py:136: UserWarning: torch.cuda.amp.GradScaler is enabled, but CUDA is not available.  Disabling.\n",
      "  warnings.warn(\n",
      "/home/ldinh/perso/.venv/lib64/python3.12/site-packages/fastai/callback/fp16.py:47: FutureWarning: `torch.cuda.amp.autocast(args...)` is deprecated. Please use `torch.amp.autocast('cuda', args...)` instead.\n",
      "  self.autocast,self.learn.scaler,self.scales = autocast(dtype=dtype),GradScaler(**self.kwargs),L()\n",
      "/home/ldinh/perso/.venv/lib64/python3.12/site-packages/torch/amp/autocast_mode.py:266: UserWarning: User provided device_type of 'cuda', but CUDA is not available. Disabling\n",
      "  warnings.warn(\n",
      "/home/ldinh/perso/.venv/lib64/python3.12/site-packages/fastai/callback/fp16.py:47: FutureWarning: `torch.cuda.amp.GradScaler(args...)` is deprecated. Please use `torch.amp.GradScaler('cuda', args...)` instead.\n",
      "  self.autocast,self.learn.scaler,self.scales = autocast(dtype=dtype),GradScaler(**self.kwargs),L()\n",
      "/home/ldinh/perso/.venv/lib64/python3.12/site-packages/torch/amp/grad_scaler.py:136: UserWarning: torch.cuda.amp.GradScaler is enabled, but CUDA is not available.  Disabling.\n",
      "  warnings.warn(\n"
     ]
    },
    {
     "name": "stderr",
     "output_type": "stream",
     "text": [
      "/home/ldinh/perso/.venv/lib64/python3.12/site-packages/fastai/callback/fp16.py:47: FutureWarning: `torch.cuda.amp.autocast(args...)` is deprecated. Please use `torch.amp.autocast('cuda', args...)` instead.\n",
      "  self.autocast,self.learn.scaler,self.scales = autocast(dtype=dtype),GradScaler(**self.kwargs),L()\n",
      "/home/ldinh/perso/.venv/lib64/python3.12/site-packages/torch/amp/autocast_mode.py:266: UserWarning: User provided device_type of 'cuda', but CUDA is not available. Disabling\n",
      "  warnings.warn(\n",
      "/home/ldinh/perso/.venv/lib64/python3.12/site-packages/fastai/callback/fp16.py:47: FutureWarning: `torch.cuda.amp.GradScaler(args...)` is deprecated. Please use `torch.amp.GradScaler('cuda', args...)` instead.\n",
      "  self.autocast,self.learn.scaler,self.scales = autocast(dtype=dtype),GradScaler(**self.kwargs),L()\n",
      "/home/ldinh/perso/.venv/lib64/python3.12/site-packages/torch/amp/grad_scaler.py:136: UserWarning: torch.cuda.amp.GradScaler is enabled, but CUDA is not available.  Disabling.\n",
      "  warnings.warn(\n",
      "/home/ldinh/perso/.venv/lib64/python3.12/site-packages/fastai/callback/fp16.py:47: FutureWarning: `torch.cuda.amp.autocast(args...)` is deprecated. Please use `torch.amp.autocast('cuda', args...)` instead.\n",
      "  self.autocast,self.learn.scaler,self.scales = autocast(dtype=dtype),GradScaler(**self.kwargs),L()\n",
      "/home/ldinh/perso/.venv/lib64/python3.12/site-packages/torch/amp/autocast_mode.py:266: UserWarning: User provided device_type of 'cuda', but CUDA is not available. Disabling\n",
      "  warnings.warn(\n",
      "/home/ldinh/perso/.venv/lib64/python3.12/site-packages/fastai/callback/fp16.py:47: FutureWarning: `torch.cuda.amp.GradScaler(args...)` is deprecated. Please use `torch.amp.GradScaler('cuda', args...)` instead.\n",
      "  self.autocast,self.learn.scaler,self.scales = autocast(dtype=dtype),GradScaler(**self.kwargs),L()\n",
      "/home/ldinh/perso/.venv/lib64/python3.12/site-packages/torch/amp/grad_scaler.py:136: UserWarning: torch.cuda.amp.GradScaler is enabled, but CUDA is not available.  Disabling.\n",
      "  warnings.warn(\n"
     ]
    },
    {
     "name": "stderr",
     "output_type": "stream",
     "text": [
      "/home/ldinh/perso/.venv/lib64/python3.12/site-packages/fastai/callback/fp16.py:47: FutureWarning: `torch.cuda.amp.autocast(args...)` is deprecated. Please use `torch.amp.autocast('cuda', args...)` instead.\n",
      "  self.autocast,self.learn.scaler,self.scales = autocast(dtype=dtype),GradScaler(**self.kwargs),L()\n",
      "/home/ldinh/perso/.venv/lib64/python3.12/site-packages/torch/amp/autocast_mode.py:266: UserWarning: User provided device_type of 'cuda', but CUDA is not available. Disabling\n",
      "  warnings.warn(\n",
      "/home/ldinh/perso/.venv/lib64/python3.12/site-packages/fastai/callback/fp16.py:47: FutureWarning: `torch.cuda.amp.GradScaler(args...)` is deprecated. Please use `torch.amp.GradScaler('cuda', args...)` instead.\n",
      "  self.autocast,self.learn.scaler,self.scales = autocast(dtype=dtype),GradScaler(**self.kwargs),L()\n",
      "/home/ldinh/perso/.venv/lib64/python3.12/site-packages/torch/amp/grad_scaler.py:136: UserWarning: torch.cuda.amp.GradScaler is enabled, but CUDA is not available.  Disabling.\n",
      "  warnings.warn(\n"
     ]
    }
   ],
   "source": [
    "#| echo: true\n",
    "#| output: true\n",
    "#| eval: true\n",
    "#| warning: false\n",
    "\n",
    "TEXT = \"I liked this movie so\"\n",
    "\n",
    "N_WORDS = 40\n",
    "\n",
    "N_SENTENCES = 2\n",
    "\n",
    "preds = [learn.predict(TEXT, N_WORDS, temperature=0.75) for _ in range(N_SENTENCES)]"
   ]
  },
  {
   "cell_type": "code",
   "execution_count": 19,
   "id": "6efcd3a4",
   "metadata": {},
   "outputs": [
    {
     "name": "stdout",
     "output_type": "stream",
     "text": [
      "i liked this movie so much . The characters were believable , the story was believable and entertaining . i will never forget it . Everyone i see this movie has a great time watching it . It is a GREAT\n",
      "i liked this movie so much . Although it is not a \" straight to DVD \" movie , it is definitely worth checking out . If you are looking for a good comedy , this is not for you .\n"
     ]
    }
   ],
   "source": [
    "print(\"\\n\".join(preds))"
   ]
  },
  {
   "cell_type": "code",
   "execution_count": 20,
   "id": "5d27eb44",
   "metadata": {
    "cache": true
   },
   "outputs": [],
   "source": [
    "dls_clas = DataBlock(\n",
    "    blocks=(TextBlock.from_folder(path, vocab=dls_lm.vocab),CategoryBlock),\n",
    "    get_y = parent_label,\n",
    "    get_items=partial(get_text_files, folders=['train', 'test']),\n",
    "    splitter=GrandparentSplitter(valid_name='test')\n",
    ").dataloaders(path, path=path, bs=128, seq_len=72)"
   ]
  },
  {
   "cell_type": "code",
   "execution_count": 21,
   "id": "6d56cda1",
   "metadata": {
    "cache": true
   },
   "outputs": [],
   "source": [
    "learn = text_classifier_learner(dls_clas, AWD_LSTM, drop_mult=0.5,\n",
    "                                metrics=accuracy).to_fp16()"
   ]
  },
  {
   "cell_type": "code",
   "execution_count": 22,
   "id": "8c8f6570",
   "metadata": {
    "cache": true
   },
   "outputs": [
    {
     "data": {
      "text/plain": [
       "<fastai.text.learner.TextLearner at 0x7f1c55cccbf0>"
      ]
     },
     "execution_count": 21,
     "metadata": {},
     "output_type": "execute_result"
    }
   ],
   "source": [
    "learn.load_encoder('finetuned')"
   ]
  },
  {
   "cell_type": "code",
   "execution_count": 23,
   "id": "7cceeabf",
   "metadata": {
    "cache": true,
    "message": false
   },
   "outputs": [
    {
     "name": "stderr",
     "output_type": "stream",
     "text": [
      "/home/ldinh/perso/.venv/lib64/python3.12/site-packages/fastai/callback/fp16.py:47: FutureWarning: `torch.cuda.amp.autocast(args...)` is deprecated. Please use `torch.amp.autocast('cuda', args...)` instead.\n",
      "  self.autocast,self.learn.scaler,self.scales = autocast(dtype=dtype),GradScaler(**self.kwargs),L()\n",
      "/home/ldinh/perso/.venv/lib64/python3.12/site-packages/torch/amp/autocast_mode.py:266: UserWarning: User provided device_type of 'cuda', but CUDA is not available. Disabling\n",
      "  warnings.warn(\n",
      "/home/ldinh/perso/.venv/lib64/python3.12/site-packages/fastai/callback/fp16.py:47: FutureWarning: `torch.cuda.amp.GradScaler(args...)` is deprecated. Please use `torch.amp.GradScaler('cuda', args...)` instead.\n",
      "  self.autocast,self.learn.scaler,self.scales = autocast(dtype=dtype),GradScaler(**self.kwargs),L()\n",
      "/home/ldinh/perso/.venv/lib64/python3.12/site-packages/torch/amp/grad_scaler.py:136: UserWarning: torch.cuda.amp.GradScaler is enabled, but CUDA is not available.  Disabling.\n",
      "  warnings.warn(\n"
     ]
    },
    {
     "data": {
      "text/html": [
       "\n",
       "<style>\n",
       "    /* Turns off some styling */\n",
       "    progress {\n",
       "        /* gets rid of default border in Firefox and Opera. */\n",
       "        border: none;\n",
       "        /* Needs to be in here for Safari polyfill so background images work as expected. */\n",
       "        background-size: auto;\n",
       "    }\n",
       "    progress:not([value]), progress:not([value])::-webkit-progress-bar {\n",
       "        background: repeating-linear-gradient(45deg, #7e7e7e, #7e7e7e 10px, #5c5c5c 10px, #5c5c5c 20px);\n",
       "    }\n",
       "    .progress-bar-interrupted, .progress-bar-interrupted::-webkit-progress-bar {\n",
       "        background: #F44336;\n",
       "    }\n",
       "</style>\n"
      ],
      "text/plain": [
       "<IPython.core.display.HTML object>"
      ]
     },
     "metadata": {},
     "output_type": "display_data"
    },
    {
     "data": {
      "text/html": [
       "<table border=\"1\" class=\"dataframe\">\n",
       "  <thead>\n",
       "    <tr style=\"text-align: left;\">\n",
       "      <th>epoch</th>\n",
       "      <th>train_loss</th>\n",
       "      <th>valid_loss</th>\n",
       "      <th>accuracy</th>\n",
       "      <th>time</th>\n",
       "    </tr>\n",
       "  </thead>\n",
       "  <tbody>\n",
       "    <tr>\n",
       "      <td>0</td>\n",
       "      <td>0.219989</td>\n",
       "      <td>0.168302</td>\n",
       "      <td>0.937000</td>\n",
       "      <td>09:15</td>\n",
       "    </tr>\n",
       "  </tbody>\n",
       "</table>"
      ],
      "text/plain": [
       "<IPython.core.display.HTML object>"
      ]
     },
     "metadata": {},
     "output_type": "display_data"
    }
   ],
   "source": [
    "#| warning: false\n",
    "#| eval: true\n",
    "learn.freeze_to(-2)\n",
    "learn.fit_one_cycle(1, slice(1e-2/(2.6**4),1e-2))"
   ]
  },
  {
   "cell_type": "code",
   "execution_count": 24,
   "id": "f276ba1f",
   "metadata": {
    "cache": true,
    "message": false
   },
   "outputs": [
    {
     "name": "stderr",
     "output_type": "stream",
     "text": [
      "/home/ldinh/perso/.venv/lib64/python3.12/site-packages/fastai/callback/fp16.py:47: FutureWarning: `torch.cuda.amp.autocast(args...)` is deprecated. Please use `torch.amp.autocast('cuda', args...)` instead.\n",
      "  self.autocast,self.learn.scaler,self.scales = autocast(dtype=dtype),GradScaler(**self.kwargs),L()\n",
      "/home/ldinh/perso/.venv/lib64/python3.12/site-packages/torch/amp/autocast_mode.py:266: UserWarning: User provided device_type of 'cuda', but CUDA is not available. Disabling\n",
      "  warnings.warn(\n",
      "/home/ldinh/perso/.venv/lib64/python3.12/site-packages/fastai/callback/fp16.py:47: FutureWarning: `torch.cuda.amp.GradScaler(args...)` is deprecated. Please use `torch.amp.GradScaler('cuda', args...)` instead.\n",
      "  self.autocast,self.learn.scaler,self.scales = autocast(dtype=dtype),GradScaler(**self.kwargs),L()\n",
      "/home/ldinh/perso/.venv/lib64/python3.12/site-packages/torch/amp/grad_scaler.py:136: UserWarning: torch.cuda.amp.GradScaler is enabled, but CUDA is not available.  Disabling.\n",
      "  warnings.warn(\n"
     ]
    },
    {
     "data": {
      "text/html": [
       "\n",
       "<style>\n",
       "    /* Turns off some styling */\n",
       "    progress {\n",
       "        /* gets rid of default border in Firefox and Opera. */\n",
       "        border: none;\n",
       "        /* Needs to be in here for Safari polyfill so background images work as expected. */\n",
       "        background-size: auto;\n",
       "    }\n",
       "    progress:not([value]), progress:not([value])::-webkit-progress-bar {\n",
       "        background: repeating-linear-gradient(45deg, #7e7e7e, #7e7e7e 10px, #5c5c5c 10px, #5c5c5c 20px);\n",
       "    }\n",
       "    .progress-bar-interrupted, .progress-bar-interrupted::-webkit-progress-bar {\n",
       "        background: #F44336;\n",
       "    }\n",
       "</style>\n"
      ],
      "text/plain": [
       "<IPython.core.display.HTML object>"
      ]
     },
     "metadata": {},
     "output_type": "display_data"
    },
    {
     "data": {
      "text/html": [
       "<table border=\"1\" class=\"dataframe\">\n",
       "  <thead>\n",
       "    <tr style=\"text-align: left;\">\n",
       "      <th>epoch</th>\n",
       "      <th>train_loss</th>\n",
       "      <th>valid_loss</th>\n",
       "      <th>accuracy</th>\n",
       "      <th>time</th>\n",
       "    </tr>\n",
       "  </thead>\n",
       "  <tbody>\n",
       "    <tr>\n",
       "      <td>0</td>\n",
       "      <td>0.198631</td>\n",
       "      <td>0.152882</td>\n",
       "      <td>0.942440</td>\n",
       "      <td>11:43</td>\n",
       "    </tr>\n",
       "  </tbody>\n",
       "</table>"
      ],
      "text/plain": [
       "<IPython.core.display.HTML object>"
      ]
     },
     "metadata": {},
     "output_type": "display_data"
    }
   ],
   "source": [
    "#| warning: false\n",
    "#| eval: true\n",
    "learn.freeze_to(-3)\n",
    "learn.fit_one_cycle(1, slice(5e-3/(2.6**4),5e-3))"
   ]
  },
  {
   "cell_type": "code",
   "execution_count": 25,
   "id": "a54a1a91",
   "metadata": {
    "cache": true,
    "message": false
   },
   "outputs": [
    {
     "name": "stderr",
     "output_type": "stream",
     "text": [
      "/home/ldinh/perso/.venv/lib64/python3.12/site-packages/fastai/callback/fp16.py:47: FutureWarning: `torch.cuda.amp.autocast(args...)` is deprecated. Please use `torch.amp.autocast('cuda', args...)` instead.\n",
      "  self.autocast,self.learn.scaler,self.scales = autocast(dtype=dtype),GradScaler(**self.kwargs),L()\n",
      "/home/ldinh/perso/.venv/lib64/python3.12/site-packages/torch/amp/autocast_mode.py:266: UserWarning: User provided device_type of 'cuda', but CUDA is not available. Disabling\n",
      "  warnings.warn(\n",
      "/home/ldinh/perso/.venv/lib64/python3.12/site-packages/fastai/callback/fp16.py:47: FutureWarning: `torch.cuda.amp.GradScaler(args...)` is deprecated. Please use `torch.amp.GradScaler('cuda', args...)` instead.\n",
      "  self.autocast,self.learn.scaler,self.scales = autocast(dtype=dtype),GradScaler(**self.kwargs),L()\n",
      "/home/ldinh/perso/.venv/lib64/python3.12/site-packages/torch/amp/grad_scaler.py:136: UserWarning: torch.cuda.amp.GradScaler is enabled, but CUDA is not available.  Disabling.\n",
      "  warnings.warn(\n"
     ]
    },
    {
     "data": {
      "text/html": [
       "\n",
       "<style>\n",
       "    /* Turns off some styling */\n",
       "    progress {\n",
       "        /* gets rid of default border in Firefox and Opera. */\n",
       "        border: none;\n",
       "        /* Needs to be in here for Safari polyfill so background images work as expected. */\n",
       "        background-size: auto;\n",
       "    }\n",
       "    progress:not([value]), progress:not([value])::-webkit-progress-bar {\n",
       "        background: repeating-linear-gradient(45deg, #7e7e7e, #7e7e7e 10px, #5c5c5c 10px, #5c5c5c 20px);\n",
       "    }\n",
       "    .progress-bar-interrupted, .progress-bar-interrupted::-webkit-progress-bar {\n",
       "        background: #F44336;\n",
       "    }\n",
       "</style>\n"
      ],
      "text/plain": [
       "<IPython.core.display.HTML object>"
      ]
     },
     "metadata": {},
     "output_type": "display_data"
    },
    {
     "data": {
      "text/html": [
       "<table border=\"1\" class=\"dataframe\">\n",
       "  <thead>\n",
       "    <tr style=\"text-align: left;\">\n",
       "      <th>epoch</th>\n",
       "      <th>train_loss</th>\n",
       "      <th>valid_loss</th>\n",
       "      <th>accuracy</th>\n",
       "      <th>time</th>\n",
       "    </tr>\n",
       "  </thead>\n",
       "  <tbody>\n",
       "    <tr>\n",
       "      <td>0</td>\n",
       "      <td>0.160233</td>\n",
       "      <td>0.147829</td>\n",
       "      <td>0.945160</td>\n",
       "      <td>13:34</td>\n",
       "    </tr>\n",
       "    <tr>\n",
       "      <td>1</td>\n",
       "      <td>0.155604</td>\n",
       "      <td>0.143441</td>\n",
       "      <td>0.947920</td>\n",
       "      <td>13:35</td>\n",
       "    </tr>\n",
       "  </tbody>\n",
       "</table>"
      ],
      "text/plain": [
       "<IPython.core.display.HTML object>"
      ]
     },
     "metadata": {},
     "output_type": "display_data"
    }
   ],
   "source": [
    "#| warning: false\n",
    "#| eval: true\n",
    "learn.unfreeze()\n",
    "learn.fit_one_cycle(2, slice(1e-3/(2.6**4),1e-3))"
   ]
  }
 ],
 "metadata": {
  "kernelspec": {
   "display_name": "Python 3 (ipykernel)",
   "language": "python",
   "name": "python3",
   "path": "/usr/local/share/jupyter/kernels/python3"
  },
  "language_info": {
   "codemirror_mode": {
    "name": "ipython",
    "version": 3
   },
   "file_extension": ".py",
   "mimetype": "text/x-python",
   "name": "python",
   "nbconvert_exporter": "python",
   "pygments_lexer": "ipython3",
   "version": "3.12.8"
  }
 },
 "nbformat": 4,
 "nbformat_minor": 5
}