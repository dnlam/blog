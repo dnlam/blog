{
  "cells": [
    {
      "cell_type": "raw",
      "metadata": {},
      "source": [
        "---\n",
        "title: Building SoTA Convolution Neural Networks for Image Recognition\n",
        "date: '2022-05-10'\n",
        "categories:\n",
        "  - CNN\n",
        "  - code\n",
        "image: resnet.png\n",
        "pdf-engine: pdflatex\n",
        "format:\n",
        "  html:\n",
        "    code-fold: true\n",
        "    fig-cap-location: bottom\n",
        "    tbl-cap-location: top\n",
        "    toc: true\n",
        "    toc-depth: 3\n",
        "    toc-location: left\n",
        "    toc-title: Contents\n",
        "crossref:\n",
        "  fig-title: Figure\n",
        "  eq-title: Equation\n",
        "  tbl-title: Table\n",
        "execute:\n",
        "  cache: true\n",
        "  freeze: auto\n",
        "---"
      ],
      "id": "2a656d5e"
    },
    {
      "cell_type": "code",
      "metadata": {
        "message": false,
        "cache": true
      },
      "source": [
        "#| echo: false\n",
        "#| output: false\n",
        "#| eval: true\n",
        "#| warning: false\n",
        "from fastai.vision.all import *\n",
        "from fastai.vision.models import *\n",
        "import pandas as pd\n",
        "import numpy as np\n",
        "\n",
        "path_imagenette=untar_data(URLs.IMAGENETTE)\n",
        "path_mnist=untar_data(URLs.MNIST_SAMPLE)\n",
        "im3 = Image.open(path_mnist/'train'/'3'/'12.png')\n",
        "show_image(im3)"
      ],
      "id": "f74eea86",
      "execution_count": null,
      "outputs": []
    },
    {
      "cell_type": "markdown",
      "metadata": {},
      "source": [
        "# Overview\n",
        "\n",
        "In this blog post, we will explore the architecture of Convolution Neural Networks (CNN) and how they have been used to achieve state-of-the-art performance in image recognition tasks. We will also discuss some of the key components of CNNs, such as convolution layers, pooling layers, and activation functions. Finally, we will look at one of the most popular CNN architectures: `ResNet`.\n",
        "\n",
        "# Overview of Convolution Neural Networks (CNN)\n",
        "In the context of computer vision, **feature engineering** is the process of using domain knowledge to extract distinctive attributes from images that can be used to improve the performance of machine learning algorithms. For instance, in image classification tasks, the number 7 is characterized by a horizontal edge near the top, and a diagonal line that goes down to the right. These features can be used to distinguish the number 7 from other digits.\n",
        "\n",
        "It turns out that finding the edges in an image is a crucial step in computer vision tasks. To achieve this, we can use a technique called **convolution**. Convolution is a mathematical operation that takes two inputs: an image and a filter (also known as a kernel). The filter is a small matrix that is used to scan the image and extract features. For example, the following filter can be used to detect horizontal edges in an image\n",
        "\n",
        "## Convolution Layer\n",
        "A convolution layer applies a set of filters (i.e., **kernel**) to the input image to extract features. Each filter/kernel is a small matrix that is used to scan the image and extract features. The output of a convolution layer is a set of feature maps, which are the result of applying each filter to the input image.\n",
        "![An example of kernel](./imgs/kernel.png){#fig-kernel fig-align=\"center\"}\n",
        "\n",
        "As illustrated in Figure @fig-kernel, a 3x3 matrix kernel is applied to the input image, which is 7x7 grid. The kernel is applied to each pixel in the image, and the output is a new pixel value that is calculated by taking the dot product of the kernel and the corresponding pixels in the image. This process is repeated for each pixel in the image, resulting in a new feature map.\n",
        "\n",
        "Let's take another look at how convolution works in practice. We will use the `im3` image, which is a 28x28 grayscale image of the digit 3 from the MNIST dataset. We will apply a 3x3 kernel to the image to extract features."
      ],
      "id": "02c2b02e"
    },
    {
      "cell_type": "code",
      "metadata": {
        "message": false,
        "cache": true
      },
      "source": [
        "#| echo: false\n",
        "#| output: true\n",
        "#| eval: true\n",
        "#| warning: false\n",
        "\n",
        "im3_t=tensor(im3)\n",
        "df = pd.DataFrame(im3_t[:10,:30])\n",
        "df.style.set_properties(**{'font-size':'6pt'}).background_gradient('Greys')"
      ],
      "id": "0f99c082",
      "execution_count": null,
      "outputs": []
    },
    {
      "cell_type": "markdown",
      "metadata": {},
      "source": [
        "Let's define a kernel that detects horizontal edges in the image. The kernel is a 3x3 matrix with values that are designed to highlight horizontal edges."
      ],
      "id": "9c0b6ae1"
    },
    {
      "cell_type": "code",
      "metadata": {},
      "source": [
        "kernel = tensor([[-1., -1., -1.],\n",
        "                 [ 0.,  0.,  0.],\n",
        "                 [ 1.,  1.,  1.]]).float()"
      ],
      "id": "23cabb49",
      "execution_count": null,
      "outputs": []
    },
    {
      "cell_type": "markdown",
      "metadata": {},
      "source": [
        "## Strides and Padding\n",
        "## Improving Training Stability\n",
        "\n",
        "# Residual Networks (ResNet)\n",
        "\n",
        "# Conclusions"
      ],
      "id": "121d34b4"
    }
  ],
  "metadata": {
    "kernelspec": {
      "name": "python3",
      "language": "python",
      "display_name": "Python 3 (ipykernel)",
      "path": "/home/ec2-user/perso/.perso/share/jupyter/kernels/python3"
    }
  },
  "nbformat": 4,
  "nbformat_minor": 5
}